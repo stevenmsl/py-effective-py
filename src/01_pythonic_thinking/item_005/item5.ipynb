{
 "metadata": {
  "language_info": {
   "codemirror_mode": {
    "name": "ipython",
    "version": 3
   },
   "file_extension": ".py",
   "mimetype": "text/x-python",
   "name": "python",
   "nbconvert_exporter": "python",
   "pygments_lexer": "ipython3",
   "version": "3.8.3-final"
  },
  "orig_nbformat": 2,
  "kernelspec": {
   "name": "Python 3.8.3 64-bit ('python-features': pipenv)",
   "display_name": "Python 3.8.3 64-bit ('python-features': pipenv)",
   "metadata": {
    "interpreter": {
     "hash": "72d857dadf07e42bf16e31285434fc2d8f4ad38f240229afb6ae195783c32492"
    }
   }
  }
 },
 "nbformat": 4,
 "nbformat_minor": 2,
 "cells": [
  {
   "source": [
    "Item 5 Write Helper Functions Instead of Complex Expressions \n",
    "\n",
    "Things to Remember\n",
    "- Python's syntax makes it easy to write single-line expressions that are overly complicated\n",
    "  and difficult to read.\n",
    "- Move complex expressions into helper functions, especially if you need to use the same\n",
    "  logic repeatedly.\n",
    "- An if/else expression provides a more readable alternative to using the Boolean operators 'or'\n",
    "  and 'and' in expressions.  \n"
   ],
   "cell_type": "markdown",
   "metadata": {}
  },
  {
   "cell_type": "code",
   "execution_count": null,
   "metadata": {
    "tags": []
   },
   "outputs": [],
   "source": [
    "from urllib.parse import parse_qs\n",
    "my_values = parse_qs('red=5&blue=0&green=', keep_blank_values=True)\n",
    "print(repr(my_values))\n"
   ]
  },
  {
   "cell_type": "code",
   "execution_count": null,
   "metadata": {
    "tags": []
   },
   "outputs": [],
   "source": [
    "# say you want to provie a default value of 0 when a parameter is not supplied or is blank\n",
    "red = int(my_values.get('red',[''])[0]) or 0\n",
    "green = my_values.get('green',[''])[0] or 0\n",
    "opacity = my_values.get('opacity',[''])[0] or 0\n",
    "\n",
    "print(f'Red:     {red!r}')\n",
    "print(f'Green:   {green!r}')\n",
    "print(f'Opacity: {opacity!r}')\n",
    "\n"
   ]
  },
  {
   "source": [
    "Note\n",
    "- red!r - it calls the repr of the value (red) supplied.\n",
    "- '5' is implicitly evaluates to True. So red is '5'.\n",
    "- The empty string implicitly evaluates to False. So green is 0.\n",
    "- The get returns the second argument as it can't find the key 'opacity'. So opacity is 0\n",
    "- This is becoming hard to read, and the code isn't approachable."
   ],
   "cell_type": "markdown",
   "metadata": {}
  },
  {
   "cell_type": "code",
   "execution_count": null,
   "metadata": {},
   "outputs": [],
   "source": [
    "# improvement using if/else conditional\n",
    "red_str = my_values.get('red',[''])\n",
    "red = int(red_str[0]) if red_str[0] else 0"
   ]
  },
  {
   "cell_type": "code",
   "execution_count": 11,
   "metadata": {
    "tags": []
   },
   "outputs": [
    {
     "output_type": "stream",
     "name": "stdout",
     "text": "Green: 0\n"
    }
   ],
   "source": [
    "# improvement using a helper function\n",
    "def get_first_int(values, key, default=0):\n",
    "    found = values.get(key, [''])\n",
    "    if found[0]:\n",
    "        return int(round[0])\n",
    "    return default\n",
    "green = get_first_int(my_values,'green', 0)\n",
    "print(f'Green: {green!r}')"
   ]
  },
  {
   "cell_type": "code",
   "execution_count": null,
   "metadata": {},
   "outputs": [],
   "source": []
  }
 ]
}