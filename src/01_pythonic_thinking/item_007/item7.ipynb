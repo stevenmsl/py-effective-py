{
 "metadata": {
  "language_info": {
   "codemirror_mode": {
    "name": "ipython",
    "version": 3
   },
   "file_extension": ".py",
   "mimetype": "text/x-python",
   "name": "python",
   "nbconvert_exporter": "python",
   "pygments_lexer": "ipython3",
   "version": "3.8.3-final"
  },
  "orig_nbformat": 2,
  "kernelspec": {
   "name": "Python 3.8.3 64-bit ('py-effective-py': pipenv)",
   "display_name": "Python 3.8.3 64-bit ('py-effective-py': pipenv)",
   "metadata": {
    "interpreter": {
     "hash": "bf53ecf2be5b0c89778fbd17a3e30ef364a8b92138249caa59ed972682d3f38a"
    }
   }
  }
 },
 "nbformat": 4,
 "nbformat_minor": 2,
 "cells": [
  {
   "source": [
    "Item 7 Prefer enumerate Over range   \n",
    "\n",
    "Things to Remember\n",
    "- enumerate provides concise syntax for looping over an iterator and getting the index of each item from the iterator as you go. \n",
    "- Prefer enumerate instead of looping over a range and indexing into a sequence.\n",
    "- You can supply a second parameter to enumerate to specify the number from which to begin counting (zero is the default) \n"
   ],
   "cell_type": "markdown",
   "metadata": {}
  },
  {
   "cell_type": "code",
   "execution_count": null,
   "metadata": {
    "tags": []
   },
   "outputs": [],
   "source": [
    "# range built-in function is useful for loops that\n",
    "# iterate over a set of integers\n",
    "from random import randint \n",
    "random_bits = 0 \n",
    "for i in range(32):\n",
    "    if randint(0,1):\n",
    "        random_bits |= (1 << i) # left shit 1 i times and OR with random_bits\n",
    "print(bin(random_bits))"
   ]
  },
  {
   "source": [
    "- Python Bitwise Operators \n",
    "- x |= 3 is the same as x = x|3\n",
    "- |\tOR operator, sets each bit to 1 if one of two bits is 1\n",
    "- << zero fill left shift, shift left by pushing zeros in from the right and let the leftmost bits fall off\n",
    "\n",
    "  "
   ],
   "cell_type": "markdown",
   "metadata": {}
  },
  {
   "cell_type": "code",
   "execution_count": null,
   "metadata": {
    "tags": []
   },
   "outputs": [],
   "source": [
    "# loop directly over the sequence\n",
    "flavor_list = ['vanilla', 'chocolate', 'pecan', 'strawberry']\n",
    "for flavor in flavor_list:\n",
    "    print(f'{flavor} is delicious')"
   ]
  },
  {
   "cell_type": "code",
   "execution_count": null,
   "metadata": {
    "tags": []
   },
   "outputs": [],
   "source": [
    "# iterate over a list and know the index of the current item\n",
    "# a bit clumsy implementation \n",
    "flavor_list = ['vanilla', 'chocolate', 'pecan', 'strawberry']\n",
    "for i in range(len(flavor_list)):\n",
    "    flavor = flavor_list[i]\n",
    "    print(f'{i + 1}: {flavor}')"
   ]
  },
  {
   "cell_type": "code",
   "execution_count": null,
   "metadata": {
    "tags": []
   },
   "outputs": [],
   "source": [
    "# use enumerate\n",
    "flavor_list = ['vanilla', 'chocolate', 'pecan', 'strawberry']\n",
    "it = enumerate(flavor_list)\n",
    "print(next(it))\n",
    "print(next(it))"
   ]
  },
  {
   "source": [
    "- enumerate wraps any iterator with a lazy generator\n",
    "- enumerate yields pairs of the loop index and the value from the given iterator "
   ],
   "cell_type": "markdown",
   "metadata": {}
  },
  {
   "cell_type": "code",
   "execution_count": null,
   "metadata": {
    "tags": []
   },
   "outputs": [],
   "source": [
    "flavor_list = ['vanilla', 'chocolate', 'pecan', 'strawberry']\n",
    "for i, flavor in enumerate(flavor_list):\n",
    "    print(f'{i + 1}: {flavor}')\n",
    "for i, flavor in enumerate(flavor_list, 1): # specify the begin counting number\n",
    "    print(f'{i}: {flavor}')"
   ]
  },
  {
   "cell_type": "code",
   "execution_count": null,
   "metadata": {},
   "outputs": [],
   "source": []
  }
 ]
}