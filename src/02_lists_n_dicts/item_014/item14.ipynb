{
 "metadata": {
  "language_info": {
   "codemirror_mode": {
    "name": "ipython",
    "version": 3
   },
   "file_extension": ".py",
   "mimetype": "text/x-python",
   "name": "python",
   "nbconvert_exporter": "python",
   "pygments_lexer": "ipython3",
   "version": "3.8.3-final"
  },
  "orig_nbformat": 2,
  "kernelspec": {
   "name": "Python 3.8.3 64-bit ('py-effective-py': pipenv)",
   "display_name": "Python 3.8.3 64-bit ('py-effective-py': pipenv)",
   "metadata": {
    "interpreter": {
     "hash": "bf53ecf2be5b0c89778fbd17a3e30ef364a8b92138249caa59ed972682d3f38a"
    }
   }
  }
 },
 "nbformat": 4,
 "nbformat_minor": 2,
 "cells": [
  {
   "source": [
    "Item 14 Sort by Complex Criteria Using the key Parameter     \n",
    "\n",
    "Things to Remember\n",
    "- The sort method of the list type can be used to rearrange a list's contents by the natural ordering of built-in types like strings, integers, tuples, and so on.\n",
    "- The sort method doesn't work for objects unless they define a natural ordering using special methods, which is uncommon.\n",
    "- The key parameter of the sort method can be used to supply a helper function that returns the value to use for sorting in place of each item from the list.\n",
    "- Returning a tuple from the key function allows you to combine multiple sorting criteria together. The unary minus operator can be used to reverse individual sort orders for types that allow it.\n",
    "- For types that can't be negated, you can combine many sorting criteria together by calling the sort method multiple times using different key functions and reverse values, in the order of lowest rank sort call to highest rank sort call  "
   ],
   "cell_type": "markdown",
   "metadata": {}
  },
  {
   "cell_type": "code",
   "execution_count": null,
   "metadata": {},
   "outputs": [],
   "source": [
    "# sort will order a list's contents by the natural ascending order of the items\n",
    "numbers = [93, 86, 11, 68, 70]\n",
    "numbers.sort()\n",
    "print(numbers)"
   ]
  },
  {
   "cell_type": "code",
   "execution_count": null,
   "metadata": {},
   "outputs": [],
   "source": [
    "# what does sort do with objects?\n",
    "class Tool:\n",
    "    def __init__(self, name, weight):\n",
    "        self.name = name\n",
    "        self.weight = weight\n",
    "    def __repr__(self):\n",
    "        return f'Tool({self.name!r}, {self.weight})'\n",
    "tools = [\n",
    "    Tool('level', 3.5),\n",
    "    Tool('hammer', 1.25),\n",
    "    Tool('screwdriver', 0.5),\n",
    "    Tool('chisel', 0.25)\n",
    "]"
   ]
  },
  {
   "cell_type": "code",
   "execution_count": null,
   "metadata": {},
   "outputs": [],
   "source": [
    "tools.sort() # error"
   ]
  },
  {
   "source": [
    "- the sort method accepts a key parameter that's expected to be a function\n",
    "- the key function is passed a single argument, which is an item from the list that is being sorted\n",
    "- the return value of the key function should be a comparable value to use in place of an item for sorting purpose"
   ],
   "cell_type": "markdown",
   "metadata": {}
  },
  {
   "cell_type": "code",
   "execution_count": null,
   "metadata": {},
   "outputs": [],
   "source": [
    "print('Unsorted:', repr(tools))\n",
    "tools.sort(key=lambda x: x.name) # sort by name alphabetically\n",
    "print('\\nSorted: ', tools)"
   ]
  },
  {
   "cell_type": "code",
   "execution_count": null,
   "metadata": {},
   "outputs": [],
   "source": [
    "tools.sort(key=lambda x: x.weight)\n",
    "print('By weight: ', tools)"
   ]
  },
  {
   "cell_type": "code",
   "execution_count": null,
   "metadata": {},
   "outputs": [],
   "source": [
    "# use the key function to transform data before sorting\n",
    "places = ['home', 'work', 'New York', 'Paris']\n",
    "places.sort()\n",
    "print('Case sensitive:  ', places)\n",
    "places.sort(key=lambda x: x.lower())\n",
    "print('Case insensitive:  ', places)"
   ]
  },
  {
   "source": [
    "- tuples are comparable by default and have a natural ordering\n",
    "- tuples implement all the special methods required by the sort method\n",
    "- tuples implement these special comparators by iterating over each position in the tuple and comparing the corresponding values one index at a time  "
   ],
   "cell_type": "markdown",
   "metadata": {}
  },
  {
   "cell_type": "code",
   "execution_count": null,
   "metadata": {},
   "outputs": [],
   "source": [
    "saw = (5, 'circular saw')\n",
    "jackhammer = (40, 'jackhammer')\n",
    "assert not (jackhammer < saw) # 5 < 40 so no need to move on to the second position to compare"
   ]
  },
  {
   "cell_type": "code",
   "execution_count": null,
   "metadata": {},
   "outputs": [],
   "source": [
    "drill = (4, 'drill')\n",
    "sander = (4, 'sander')\n",
    "assert drill[0] == sander[0] # same weight, move on to the second position\n",
    "assert drill[1] < sander[1] # alphabetically less\n",
    "assert drill < sander"
   ]
  },
  {
   "cell_type": "code",
   "execution_count": null,
   "metadata": {},
   "outputs": [],
   "source": [
    "# take advantage of tuple's comparison behavior shown above \n",
    "# when you need to use multiple criteria for sorting\n",
    "power_tools = [\n",
    "    Tool('drill', 4),\n",
    "    Tool('circular saw', 5),\n",
    "    Tool('jackhammer', 40),\n",
    "    Tool('sander', 4)\n",
    "]\n",
    "power_tools.sort(key=lambda x: (x.weight, x.name)) # key function returns a tuple\n",
    "print(power_tools)"
   ]
  },
  {
   "cell_type": "code",
   "execution_count": null,
   "metadata": {},
   "outputs": [],
   "source": [
    "# limitation: for the key function that returns a tuple the direction of sorting\n",
    "# for all criteria must be the same\n",
    "power_tools.sort(key=lambda x: (x.weight, x.name), reverse=True)\n",
    "print(power_tools)"
   ]
  },
  {
   "cell_type": "code",
   "execution_count": null,
   "metadata": {},
   "outputs": [],
   "source": [
    "# use unary minus operator in the key function to negate the numerical values in the returned tuple\n",
    "# this will reverse the sort order for the attributes being negated while leaving others intact\n",
    "power_tools.sort(key=lambda x: (-x.weight, x.name))\n",
    "print(power_tools)"
   ]
  },
  {
   "cell_type": "code",
   "execution_count": null,
   "metadata": {},
   "outputs": [],
   "source": [
    "# unary negation won't work for all types though\n",
    "power_tools.sort(key=lambda x: (x.weight, -x.name), reverse=True) # error"
   ]
  },
  {
   "cell_type": "code",
   "execution_count": null,
   "metadata": {},
   "outputs": [],
   "source": [
    "# The sort method of the list type will preserve the order of the input list \n",
    "# when the key function returns values that are equal\n",
    "\n",
    "power_tools.sort(key=lambda x: x.name)\n",
    "print(power_tools) \n",
    "\n"
   ]
  },
  {
   "source": [
    "- The result looks like this:\n",
    "\\- \\[Tool('circular saw', 5), Tool('drill', 4), Tool('jackhammer', 40), Tool('sander', 4)\\]\n",
    "- note that 'drill' appears before 'sander', and they both have the same weight  \n",
    "- this order, 'drill' appears before 'sander', will be maintained, when the above list is sorted again but this time on the weight attribute.\n",
    "- so the order,'drill' before 'sander',  will be preserved as the key function returns 4 on both tools when the list being sorted again but this time by the weight attribute.\n"
   ],
   "cell_type": "markdown",
   "metadata": {}
  },
  {
   "cell_type": "code",
   "execution_count": null,
   "metadata": {},
   "outputs": [],
   "source": [
    "power_tools.sort(key=lambda x: x.weight, reverse=True)\n",
    "print(power_tools) "
   ]
  },
  {
   "source": [
    "- so this how you sort the list by name with ascending direction and by weight with descending direction\n",
    "- you make separate calls to sort"
   ],
   "cell_type": "markdown",
   "metadata": {}
  }
 ]
}