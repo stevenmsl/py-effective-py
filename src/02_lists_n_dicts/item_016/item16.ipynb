{
 "metadata": {
  "language_info": {
   "codemirror_mode": {
    "name": "ipython",
    "version": 3
   },
   "file_extension": ".py",
   "mimetype": "text/x-python",
   "name": "python",
   "nbconvert_exporter": "python",
   "pygments_lexer": "ipython3",
   "version": "3.8.3-final"
  },
  "orig_nbformat": 2,
  "kernelspec": {
   "name": "Python 3.8.3 64-bit ('.venv': venv)",
   "display_name": "Python 3.8.3 64-bit ('.venv': venv)",
   "metadata": {
    "interpreter": {
     "hash": "bf53ecf2be5b0c89778fbd17a3e30ef364a8b92138249caa59ed972682d3f38a"
    }
   }
  }
 },
 "nbformat": 4,
 "nbformat_minor": 2,
 "cells": [
  {
   "source": [
    "Item 16 Prefer get Over in and KeyError to Handle Missing Dictionary Keys      \n",
    "\n",
    "Things to Remember\n",
    "- There are four common ways to detect and handle missing keys in dictionaries: using in expressions, KeyError exceptions, the get method, and the setdefault method.\n",
    "- The get method is the best for dictionaries that contain basic types like counters, and it is preferable along with assignment expressions when creating dictionary values has a high cost or may riase exceptions.\n",
    "- When the setdefault method of dict seems like the best fit for your problem, you should consider using defaultdict instead (Item 17)."
   ],
   "cell_type": "markdown",
   "metadata": {}
  },
  {
   "cell_type": "code",
   "execution_count": null,
   "metadata": {},
   "outputs": [],
   "source": [
    "counters = {\n",
    "    'pumpernickel' : 2,\n",
    "    'sourdough': 1\n",
    "}"
   ]
  },
  {
   "cell_type": "code",
   "execution_count": null,
   "metadata": {},
   "outputs": [],
   "source": [
    "# first approach - using if statement with an in expression\n",
    "# worst case - accessing the key two times and assigning it once\n",
    "key = 'wheat'\n",
    "if key in counters: # access the key\n",
    "    count = counters[key] # access the key\n",
    "else:\n",
    "    count = 0\n",
    "counters[key] = count + 1 # assign the key"
   ]
  },
  {
   "cell_type": "code",
   "execution_count": null,
   "metadata": {},
   "outputs": [],
   "source": [
    "# second approach - relying on KeyError exception\n",
    "# one access, one assignment\n",
    "try:\n",
    "    count = counters[key]\n",
    "except KeyError:\n",
    "    count = 0\n",
    "counters[key] = count + 1 "
   ]
  },
  {
   "cell_type": "code",
   "execution_count": null,
   "metadata": {},
   "outputs": [],
   "source": [
    "# third approach - shorten the first and second approaches\n",
    "# less readable and worth avoiding\n",
    "# note: I don't think this is a bad approach as the code is quite clear to me \n",
    "if key not in counters:\n",
    "    counters[key] = 0\n",
    "counters[key] += 1 "
   ]
  },
  {
   "cell_type": "code",
   "execution_count": null,
   "metadata": {},
   "outputs": [],
   "source": [
    "if key in counters:\n",
    "    counters[key] += 1\n",
    "else:\n",
    "    counters[key] = 1"
   ]
  },
  {
   "cell_type": "code",
   "execution_count": null,
   "metadata": {},
   "outputs": [],
   "source": [
    "try:\n",
    "    counters[key] += 1\n",
    "except KeyError:\n",
    "    counters[key] = 1"
   ]
  },
  {
   "cell_type": "code",
   "execution_count": null,
   "metadata": {},
   "outputs": [],
   "source": [
    "# fourth approach - using the get method\n",
    "# the shortest and clearest approach\n",
    "count = counters.get(key, 0)\n",
    "counters[key] = count + 1 "
   ]
  },
  {
   "cell_type": "code",
   "execution_count": null,
   "metadata": {},
   "outputs": [],
   "source": [
    "# the value of the dictionaries are a more complex type\n",
    "votes = {\n",
    "    'baguette': ['Bob', 'Alice'],\n",
    "    'ciabatta': ['Coco', 'Deb']\n",
    "}\n",
    "key = 'brioche'\n",
    "who = 'Elmer'"
   ]
  },
  {
   "cell_type": "code",
   "execution_count": null,
   "metadata": {},
   "outputs": [],
   "source": [
    "# the list can be modified by reference through the 'names' variable\n",
    "# hence there is no additional assignment required as opposed to the\n",
    "# Counter example above \n",
    "\n",
    "if key in votes:\n",
    "    names = votes[key]\n",
    "else:\n",
    "    votes[key] = names = [] # triple assignment statement\n",
    "\n",
    "names.append(who)\n",
    "print(votes)"
   ]
  },
  {
   "cell_type": "code",
   "execution_count": null,
   "metadata": {},
   "outputs": [],
   "source": [
    "# relying on KeyError \n",
    "try:\n",
    "    names = votes[key]\n",
    "except KeyError:\n",
    "    votes[key] = names = []\n",
    "\n",
    "names.append(who)\n",
    "print(votes)"
   ]
  },
  {
   "cell_type": "code",
   "execution_count": null,
   "metadata": {},
   "outputs": [],
   "source": [
    "# get method \n",
    "names = votes.get(key)\n",
    "if names is None:\n",
    "    votes[key] = names = []\n",
    "names.append(who)\n",
    "print(votes)"
   ]
  },
  {
   "cell_type": "code",
   "execution_count": null,
   "metadata": {},
   "outputs": [],
   "source": [
    "# get method with assignment expression\n",
    "if (names := votes.get(key)) is None:\n",
    "    votes[key] = names = []\n",
    "names.append(who)\n",
    "print(votes)"
   ]
  },
  {
   "cell_type": "code",
   "execution_count": null,
   "metadata": {},
   "outputs": [],
   "source": [
    "# setdefault\n",
    "names = votes.setdefault(key, [])\n",
    "names.append(who)\n",
    "print(votes)"
   ]
  },
  {
   "source": [
    "- setdefault tries to fetch the value of a key in the dictionary. If the key isn't present, the method assigns that key to default value provided\n",
    "- the setdefault method then returns the value for that key\n",
    "- the readability of this approach is not idea\n",
    "- the default value passed to setdefault is assigned directly into the dictionary when the key is missing instead of being copied. This might cause unexpected behavior. "
   ],
   "cell_type": "markdown",
   "metadata": {}
  },
  {
   "cell_type": "code",
   "execution_count": null,
   "metadata": {},
   "outputs": [],
   "source": [
    "data = {}\n",
    "key = 'foo'\n",
    "value = []\n",
    "data.setdefault(key, value) # value is assigned into the dictionary\n",
    "print('Before: ', data)\n",
    "value.append('hello') # by reference\n",
    "print('After: ', data)"
   ]
  },
  {
   "source": [
    "- to avoid the unwanted side effect, you need to construct a new default value for each key you access with setdefault\n",
    "- this would lead to a significant performance overhead "
   ],
   "cell_type": "markdown",
   "metadata": {}
  }
 ]
}