{
 "metadata": {
  "language_info": {
   "codemirror_mode": {
    "name": "ipython",
    "version": 3
   },
   "file_extension": ".py",
   "mimetype": "text/x-python",
   "name": "python",
   "nbconvert_exporter": "python",
   "pygments_lexer": "ipython3",
   "version": "3.8.3-final"
  },
  "orig_nbformat": 2,
  "kernelspec": {
   "name": "Python 3.8.3 64-bit ('py-effective-py': pipenv)",
   "display_name": "Python 3.8.3 64-bit ('py-effective-py': pipenv)",
   "metadata": {
    "interpreter": {
     "hash": "bf53ecf2be5b0c89778fbd17a3e30ef364a8b92138249caa59ed972682d3f38a"
    }
   }
  }
 },
 "nbformat": 4,
 "nbformat_minor": 2,
 "cells": [
  {
   "source": [
    "Item 19 Never Unpack More Than Three Variables When Functions Return Multiple Values\n",
    "\n",
    "Things to Remember\n",
    "- You can have functions return multiple values by putting them in a tuple and having the caller take advantage of Python's unpacking syntax\n",
    "- Multiple return values from a function can also be unpacked by catch-all starred expressions\n",
    "- Unpacking into four or more variables is error prone and should be avoided; instead, return a small class or namedtuple (Item 37) instance  "
   ],
   "cell_type": "markdown",
   "metadata": {}
  },
  {
   "cell_type": "code",
   "execution_count": null,
   "metadata": {},
   "outputs": [],
   "source": [
    "def get_stats(numbers):\n",
    "    minimum = min(numbers)\n",
    "    maximum = max(numbers)\n",
    "    return minimum, maximum # returned as a two-item tuple\n",
    "\n",
    "lengths = [63, 73, 72, 60, 67, 66, 71, 61, 72, 70]\n",
    "minimum, maximum = get_stats(lengths) # unpacking\n",
    "print(f'Min: {minimum}, Max: {maximum}')"
   ]
  },
  {
   "cell_type": "code",
   "execution_count": null,
   "metadata": {},
   "outputs": [],
   "source": [
    "# - multiple return values can also be received by starred expressions\n",
    "#   for catch-all unpacking (Item 13) \n",
    "def get_avg_ratio(numbers):\n",
    "    average = sum(numbers)/len(numbers)\n",
    "    scaled = [x / average for x in numbers]\n",
    "    scaled.sort(reverse=True)\n",
    "    #print(scaled)\n",
    "    return scaled\n",
    "\n",
    "longest, *middle, shortest = get_avg_ratio(lengths) # catch-all unpacking\n",
    "\n",
    "print(f'Longest:  {longest:>4.0%}')\n",
    "print(f'Shortest: {shortest:>4.0%}')"
   ]
  },
  {
   "source": [
    "f-string formatting >4.0%\n",
    "- use the > character to justify the strings to the right\n",
    "- the total length of the string is limited to 4\n",
    "- there is no decimal as the number is 0 after the decimal point in the formatting string\n",
    "- % means convert the number to percentage: time the number by 100 and append a % character to the string"
   ],
   "cell_type": "markdown",
   "metadata": {}
  },
  {
   "cell_type": "code",
   "execution_count": 10,
   "metadata": {},
   "outputs": [],
   "source": [
    "# when you have many values to return\n",
    "def get_stats(numbers):\n",
    "    minimum = min(numbers)\n",
    "    maximum = max(numbers)\n",
    "    count = len(numbers)\n",
    "    average = sum(numbers) / count\n",
    "\n",
    "    sorted_numbers = sorted(numbers)\n",
    "    middle = count // 2 # // the floor division, rounds the result down to the nearest whole number\n",
    "    if count % 2 == 0:\n",
    "        lower = sorted_numbers[middle -1]\n",
    "        upper = sorted_numbers[middle]\n",
    "        median = (lower + upper) / 2\n",
    "    else:\n",
    "        median = sorted_numbers[middle]\n",
    "    return minimum, maximum, average, median, count\n",
    "\n",
    "minimum, maximum, average, median, count = get_stats(lengths)\n"
   ]
  },
  {
   "source": [
    "two main problems here:\n",
    "- all the return values are numeric, so it is all too easy to reorder them accidentally (e.g. swapping average and median), which can cause bugs that are hard to spot later\n",
    "- the line that calls the function and unpacks the values is long, which hurts readability"
   ],
   "cell_type": "markdown",
   "metadata": {}
  },
  {
   "cell_type": "code",
   "execution_count": 14,
   "metadata": {},
   "outputs": [],
   "source": [
    "# you can follow the PEP 8 Style Guide to improve readability but this is still not ideal \n",
    "minimum, maximum, average, median, count = get_stats(\n",
    "    lengths)\n",
    "minimum, maximum, average, median, count = \\\n",
    "    get_stats(lengths)\n",
    "(minimum, maximum, average, \n",
    " median, count) = get_stats(lengths)\n",
    "(minimum, maximum, average, median, count\n",
    "    ) = get_stats(lengths)"
   ]
  },
  {
   "source": [
    "- Use two variables and one catch-all starred expression at most when unpacking  "
   ],
   "cell_type": "markdown",
   "metadata": {}
  }
 ]
}