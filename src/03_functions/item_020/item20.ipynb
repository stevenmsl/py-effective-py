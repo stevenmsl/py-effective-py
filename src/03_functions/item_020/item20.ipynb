{
 "metadata": {
  "language_info": {
   "codemirror_mode": {
    "name": "ipython",
    "version": 3
   },
   "file_extension": ".py",
   "mimetype": "text/x-python",
   "name": "python",
   "nbconvert_exporter": "python",
   "pygments_lexer": "ipython3",
   "version": "3.8.3-final"
  },
  "orig_nbformat": 2,
  "kernelspec": {
   "name": "Python 3.8.3 64-bit ('py-effective-py': pipenv)",
   "display_name": "Python 3.8.3 64-bit ('py-effective-py': pipenv)",
   "metadata": {
    "interpreter": {
     "hash": "bf53ecf2be5b0c89778fbd17a3e30ef364a8b92138249caa59ed972682d3f38a"
    }
   }
  }
 },
 "nbformat": 4,
 "nbformat_minor": 2,
 "cells": [
  {
   "source": [
    "Item 20 Prdfer Raising Exceptions to Returing None  \n",
    "\n",
    "Things to Remember\n",
    "- Functions that return None to indicate special meaning are error prone because None and other values (e.g., zero, the empty string) all evaluate to False in conditional expressions\n",
    "- Raise exceptions to indicate special situations instead of returning None. Expect the calling code to handle exceptions properly when they're documented.\n",
    "- Type annotations can be used to make it clear that a function will never return the value None, even in special situations"
   ],
   "cell_type": "markdown",
   "metadata": {}
  },
  {
   "cell_type": "code",
   "execution_count": 1,
   "metadata": {},
   "outputs": [
    {
     "output_type": "stream",
     "name": "stdout",
     "text": [
      "Invalid inputs\n"
     ]
    }
   ],
   "source": [
    "def careful_divide(a, b):\n",
    "    try:\n",
    "        return a / b\n",
    "    except ZeroDivisionError:\n",
    "        # seems it makes sense to return None\n",
    "        # as anything divided by zero the result\n",
    "        # is undefined  \n",
    "        return None \n",
    "x, y = 1, 0\n",
    "result = careful_divide(x, y)\n",
    "if result is None:\n",
    "    print('Invalid inputs')"
   ]
  },
  {
   "cell_type": "code",
   "execution_count": 2,
   "metadata": {},
   "outputs": [
    {
     "output_type": "stream",
     "name": "stdout",
     "text": [
      "Invalid inputs\n"
     ]
    }
   ],
   "source": [
    "# it will cause misinterpretation when use conditional expressions to check result \n",
    "x, y = 0, 5\n",
    "result = careful_divide(x, y) # result is 0 not error\n",
    "if not result: # since result is 0 it will be evaluated to False\n",
    "    print('Invalid inputs')  # misinterpret the result"
   ]
  },
  {
   "source": [
    "- Misinterpretation of a False-equivalent value is a common mistake in Python code when None has special meaning."
   ],
   "cell_type": "markdown",
   "metadata": {}
  },
  {
   "cell_type": "code",
   "execution_count": 3,
   "metadata": {},
   "outputs": [
    {
     "output_type": "stream",
     "name": "stdout",
     "text": [
      "Invalid inputs\n"
     ]
    }
   ],
   "source": [
    "# first approach - split the return value into a two-tuple\n",
    "def careful_divide(a, b):\n",
    "    try:\n",
    "        return True, a / b\n",
    "    except ZeroDivisionError:\n",
    "        return False, None\n",
    "\n",
    "x, y = 1, 0\n",
    "success, result = careful_divide(x, y)\n",
    "if not success:\n",
    "    print('Invalid inputs') "
   ]
  },
  {
   "cell_type": "code",
   "execution_count": 4,
   "metadata": {},
   "outputs": [
    {
     "output_type": "stream",
     "name": "stdout",
     "text": [
      "Invalid inputs\n"
     ]
    }
   ],
   "source": [
    "# however with this approach the callers can still easily ignore the first part of the tuple\n",
    "# and cause misinterpretation\n",
    "x, y = 0, 1\n",
    "_, result = careful_divide(x, y)\n",
    "if not result:\n",
    "    print('Invalid inputs') "
   ]
  },
  {
   "cell_type": "code",
   "execution_count": 5,
   "metadata": {},
   "outputs": [
    {
     "output_type": "stream",
     "name": "stdout",
     "text": [
      "ZeroDivisionError('division by zero')\nInvalid inputs\n"
     ]
    }
   ],
   "source": [
    "# second approach - raise an Exception to the caller to let the caller deal with it\n",
    "def careful_divide(a, b):\n",
    "    try:\n",
    "        return a / b\n",
    "    except ZeroDivisionError as e: # as e let you access the details of the Exception raised\n",
    "        print(repr(e))\n",
    "        raise ValueError('Invalid inputs')\n",
    "x, y = 5, 0\n",
    "try:\n",
    "    result = careful_divide(x, y)\n",
    "except ValueError:\n",
    "    print('Invalid inputs')\n",
    "else:\n",
    "    print('Result is %.1f' % result)"
   ]
  },
  {
   "cell_type": "code",
   "execution_count": 6,
   "metadata": {},
   "outputs": [],
   "source": [
    "# extend the second approach by adding type annotation and Docstring\n",
    "def careful_divide(a: float, b: float) -> float:\n",
    "    \"\"\"Divides a by b.\n",
    "\n",
    "    Raises:\n",
    "        ValueError: when the inputs cannot be divided.\n",
    "\n",
    "    \"\"\"\n",
    "    try:\n",
    "        return a / b\n",
    "    except ZeroDivisionError as e: # as e let you access the details of the Exception raised\n",
    "        print(repr(e))\n",
    "        raise ValueError('Invalid inputs')"
   ]
  },
  {
   "source": [
    "- if you can't see the docstring when calling careful_divide close this file and re-open it to see if you fix the problem"
   ],
   "cell_type": "markdown",
   "metadata": {}
  }
 ]
}