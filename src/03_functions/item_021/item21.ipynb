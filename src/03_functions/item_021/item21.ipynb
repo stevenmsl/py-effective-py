{
 "metadata": {
  "language_info": {
   "codemirror_mode": {
    "name": "ipython",
    "version": 3
   },
   "file_extension": ".py",
   "mimetype": "text/x-python",
   "name": "python",
   "nbconvert_exporter": "python",
   "pygments_lexer": "ipython3",
   "version": "3.8.3-final"
  },
  "orig_nbformat": 2,
  "kernelspec": {
   "name": "Python 3.8.3 64-bit ('py-effective-py': pipenv)",
   "display_name": "Python 3.8.3 64-bit ('py-effective-py': pipenv)",
   "metadata": {
    "interpreter": {
     "hash": "bf53ecf2be5b0c89778fbd17a3e30ef364a8b92138249caa59ed972682d3f38a"
    }
   }
  }
 },
 "nbformat": 4,
 "nbformat_minor": 2,
 "cells": [
  {
   "source": [
    "Item 21 Know How Closures Interact with Variable Scope \n",
    "\n",
    "Things to Remember\n",
    "- Closures functions can refer to variables from any of the scopes in which they were defined\n",
    "- By default, closures can't affect enclosing scopes by assigning variables\n",
    "- Use the nonlocal statement to indicate when a closure can modify a variable in its enclosing scopes\n",
    "- Avoid using nonlocal statements for anything beyond simple functions"
   ],
   "cell_type": "markdown",
   "metadata": {}
  },
  {
   "source": [
    "background\n",
    "- You want to sort a list of numbers but prioritize one group of numbers to come first.\n",
    "- This pattern is useful when you are rendering a user interface and want important messages or exceptional events to be displayed before everything else "
   ],
   "cell_type": "markdown",
   "metadata": {}
  },
  {
   "cell_type": "code",
   "execution_count": null,
   "metadata": {},
   "outputs": [],
   "source": [
    "def sort_priority(values, group):\n",
    "    def helper(x):\n",
    "        # - helper can see the group argument and its content is {2, 3, 5, 7}\n",
    "        # - helper can see the values argument (we don't need it in this example),\n",
    "        #   whihch is an empty list, and that confuses me\n",
    "        if x in group: \n",
    "            return (0, x)\n",
    "        return (1, x)\n",
    "    # - Python’s late binding behavior which \n",
    "    #   says that the values of variables used\n",
    "    #   in closures are looked up at the time \n",
    "    #   the inner function is called\n",
    "    # - my guess is that when the helper is called by \n",
    "    #   the sort the 'values' argument has been \n",
    "    #   re-initialized to an empty list but\n",
    "    #   gets re-populated at later time \n",
    "    values.sort(key=helper)\n",
    "\n",
    "numbers = [8, 3, 1, 2, 5, 4, 7, 6]\n",
    "group = {2, 3, 5, 7}\n",
    "sort_priority(numbers, group)\n",
    "# 7 will appear before 1,4, and 6 as it's in the priority group\n",
    "print(numbers) "
   ]
  },
  {
   "source": [
    "- Python supports closures. This is why the helper function is able to access the group argument for sort_priority.\n",
    "- Functions are first class objects in Python, which means you can refer to them directly, assign them to variables, pass them as arguments to other functions, compare them in expressions and if statements. values.sort(key=helper) is an example of accepting a function as the key argument.\n",
    "- Recap on how Python comparing sequences: it first compares items at the fist index, moving on to the next index if they are equal, and so on.   "
   ],
   "cell_type": "markdown",
   "metadata": {}
  },
  {
   "cell_type": "code",
   "execution_count": null,
   "metadata": {},
   "outputs": [],
   "source": [
    "# now you want to return more info including if higher-priority items were seen at all\n",
    "def sort_priority2(values, group):\n",
    "    found = False # introduce a new variable to capture more info\n",
    "    def helper(x):\n",
    "        if x in group:\n",
    "             # - we assume we are accessing the found variable\n",
    "             #   defined in the sort_priority2 scope\n",
    "            found = True\n",
    "            return (0, x)\n",
    "        return (1, x)\n",
    "    values.sort(key=helper)\n",
    "    return found\n",
    "\n",
    "numbers = [8, 3, 1, 2, 5, 4, 7, 6]\n",
    "group = {2, 3, 5, 7}\n",
    "found = sort_priority2(numbers, group)\n",
    "print('Found:', found) # It's false which is not what we expect\n",
    "print(numbers) "
   ]
  },
  {
   "source": [
    "The order Python traverses the scope to resolve the reference of variables\n",
    "- the current function's scope\n",
    "- any enclosing scopes (such as other containing functions) \n",
    "- the scope of the module that contains the code (global scope)\n",
    "- the built-in scope (than contains functions like len and str) "
   ],
   "cell_type": "markdown",
   "metadata": {}
  },
  {
   "cell_type": "code",
   "execution_count": null,
   "metadata": {},
   "outputs": [],
   "source": [
    "# scoping bug\n",
    "# \n",
    "def sort_priority2(values, group):\n",
    "    found = False # scope: sort_priority2\n",
    "    def helper(x):\n",
    "        if x in group:\n",
    "            # - found has not been defined in the current scope (helper)\n",
    "            # - Python treats the assignment as a variable definition\n",
    "            # - so, you are not accessing the found variable defined in the\n",
    "            #   sort_priority2 scope. Instead you are defining a new variable\n",
    "            found = True # scope: helper\n",
    "            return (0, x)\n",
    "        return (1, x)\n",
    "    values.sort(key=helper)\n",
    "    return found\n"
   ]
  },
  {
   "source": [
    "solution I \n",
    "- use special syntax, nonlocal, to get data out of a closure\n",
    "- nonlocal is used to tell Python it should start scope traversal to find the variables\n",
    "- the traversal won't reach the module-level scope (to avoid polluting globals)\n",
    "- use nonlocal only in simple functions as it will become hard to understand in long functions where the nonlocal statements and assignments to associated variables are far apart"
   ],
   "cell_type": "markdown",
   "metadata": {}
  },
  {
   "cell_type": "code",
   "execution_count": 22,
   "metadata": {},
   "outputs": [],
   "source": [
    "def sort_priority3(values, group):\n",
    "    found = False # scope: sort_priority2\n",
    "    def helper(x):\n",
    "        nonlocal found # \n",
    "        if x in group:\n",
    "            found = True\n",
    "            return (0, x)\n",
    "        return (1, x)\n",
    "    values.sort(key=helper)\n",
    "    return found\n",
    "\n",
    "numbers = [8, 3, 1, 2, 5, 4, 7, 6]\n",
    "group = {2, 3, 5, 7}\n",
    "found = sort_priority3(numbers, group)\n",
    "assert found == True"
   ]
  },
  {
   "source": [
    "Solution II\n",
    "\n",
    "- Wrap your state in a helper class"
   ],
   "cell_type": "markdown",
   "metadata": {}
  },
  {
   "cell_type": "code",
   "execution_count": 25,
   "metadata": {},
   "outputs": [],
   "source": [
    "class Sorter:\n",
    "    def __init__(self, group):\n",
    "        self.group = group\n",
    "        self.found = False\n",
    "    def __call__(self, x): \n",
    "        if x in self.group:\n",
    "            self.found = True\n",
    "            return (0, x)\n",
    "        return (1, x)\n",
    "\n",
    "sorter = Sorter(group) # sorter is a instance\n",
    "numbers.sort(key=sorter) # can be used like a function\n",
    "assert sorter.found is True"
   ]
  },
  {
   "source": [
    "- The __call__ method enables Python programmers to write classes where the instances behave like functions and can be called like a function.\n",
    "- so in this case sorter is an instance of Sorter can be treated as a function and assigned to the key parameter "
   ],
   "cell_type": "markdown",
   "metadata": {}
  }
 ]
}