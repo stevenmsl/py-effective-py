{
 "metadata": {
  "language_info": {
   "codemirror_mode": {
    "name": "ipython",
    "version": 3
   },
   "file_extension": ".py",
   "mimetype": "text/x-python",
   "name": "python",
   "nbconvert_exporter": "python",
   "pygments_lexer": "ipython3",
   "version": "3.8.3-final"
  },
  "orig_nbformat": 2,
  "kernelspec": {
   "name": "Python 3.8.3 64-bit ('py-effective-py': pipenv)",
   "display_name": "Python 3.8.3 64-bit ('py-effective-py': pipenv)",
   "metadata": {
    "interpreter": {
     "hash": "bf53ecf2be5b0c89778fbd17a3e30ef364a8b92138249caa59ed972682d3f38a"
    }
   }
  }
 },
 "nbformat": 4,
 "nbformat_minor": 2,
 "cells": [
  {
   "source": [
    "Item 22 Reduce Visual Noise with Variable Positional Arguments  \n",
    "\n",
    "Things to Remember\n",
    "- Functions can accept a variable number of positional arguments by using *args in the def statement\n",
    "- You can use the items from a sequence as the positional arguments for a function using the *operator\n",
    "- Using the * operator with a generator may cause a program to run out of memory and crash\n",
    "- Adding new positional parameters to functions that accept *args can introduce hard-to-detect bugs"
   ],
   "cell_type": "markdown",
   "metadata": {}
  },
  {
   "cell_type": "code",
   "execution_count": null,
   "metadata": {},
   "outputs": [],
   "source": [
    "# visual noise\n",
    "def log(message, values):\n",
    "    if not values:\n",
    "        print(message)\n",
    "    else: \n",
    "        values_str = ', '.join(str(x) for x in values)\n",
    "        print(f'{message}: {values_str}')\n",
    "\n",
    "log('My numbers are', [1, 2])\n",
    "\n",
    "# -  visual noise: requires you to pass an empty list when\n",
    "#                  there is no value to log\n",
    "log('Hi there', [])"
   ]
  },
  {
   "cell_type": "code",
   "execution_count": null,
   "metadata": {},
   "outputs": [],
   "source": [
    "# - use optional positional arguments to reduce visual noise\n",
    "# - the * operator works very similarly to the starred\n",
    "#   expressions used in unpacking assignment statements (Item 13)  \n",
    "def log(message, *values): \n",
    "    if not values:\n",
    "        print(message)\n",
    "    else: \n",
    "        values_str = ', '.join(str(x) for x in values)\n",
    "        print(f'{message}: {values_str}')\n",
    "\n",
    "log('My numbers are', [1, 2])\n",
    "\n",
    "log('Hi there') # better now"
   ]
  },
  {
   "cell_type": "code",
   "execution_count": null,
   "metadata": {},
   "outputs": [],
   "source": [
    "# - use the * operator to pass items from the sequence as positional arguments\n",
    "#   to the function\n",
    "favorites = [7, 33, 99]\n",
    "log('Favorite colors', *favorites)  "
   ]
  },
  {
   "source": [
    "Two problems with accepting a variable number of positional arguments\n",
    "- optional positional arguments are always turned into a tuple before they are passed to a function. If the caller of a function uses the * operator on a generator, it will be iterated until exhausted to construct the tuple. This can potentially consume a lot of memory and cause the program to crash\n",
    "- you can't add new positional arguments in the future without migrating every caller "
   ],
   "cell_type": "markdown",
   "metadata": {}
  },
  {
   "cell_type": "code",
   "execution_count": null,
   "metadata": {},
   "outputs": [],
   "source": [
    "# first - use the * operator on generators\n",
    "def my_generator(): # we will be in big trouble if it's an infinite generator\n",
    "    for i in range(10):\n",
    "        yield i\n",
    "def my_func(*args):\n",
    "    print(type(args)) # tuple\n",
    "    print(args)\n",
    "\n",
    "it = my_generator()\n",
    "my_func(*it)"
   ]
  },
  {
   "source": [
    "Functions that accept *args are best for:\n",
    "- you know the number of inputs in the argument list will be reasonably small \n",
    "- ideal for function calls that pass many literals or variable names together\n",
    "- it's primarily for the convenience of the programmer and the readability of the code "
   ],
   "cell_type": "markdown",
   "metadata": {}
  },
  {
   "cell_type": "code",
   "execution_count": null,
   "metadata": {},
   "outputs": [],
   "source": [
    "# second problem - can cause subtle breaks if you forgot to migrate all callers \n",
    "def log(sequence, message, *values): \n",
    "    if not values:\n",
    "        print(f'{sequence} - {message}')\n",
    "    else: \n",
    "        values_str = ', '.join(str(x) for x in values)\n",
    "        print(f'{sequence} - {message}: {values_str}')\n",
    "\n",
    "log(1, 'Favorites', 7, 33)\n",
    "log(1, 'Hi there')\n",
    "\n",
    "# - forgot to migrate this caller\n",
    "# - the code still runs without raising exceptions\n",
    "# - bugs like this are hard to track down\n",
    "log('Favorite numbers', 7, 33) \n"
   ]
  },
  {
   "cell_type": "code",
   "execution_count": null,
   "metadata": {},
   "outputs": [],
   "source": []
  }
 ]
}