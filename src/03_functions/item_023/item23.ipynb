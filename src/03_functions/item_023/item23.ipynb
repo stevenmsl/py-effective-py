{
 "metadata": {
  "language_info": {
   "codemirror_mode": {
    "name": "ipython",
    "version": 3
   },
   "file_extension": ".py",
   "mimetype": "text/x-python",
   "name": "python",
   "nbconvert_exporter": "python",
   "pygments_lexer": "ipython3",
   "version": "3.8.3-final"
  },
  "orig_nbformat": 2,
  "kernelspec": {
   "name": "Python 3.8.3 64-bit ('.venv': venv)",
   "display_name": "Python 3.8.3 64-bit ('.venv': venv)",
   "metadata": {
    "interpreter": {
     "hash": "bf53ecf2be5b0c89778fbd17a3e30ef364a8b92138249caa59ed972682d3f38a"
    }
   }
  }
 },
 "nbformat": 4,
 "nbformat_minor": 2,
 "cells": [
  {
   "source": [
    "Item 23 Provide Optional Behavior with Keyword Arguments  \n",
    "\n",
    "Things to Remember\n",
    "- Function arguments can be specified by position or by Keyword\n",
    "- Keywords make it clear what the purpose of each argument is when it would be confusing with only positional arguments\n",
    "- Keyword arguments with default values make it easy to add new behaviors to a function without needing to migrate all existing callers\n",
    "- Optional keyword arguments should always be passed by keyword instead of by position"
   ],
   "cell_type": "markdown",
   "metadata": {}
  },
  {
   "cell_type": "code",
   "execution_count": null,
   "metadata": {},
   "outputs": [],
   "source": [
    "# pass arguments by position\n",
    "def remainder(number, divisor):\n",
    "    return number % divisor\n",
    "assert remainder(20, 7) == 6"
   ]
  },
  {
   "cell_type": "code",
   "execution_count": null,
   "metadata": {},
   "outputs": [],
   "source": [
    "# - the keyword arguments can be passed in any order\n",
    "#   as long as all of the required positional arguments\n",
    "#   are specified\n",
    "remainder(20, 7)\n",
    "remainder(20, divisor=7)\n",
    "remainder(number=20, divisor=7)\n",
    "remainder(divisor=7, number=20)"
   ]
  },
  {
   "cell_type": "code",
   "execution_count": null,
   "metadata": {},
   "outputs": [],
   "source": [
    "# positional arguments must be specified before keyword arguments\n",
    "remainder(number=20, 7) # error"
   ]
  },
  {
   "cell_type": "code",
   "execution_count": null,
   "metadata": {},
   "outputs": [],
   "source": [
    "# - the ** operator instruct Python to pass the values from\n",
    "#   the dictionary as the corresponding keyword arguments of\n",
    "#   the function\n",
    "\n",
    "my_kwargs = {\n",
    "    'number': 20,\n",
    "    'divisor': 7\n",
    "}\n",
    "assert(remainder(**my_kwargs)) == 6\n"
   ]
  },
  {
   "cell_type": "code",
   "execution_count": null,
   "metadata": {},
   "outputs": [],
   "source": [
    "# mix the ** opeator with positional arguments or keyword arguments in the function call\n",
    "my_kwargs = {\n",
    "    'divisor': 7\n",
    "}\n",
    "assert remainder(number=20, **my_kwargs) == 6"
   ]
  },
  {
   "cell_type": "code",
   "execution_count": null,
   "metadata": {},
   "outputs": [],
   "source": [
    "# can use the ** multiple times if the dictionaries don't contain overlapping keys\n",
    "my_kwargs = {\n",
    "    'number': 20\n",
    "}\n",
    "other_kwargs = {\n",
    "    'divisor': 7\n",
    "}\n",
    "assert remainder(**my_kwargs, **other_kwargs) == 6"
   ]
  },
  {
   "cell_type": "code",
   "execution_count": null,
   "metadata": {},
   "outputs": [],
   "source": [
    "# - use the **kwargs catch-all parameter to collect all named keyword arguments\n",
    "#   into a dict that you can then process\n",
    "def print_parameters(**kwargs):\n",
    "    for key, value in kwargs.items():\n",
    "        print(f'{key} = {value}')\n",
    "print_parameters(alpha=1.5, beta=9, gamma=4)  "
   ]
  },
  {
   "source": [
    "The flexibility of keyword arguments provides three significant benefits"
   ],
   "cell_type": "markdown",
   "metadata": {}
  },
  {
   "source": [
    "first benefit\n",
    "- make the function call clearer to new readers of the code "
   ],
   "cell_type": "markdown",
   "metadata": {}
  },
  {
   "cell_type": "code",
   "execution_count": null,
   "metadata": {},
   "outputs": [],
   "source": [
    "remainder(number=20, divisor=7) # it's very obvious which parameter is being used for each purpose"
   ]
  },
  {
   "source": [
    "second benefit\n",
    "- can have default values specified in the function definition\n",
    "- this allows a function to provide additional capabilities when you need them, but you can accept the default behavior most of the time\n",
    "- This eliminates repetitive code and reduces noise\n",
    "- for complex default values check Item 24"
   ],
   "cell_type": "markdown",
   "metadata": {}
  },
  {
   "cell_type": "code",
   "execution_count": null,
   "metadata": {},
   "outputs": [],
   "source": [
    "# say you want to compute the rate of fluid flowing into a vat\n",
    "def flow_rate(weight_diff, time_diff):\n",
    "    return weight_diff / time_diff\n",
    "\n",
    "weight_diff = 0.5\n",
    "time_diff = 3\n",
    "flow = flow_rate(weight_diff, time_diff)\n",
    "print(f'{flow:.3} kg per second')"
   ]
  },
  {
   "cell_type": "code",
   "execution_count": null,
   "metadata": {},
   "outputs": [],
   "source": [
    "# - now you want to introduce an additional argument \n",
    "#   to approximate larger time scales\n",
    "# - give the additional argument a default value to make it optional\n",
    "def flow_rate(weight_diff, time_diff, period=1):\n",
    "    return (weight_diff / time_diff) * period\n",
    "\n",
    "flow_per_second = flow_rate(weight_diff, time_diff) # accpet the default behavior (period=1)\n",
    "flow_per_hour = flow_rate(weight_diff, time_diff, period=3600)"
   ]
  },
  {
   "source": [
    "third benefit\n",
    "- keyword arguments provide a powerful way to extend a function's parameters while remaining backward compitable with existing callers "
   ],
   "cell_type": "markdown",
   "metadata": {}
  },
  {
   "cell_type": "code",
   "execution_count": null,
   "metadata": {},
   "outputs": [],
   "source": [
    "def flow_rate(weight_diff, time_diff, period=1, units_per_kg=1):\n",
    "    return (weight_diff * units_per_kg / time_diff) * period\n",
    "\n",
    "# existing callers see no change in behavior \n",
    "flow_per_second = flow_rate(weight_diff, time_diff)\n",
    "# new callers can specify the new keyword argument to see the new behavior\n",
    "pounds_per_hour = flow_rate(weight_diff, time_diff, period=3600, units_per_kg=2.2)"
   ]
  },
  {
   "cell_type": "code",
   "execution_count": null,
   "metadata": {},
   "outputs": [],
   "source": [
    "# - avoid supplying optional arguments positionally to avoid confusion\n",
    "# - you can require all callers to use keyword style when calling your functions (Item 25)\n",
    "pounds_per_hour = flow_rate(weight_diff, time_diff, 3600, 2.2) # don't do this"
   ]
  }
 ]
}