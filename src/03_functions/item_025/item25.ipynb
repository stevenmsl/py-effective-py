{
 "metadata": {
  "language_info": {
   "codemirror_mode": {
    "name": "ipython",
    "version": 3
   },
   "file_extension": ".py",
   "mimetype": "text/x-python",
   "name": "python",
   "nbconvert_exporter": "python",
   "pygments_lexer": "ipython3",
   "version": "3.8.3-final"
  },
  "orig_nbformat": 2,
  "kernelspec": {
   "name": "Python 3.8.3 64-bit ('.venv': venv)",
   "display_name": "Python 3.8.3 64-bit ('.venv': venv)",
   "metadata": {
    "interpreter": {
     "hash": "bf53ecf2be5b0c89778fbd17a3e30ef364a8b92138249caa59ed972682d3f38a"
    }
   }
  }
 },
 "nbformat": 4,
 "nbformat_minor": 2,
 "cells": [
  {
   "source": [
    "Item 25 Enforce Clarity with Keyword-Only and Positional-Only Arguments  \n",
    "\n",
    "Things to Remember\n",
    "- Keyword-only arguments force callers to supply certain arguments by keyword (instead of by position), which makes the intention of a function call clearer. Keyword-only arguments are defined after a single * in the argument list.\n",
    "- Positional-only arguments ensure that callers can't supply certain parameters using keywords, which helps reduce coupling. Positional-only arguments are defined before a single / in the argument list.\n",
    "- Parameters between the / and * characters in the argument list may be supplied by position or keyword, which is the default for Python parameters.      "
   ],
   "cell_type": "markdown",
   "metadata": {}
  },
  {
   "source": [
    "background \n",
    "- you want to divide one number by another\n",
    "- sometimes you want to ignore ZeroDivisionError exceptions and return infinity instead\n",
    "- other times, you want to ignore OverflowError exceptions and return zero instead"
   ],
   "cell_type": "markdown",
   "metadata": {}
  },
  {
   "cell_type": "code",
   "execution_count": null,
   "metadata": {},
   "outputs": [],
   "source": [
    "def safe_division(number, divisor,\n",
    "                  ignore_overflow,\n",
    "                  ignore_zero_division):\n",
    "    try:\n",
    "        return number / divisor\n",
    "    except OverflowError:\n",
    "        if ignore_overflow:\n",
    "            return 0\n",
    "        else:\n",
    "            raise\n",
    "    except ZeroDivisionError:\n",
    "        if ignore_zero_division:\n",
    "            return float('inf')\n",
    "        else:\n",
    "            raise\n",
    "\n",
    "result = safe_division(1.0, 10**500, True, False) # ignore OverflowError\n",
    "print(result)\n",
    "\n",
    "result = safe_division(1.0, 0, False, True) # ignore ZeroDivisionError\n",
    "print(result)\n"
   ]
  },
  {
   "source": [
    "Problem with the above approach\n",
    "- easy to confuse the position of the two Boolean arguments\n",
    "- hence can cause bugs that are hard to track down "
   ],
   "cell_type": "markdown",
   "metadata": {}
  },
  {
   "cell_type": "code",
   "execution_count": null,
   "metadata": {},
   "outputs": [],
   "source": [
    "# improvement: use keyword argument\n",
    "def safe_division_b(number, divisor,\n",
    "                  ignore_overflow=False,\n",
    "                  ignore_zero_division=False):\n",
    "    try:\n",
    "        return number / divisor\n",
    "    except OverflowError:\n",
    "        if ignore_overflow:\n",
    "            return 0\n",
    "        else:\n",
    "            raise\n",
    "    except ZeroDivisionError:\n",
    "        if ignore_zero_division:\n",
    "            return float('inf')\n",
    "        else:\n",
    "            raise\n",
    "\n",
    "result = safe_division_b(1.0, 10**500, ignore_overflow=True) # a bit readable\n",
    "print(result)\n",
    "\n",
    "result = safe_division_b(1.0, 0, False, ignore_zero_division=True)\n",
    "print(result)\n",
    "\n",
    "assert safe_division_b(1.0, 10**500, True, False) == 0 # positional"
   ]
  },
  {
   "source": [
    "Problem with the above approach\n",
    "- there is nothing forcing callers to use keyword arguments\n",
    "- you can still call it with positional arguments "
   ],
   "cell_type": "markdown",
   "metadata": {}
  },
  {
   "cell_type": "code",
   "execution_count": null,
   "metadata": {},
   "outputs": [],
   "source": [
    "# improvement: defining functions with keyword-only arguments\n",
    "def safe_division_c(number, divisor, *, # the * operator \n",
    "                  ignore_overflow=False,\n",
    "                  ignore_zero_division=False):\n",
    "    try:\n",
    "        return number / divisor\n",
    "    except OverflowError:\n",
    "        if ignore_overflow:\n",
    "            return 0\n",
    "        else:\n",
    "            raise\n",
    "    except ZeroDivisionError:\n",
    "        if ignore_zero_division:\n",
    "            return float('inf')\n",
    "        else:\n",
    "            raise\n",
    "\n",
    "\n",
    "safe_division_c(1.0, 10**500, True, False) # error "
   ]
  },
  {
   "source": [
    "- The * symbol in the argument list indicates the end of positional arguments and the beginning of keyword-only arguments\n"
   ],
   "cell_type": "markdown",
   "metadata": {}
  },
  {
   "cell_type": "code",
   "execution_count": null,
   "metadata": {},
   "outputs": [],
   "source": [
    "# - a problem still remains as callers can still \n",
    "#   specify the arguments with a mix of positions\n",
    "#   and keywords\n",
    "# - your intention is that number, and divisor\n",
    "#   shouldn't be part of an explicit interface\n",
    "#   and hence are positional arguments\n",
    "# - in the following case the caller decides \n",
    "#   to pass divisor argument by keyword\n",
    "# - so you can't rename the number or divisor\n",
    "#   arguments without breaking the caller\n",
    "assert safe_division_c(2, divisor=5) == 0.4"
   ]
  },
  {
   "cell_type": "code",
   "execution_count": null,
   "metadata": {},
   "outputs": [],
   "source": [
    "# - positional-only arguments (Python 3.8 and above)\n",
    "# - the / symbol in the argument list indicates where positional-only\n",
    "#   arguments end\n",
    "\n",
    "def safe_division_d(number, divisor, /, *,\n",
    "                  ignore_overflow=False,\n",
    "                  ignore_zero_division=False):\n",
    "    try:\n",
    "        return number / divisor\n",
    "    except OverflowError:\n",
    "        if ignore_overflow:\n",
    "            return 0\n",
    "        else:\n",
    "            raise\n",
    "    except ZeroDivisionError:\n",
    "        if ignore_zero_division:\n",
    "            return float('inf')\n",
    "        else:\n",
    "            raise\n",
    "\n",
    "\n",
    "safe_division_d(number=2, divisor=5) # error  "
   ]
  },
  {
   "cell_type": "code",
   "execution_count": null,
   "metadata": {},
   "outputs": [],
   "source": [
    "# - Parameters between the / and * characters in the argument list \n",
    "#   may be supplied by position or keyword, which is the default\n",
    "#   for Python parameters.\n",
    "   \n",
    "def safe_division_e(number, divisor, /,\n",
    "                    ndigits=10, # can be passed either by position or by keyword \n",
    "                    *,\n",
    "                    ignore_overflow=False,\n",
    "                    ignore_zero_division=False):\n",
    "    try:\n",
    "        fraction = number / divisor\n",
    "        return round(fraction, ndigits)\n",
    "    except OverflowError:\n",
    "        if ignore_overflow:\n",
    "            return 0\n",
    "        else:\n",
    "            raise\n",
    "    except ZeroDivisionError:\n",
    "        if ignore_zero_division:\n",
    "            return float('inf')\n",
    "        else:\n",
    "            raise\n",
    "\n",
    "result = safe_division_e(22, 7)\n",
    "print(result)\n",
    "result = safe_division_e(22, 7, 5)\n",
    "print(result)\n",
    "result = safe_division_e(22, 7, ndigits=2)\n",
    "print(result)"
   ]
  },
  {
   "cell_type": "code",
   "execution_count": null,
   "metadata": {},
   "outputs": [],
   "source": []
  }
 ]
}