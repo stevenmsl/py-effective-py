{
 "metadata": {
  "language_info": {
   "codemirror_mode": {
    "name": "ipython",
    "version": 3
   },
   "file_extension": ".py",
   "mimetype": "text/x-python",
   "name": "python",
   "nbconvert_exporter": "python",
   "pygments_lexer": "ipython3",
   "version": "3.8.3-final"
  },
  "orig_nbformat": 2,
  "kernelspec": {
   "name": "Python 3.8.3 64-bit ('.venv': venv)",
   "display_name": "Python 3.8.3 64-bit ('.venv': venv)",
   "metadata": {
    "interpreter": {
     "hash": "bf53ecf2be5b0c89778fbd17a3e30ef364a8b92138249caa59ed972682d3f38a"
    }
   }
  }
 },
 "nbformat": 4,
 "nbformat_minor": 2,
 "cells": [
  {
   "source": [
    "Item 26 Define Function Decorators with functools.wraps  \n",
    "\n",
    "Things to Remember\n",
    "- Decorators in Python are syntax to allow one function to modify another function at runtime\n",
    "- Using decorators can cause strange behaviors in tools that do introspection, such as debuggers\n",
    "- Use the wrap decorator from the functools built-in module when you define your own decorators to avoid issues      "
   ],
   "cell_type": "markdown",
   "metadata": {}
  },
  {
   "cell_type": "code",
   "execution_count": null,
   "metadata": {},
   "outputs": [],
   "source": [
    "# - decorators can access and modify input arguments, return values, and raise exceptions\n",
    "# - this functionality can be useful for enforcing semantics, debugging, registering functions, and more"
   ]
  },
  {
   "cell_type": "code",
   "execution_count": null,
   "metadata": {},
   "outputs": [],
   "source": [
    "def trace(func):\n",
    "    def wrapper(*args, **kwargs):\n",
    "        result = func(*args, **kwargs)\n",
    "        print(f'{func.__name__}({args!r}, {kwargs!r}) -> {result!r}')\n",
    "        return result\n",
    "    return wrapper \n"
   ]
  },
  {
   "source": [
    "- *args: use this to accept a variable number of positional arguments (Item 22)\n",
    "- **kwargs: use this to collect named keyword arguments into a dict (Item 23)"
   ],
   "cell_type": "markdown",
   "metadata": {}
  },
  {
   "cell_type": "code",
   "execution_count": null,
   "metadata": {},
   "outputs": [],
   "source": [
    "@trace\n",
    "def fibonacci(n):\n",
    "    \"\"\"Return the n-th Fibonacci number\"\"\"\n",
    "    if n in (0, 1):\n",
    "        return n\n",
    "    return (fibonacci(n- 2) + fibonacci(n-1))"
   ]
  },
  {
   "cell_type": "code",
   "execution_count": null,
   "metadata": {},
   "outputs": [],
   "source": [
    "fibonacci(4)"
   ]
  },
  {
   "cell_type": "code",
   "execution_count": null,
   "metadata": {},
   "outputs": [],
   "source": [
    "# or you can call the decorator to return a wrapper \n",
    "def fibonacci2(n):\n",
    "    \"\"\"Return the n-th Fibonacci number\"\"\"\n",
    "    if n in (0, 1):\n",
    "        return n\n",
    "    return (fibonacci2(n- 2) + fibonacci2(n-1))\n",
    "\n",
    "fibonacci2 = trace(fibonacci2)\n",
    "fibonacci2(4)"
   ]
  },
  {
   "cell_type": "code",
   "execution_count": null,
   "metadata": {},
   "outputs": [],
   "source": [
    "# unintended side effect\n",
    "\n",
    "# interfere with tools that do introspection, such as debuggers\n",
    "print(fibonacci) # print out <function trace.<locals>.wrapper at 0x0000028A37B6BDC0>"
   ]
  },
  {
   "source": [
    "# the help built-in function becomes useless  \n",
    "help(fibonacci) # give you wrapper(*args, **kwargs)\n"
   ],
   "cell_type": "code",
   "metadata": {},
   "execution_count": null,
   "outputs": []
  },
  {
   "cell_type": "code",
   "execution_count": null,
   "metadata": {},
   "outputs": [],
   "source": [
    "# - object serializers break because they can't determine the location\n",
    "#   of the original function that was decorated\n",
    "import pickle \n",
    "pickle.dumps(fibonacci) # error"
   ]
  },
  {
   "source": [
    "solution \n",
    "- use wraps helper function from functools built-in module\n",
    "- it copies all of the important metadata about the inner function to the outer function"
   ],
   "cell_type": "markdown",
   "metadata": {}
  },
  {
   "cell_type": "code",
   "execution_count": null,
   "metadata": {},
   "outputs": [],
   "source": [
    "from functools import wraps\n",
    "def trace(func):\n",
    "    @wraps(func)\n",
    "    def wrapper(*args, **kwargs):\n",
    "        result = func(*args, **kwargs)\n",
    "        print(f'{func.__name__}({args!r}, {kwargs!r}) -> {result!r}')\n",
    "        return result\n",
    "    return wrapper \n",
    "\n",
    "\n",
    "@trace\n",
    "def fibonacci(n):\n",
    "    \"\"\"Return the n-th Fibonacci number\"\"\"\n",
    "    if n in (0, 1):\n",
    "        return n\n",
    "    return (fibonacci(n- 2) + fibonacci(n-1))\n"
   ]
  },
  {
   "cell_type": "code",
   "execution_count": null,
   "metadata": {},
   "outputs": [],
   "source": [
    "help(fibonacci)"
   ]
  },
  {
   "cell_type": "code",
   "execution_count": null,
   "metadata": {},
   "outputs": [],
   "source": [
    "print(pickle.dumps(fibonacci))"
   ]
  },
  {
   "cell_type": "code",
   "execution_count": null,
   "metadata": {},
   "outputs": [],
   "source": []
  }
 ]
}