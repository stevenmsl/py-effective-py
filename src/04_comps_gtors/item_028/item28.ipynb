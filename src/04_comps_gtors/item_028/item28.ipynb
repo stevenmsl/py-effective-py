{
 "metadata": {
  "language_info": {
   "codemirror_mode": {
    "name": "ipython",
    "version": 3
   },
   "file_extension": ".py",
   "mimetype": "text/x-python",
   "name": "python",
   "nbconvert_exporter": "python",
   "pygments_lexer": "ipython3",
   "version": "3.8.3-final"
  },
  "orig_nbformat": 2,
  "kernelspec": {
   "name": "Python 3.8.3 64-bit ('.venv': venv)",
   "display_name": "Python 3.8.3 64-bit ('.venv': venv)",
   "metadata": {
    "interpreter": {
     "hash": "bf53ecf2be5b0c89778fbd17a3e30ef364a8b92138249caa59ed972682d3f38a"
    }
   }
  }
 },
 "nbformat": 4,
 "nbformat_minor": 2,
 "cells": [
  {
   "source": [
    "Item 28 Avoid More Than Two Control Subexpressions in Comprehensions\n",
    "\n",
    "Things to Remember\n",
    "- Comprehensions support multiple levels of loops and multiple conditions per loop level\n",
    "- Comprehensions with more than two control subexpressions are very difficult to read and should be avoided   "
   ],
   "cell_type": "markdown",
   "metadata": {}
  },
  {
   "cell_type": "code",
   "execution_count": null,
   "metadata": {},
   "outputs": [],
   "source": [
    "# you want to simplfy a matrix into one flat list of all cells\n",
    "matrix = [[1, 2, 3], [4, 5, 6], [7, 8, 9]] # a list containing other list instances\n",
    "flat = [x for row in matrix for x in row] # a flat list\n",
    "print(flat)\n",
    "flat = [[x for x in row] for row in matrix] # replicate the matrix \n",
    "print(flat)"
   ]
  },
  {
   "cell_type": "code",
   "execution_count": null,
   "metadata": {},
   "outputs": [],
   "source": [
    "# - a reasonable usage of multiple loops \n",
    "# - the code is still relatively easy to read \n",
    "#   even with the extra [] characters\n",
    "squared = [[x**2 for x in row] for row in matrix]\n",
    "print(squared)"
   ]
  },
  {
   "cell_type": "code",
   "execution_count": null,
   "metadata": {},
   "outputs": [],
   "source": [
    "# the three-level-list comprehension is too long\n",
    "my_list = [\n",
    "    [[1, 2, 3], [4, 5, 6]],\n",
    "    [[7, 8, 9,], [10, 11, 12]]\n",
    "]\n",
    "\n",
    "flat = [ x for sublist1 in my_list\n",
    "         for sublist2 in sublist1\n",
    "         for x in sublist2]\n",
    "print(flat)\n"
   ]
  },
  {
   "cell_type": "code",
   "execution_count": null,
   "metadata": {},
   "outputs": [],
   "source": [
    "# thanks to the identation; the looping version is clearer\n",
    "flat = []\n",
    "for sublist1 in my_list:\n",
    "    for sublist2 in sublist1:\n",
    "        #print(sublist2)\n",
    "        flat.extend(sublist2)\n",
    "print(flat)"
   ]
  },
  {
   "cell_type": "code",
   "execution_count": 15,
   "metadata": {},
   "outputs": [],
   "source": [
    "# multiple conditions\n",
    "a = [1, 2, 3, 4, 5, 6, 7, 8, 9, 10]\n",
    "b = [x for x in a if x > 4 and x % 2 == 0] # implicit and\n",
    "c = [x for x in a if x > 4 and x % 2 == 0]\n",
    "assert (b == c)"
   ]
  },
  {
   "cell_type": "code",
   "execution_count": 16,
   "metadata": {},
   "outputs": [
    {
     "output_type": "stream",
     "name": "stdout",
     "text": [
      "[[6], [9]]\n"
     ]
    }
   ],
   "source": [
    "# conditions can be specifed at each level of looping\n",
    "matrix = [[1, 2, 3], [4, 5, 6], [7, 8, 9]]\n",
    "filtered = [[x for x in row if x % 3 == 0]\n",
    "            for row in matrix if sum(row) >= 10]\n",
    "print(filtered)"
   ]
  },
  {
   "cell_type": "code",
   "execution_count": null,
   "metadata": {},
   "outputs": [],
   "source": []
  }
 ]
}