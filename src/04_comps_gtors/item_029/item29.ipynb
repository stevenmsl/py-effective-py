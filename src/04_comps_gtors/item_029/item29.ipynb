{
 "metadata": {
  "language_info": {
   "codemirror_mode": {
    "name": "ipython",
    "version": 3
   },
   "file_extension": ".py",
   "mimetype": "text/x-python",
   "name": "python",
   "nbconvert_exporter": "python",
   "pygments_lexer": "ipython3",
   "version": "3.8.3-final"
  },
  "orig_nbformat": 2,
  "kernelspec": {
   "name": "python3",
   "display_name": "Python 3.8.3 64-bit ('py-effective-py': pipenv)",
   "metadata": {
    "interpreter": {
     "hash": "bf53ecf2be5b0c89778fbd17a3e30ef364a8b92138249caa59ed972682d3f38a"
    }
   }
  }
 },
 "nbformat": 4,
 "nbformat_minor": 2,
 "cells": [
  {
   "source": [
    "Item 29 Avoid More Than Two Control Subexpressions in Comprehensions\n",
    "\n",
    "Things to Remember\n",
    "- Assignment expressions make it possible for comprehensions and generator expressions to reuse the value from one condition elsewhere in the same comprehension, which can improve readability and performance.\n",
    "- Although it's possible to use an assignment expression outside of a comprehension or generator expression's condition, you should avoid doing so.   "
   ],
   "cell_type": "markdown",
   "metadata": {}
  },
  {
   "cell_type": "code",
   "execution_count": null,
   "metadata": {},
   "outputs": [],
   "source": [
    "# - you need to verify that a request is sufficiently in stock \n",
    "#   and above minimum threshold for shipping (in batches of 8) \n",
    "stock = {\n",
    "    'nails': 125,\n",
    "    'screws': 35,\n",
    "    'wingnuts': 8,\n",
    "    'washers': 24\n",
    "}\n",
    "\n",
    "order = ['screws', 'wingnuts', 'clips']\n",
    "\n",
    "def get_batches(count, size):\n",
    "    return count // size\n",
    "\n",
    "result = {}\n",
    "for name in order:\n",
    "    count = stock.get(name, 0)\n",
    "    batches = get_batches(count, 8)\n",
    "    if batches:\n",
    "        result[name]= batches\n",
    "print(result)\n"
   ]
  },
  {
   "cell_type": "code",
   "execution_count": null,
   "metadata": {},
   "outputs": [],
   "source": [
    "# using dictionary comprehension\n",
    "found = {name: get_batches(stock.get(name, 0), 8)\n",
    "         for name in order\n",
    "         if get_batches(stock.get(name, 0), 8)}\n",
    "print(found)"
   ]
  },
  {
   "source": [
    "what are the problems with the above approach?\n",
    "- get_batches(stock.get(name, 0), 8) expression is repeated in two places\n",
    "- this adds visual noise and hurts readability\n",
    "- increase the likelihood of introducing a bug if the expression in two places aren't kept in sync "
   ],
   "cell_type": "markdown",
   "metadata": {}
  },
  {
   "cell_type": "code",
   "execution_count": null,
   "metadata": {},
   "outputs": [],
   "source": [
    "# solution \n",
    "# - using walrus operator, :=, to form an assignment expression\n",
    "#   as part of the comprehension \n",
    "\n",
    "found = {name: batches for name in order\n",
    "         if (batches := get_batches(stock.get(name, 0), 8))}\n",
    "print(found)"
   ]
  },
  {
   "cell_type": "code",
   "execution_count": null,
   "metadata": {},
   "outputs": [],
   "source": [
    "# - you can define an assignment expression \n",
    "#   in the value expression for a comprehension\n",
    "# - however, you might get an exception at runtime\n",
    "#   because of the order in which comprehensions are\n",
    "#   evaluated\n",
    "\n",
    "result = {name: (tenth := count // 10) # value expression\n",
    "          for name, count in stock.items() if tenth > 0} # error  "
   ]
  },
  {
   "cell_type": "code",
   "execution_count": null,
   "metadata": {},
   "outputs": [],
   "source": [
    "# solution - move the assignment expression into the condition\n",
    "result = {name: tenth for name, count in stock.items()\n",
    "          if (tenth := count // 10) > 0} # move the assignment expression here\n",
    "print(result)"
   ]
  },
  {
   "source": [
    "loop variable leakage\n",
    "- happens when using the walrus operator in the value part of the comprehension that does not have a condition\n",
    "- the loop variable will leak into the containing scope\n",
    "- this is similar to the loop variable leakage in a normal for loop\n",
    "- leaking loop variables is bad so use assignment expressions only in the condition part of a comprehension"
   ],
   "cell_type": "markdown",
   "metadata": {}
  },
  {
   "cell_type": "code",
   "execution_count": null,
   "metadata": {},
   "outputs": [],
   "source": [
    "half = [(last := count // 2) for count in stock.values()] # using := and there is no condition\n",
    "print(f'Last time of {half} is {last}') # loop variable leakage"
   ]
  },
  {
   "cell_type": "code",
   "execution_count": null,
   "metadata": {},
   "outputs": [],
   "source": [
    "for count in stock.values():\n",
    "    pass\n",
    "print(f'Last time of {list(stock.values())} is {count}') # loop variable leakage"
   ]
  },
  {
   "cell_type": "code",
   "execution_count": null,
   "metadata": {},
   "outputs": [],
   "source": [
    "# leakage won't happen for the loop variables from comprehensions\n",
    "half = [count2 // 2 for count in stock.values()]\n",
    "print(half)\n",
    "print(count2) # error"
   ]
  },
  {
   "cell_type": "code",
   "execution_count": null,
   "metadata": {},
   "outputs": [],
   "source": [
    "# use assignment expressions with generator \n",
    "found = ((name, batches) for name in order\n",
    "         if(batches := get_batches(stock.get(name, 0), 8)))\n",
    "print(next(found))\n",
    "print(next(found))"
   ]
  },
  {
   "cell_type": "code",
   "execution_count": null,
   "metadata": {},
   "outputs": [],
   "source": []
  }
 ]
}