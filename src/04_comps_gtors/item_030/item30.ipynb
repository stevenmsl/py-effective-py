{
 "metadata": {
  "language_info": {
   "codemirror_mode": {
    "name": "ipython",
    "version": 3
   },
   "file_extension": ".py",
   "mimetype": "text/x-python",
   "name": "python",
   "nbconvert_exporter": "python",
   "pygments_lexer": "ipython3",
   "version": "3.8.3-final"
  },
  "orig_nbformat": 2,
  "kernelspec": {
   "name": "python3",
   "display_name": "Python 3.8.3 64-bit ('.venv': venv)",
   "metadata": {
    "interpreter": {
     "hash": "bf53ecf2be5b0c89778fbd17a3e30ef364a8b92138249caa59ed972682d3f38a"
    }
   }
  }
 },
 "nbformat": 4,
 "nbformat_minor": 2,
 "cells": [
  {
   "source": [
    "Item 30 Consider Generators Instead of Returning Lists\n",
    "\n",
    "Things to Remember\n",
    "- Using generators can be clearer than the alternative of having a function return a list of accumulated results.\n",
    "- The iterator returned by a generator produces the set of values passed to yield expression within the generator's body.\n",
    "- Generators can produce a sequence of outputs for arbitrarily large inputs because their working memory doesn't include all inputs and outputs.  "
   ],
   "cell_type": "markdown",
   "metadata": {}
  },
  {
   "cell_type": "code",
   "execution_count": null,
   "metadata": {},
   "outputs": [],
   "source": [
    "# you want to find the index of every word in a string\n",
    "def index_words(text):\n",
    "    result = []\n",
    "    if text:\n",
    "        result.append(0)\n",
    "    for index, letter in enumerate(text): # enuadds counter to an iterable and returns it\n",
    "        if letter == ' ':\n",
    "            result.append(index + 1) # the index where the next word begins\n",
    "    return result\n",
    "text = 'Using generators can be clearer than the alternative of having a function return a list of accumulated results'\n",
    "result = index_words(text)\n",
    "print(result[:10])\n"
   ]
  },
  {
   "source": [
    "Problems with the above approach\n",
    "- the code is a bit dense and noisy\n",
    "- it's doing too much work includings maintaining a result list. Consequently, the main logic, finding the index of every word, has been deemphasized\n",
    "- it requires all results to be stored in the list before returned. For huge inputs, this can cause a program to run out of memory and crash"
   ],
   "cell_type": "markdown",
   "metadata": {}
  },
  {
   "cell_type": "code",
   "execution_count": null,
   "metadata": {},
   "outputs": [],
   "source": [
    "# using generator\n",
    "def index_words_iter(text):\n",
    "    if text:\n",
    "        yield 0\n",
    "    for index, letter in enumerate(text):\n",
    "        if letter == ' ':\n",
    "            yield index + 1\n",
    "\n",
    "it = index_words_iter(text)\n",
    "print(next(it))\n",
    "print(next(it))"
   ]
  },
  {
   "source": [
    "- a generator function does not actually run but instead immediately returns an iterator\n",
    "- with each call to the next built-in function, the iterator advances the generator to its next yield expression\n",
    "- each value passed to yield by the generator is returned by the iterator to the caller\n",
    "- this function is significantly easier to read because all interactions with the result list have been eliminated; results are passed to yield expressions instead"
   ],
   "cell_type": "markdown",
   "metadata": {}
  },
  {
   "cell_type": "code",
   "execution_count": null,
   "metadata": {},
   "outputs": [],
   "source": [
    "# convert the iterator to a list\n",
    "result = list(index_words_iter(text))\n",
    "print(result[:10])"
   ]
  },
  {
   "cell_type": "code",
   "execution_count": null,
   "metadata": {},
   "outputs": [],
   "source": [
    "# - use generator to deal with inputs of arbitrary length\n",
    "# - the following code define a generator that streams \n",
    "#   input from a fie one line at a time and yields outputs\n",
    "#   one word at a time\n",
    "import itertools \n",
    "def index_file(handle):\n",
    "    offset = 0\n",
    "    for line in handle: \n",
    "        if line:\n",
    "            yield offset # one line at a time\n",
    "        for letter in line:\n",
    "            offset += 1\n",
    "            if letter == ' ':\n",
    "                yield offset # one letter at a time\n",
    "\n",
    "with open('text.txt') as f:\n",
    "    it = index_file(f)\n",
    "    results = itertools.islice(it, 0, 10)\n",
    "    print(list(results)) \n"
   ]
  },
  {
   "source": [
    "- with statement ensures clean-up code is executed; \n",
    "  in this case f will be automatically closed after the with statement\n",
    "- itertools.islice make an iterator that returns selected elements from the iterable.\n",
    "- callers must be aware that the iterators returned are stateful and can't be reused (as they have been exhausted)"
   ],
   "cell_type": "markdown",
   "metadata": {}
  }
 ]
}