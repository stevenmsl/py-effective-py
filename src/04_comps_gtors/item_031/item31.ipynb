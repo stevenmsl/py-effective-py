{
 "metadata": {
  "language_info": {
   "codemirror_mode": {
    "name": "ipython",
    "version": 3
   },
   "file_extension": ".py",
   "mimetype": "text/x-python",
   "name": "python",
   "nbconvert_exporter": "python",
   "pygments_lexer": "ipython3",
   "version": "3.8.3-final"
  },
  "orig_nbformat": 2,
  "kernelspec": {
   "name": "python3",
   "display_name": "Python 3.8.3 64-bit ('py-effective-py': pipenv)",
   "metadata": {
    "interpreter": {
     "hash": "bf53ecf2be5b0c89778fbd17a3e30ef364a8b92138249caa59ed972682d3f38a"
    }
   }
  }
 },
 "nbformat": 4,
 "nbformat_minor": 2,
 "cells": [
  {
   "source": [
    "Item 31 Be defensive When Iterating Over Arguments\n",
    "\n",
    "Things to Remember\n",
    "- Beware of functions and methods that iterate over input arguments multiple times. If these arguments are iterators, you may see strange behavior and missing values.\n",
    "- Python's iterator protocol defines how containers and iterators interact with the iter and next built-in functions, for loops, and related expressions.\n",
    "- You can easily define your own iterable container type by implementing the __iter__ method as a generator.\n",
    "- You can detect that a value is an iterator (instead of a container) if calling iter on it produces the same value as what you passed in. Alternatively, you can use the isinstance built-in function along with the collections.abc.Iterator class.  \n"
   ],
   "cell_type": "markdown",
   "metadata": {}
  },
  {
   "cell_type": "code",
   "execution_count": null,
   "metadata": {},
   "outputs": [],
   "source": [
    "# determine each city's contribution to the total visits\n",
    "def normalize(numbers):\n",
    "    total = sum(numbers) # this will exhaust an iterator\n",
    "    result = []\n",
    "    for value in numbers:\n",
    "        percent = 100 * value / total\n",
    "        result.append(percent)\n",
    "    return result\n",
    "\n",
    "visits = [15, 35, 80]\n",
    "percentages = normalize(visits)\n",
    "print(percentages)\n",
    "assert sum(percentages) == 100.0"
   ]
  },
  {
   "cell_type": "code",
   "execution_count": null,
   "metadata": {},
   "outputs": [],
   "source": [
    "# scale this function up by defining a generator\n",
    "def read_visits(data_path):\n",
    "    with open(data_path) as f:\n",
    "        for line in f:\n",
    "            yield int(line)\n",
    "\n",
    "it = read_visits('numbers.txt')\n",
    "percentages = normalize(it)\n",
    "print(percentages) # [] "
   ]
  },
  {
   "source": [
    "why it returns an empty list?\n",
    "- an iterator produces its results only a single time\n",
    "- if you iterate over an iterator or a generator that has already raised a StopIteration exception, you won't get any results the second time around\n",
    "- you won't get errors when you iterate over an already exhausted iterator.\n",
    "- for loops, the list constructor, and many other functions throughout the Python standard library expect the StopIteration exception to be raised during normal operation; they can't tell the difference between an iterator that has no output and an iterator that had output and is now exhausted."
   ],
   "cell_type": "markdown",
   "metadata": {}
  },
  {
   "cell_type": "code",
   "execution_count": null,
   "metadata": {},
   "outputs": [],
   "source": [
    "it = read_visits('numbers.txt')\n",
    "print(list(it))\n",
    "print(list(it)) # already exhausted"
   ]
  },
  {
   "cell_type": "code",
   "execution_count": null,
   "metadata": {},
   "outputs": [],
   "source": [
    "# solution\n",
    "# - exhaust an input iterator and keep a copy of its entire contents\n",
    "#   in a list\n",
    "def normalize_copy(numbers):\n",
    "    numbers_copy = list(numbers) # copy the iterator\n",
    "    total = sum(numbers_copy)\n",
    "    result = []\n",
    "    for value in numbers_copy:\n",
    "        percent = 100 * value / total\n",
    "        result.append(percent)\n",
    "    return result\n",
    "\n",
    "it = read_visits('numbers.txt')\n",
    "percentages = normalize_copy(it)\n",
    "assert sum(percentages) == 100.0\n"
   ]
  },
  {
   "source": [
    "problem with the above approach\n",
    "- the copy of the input iterator's contents could be extremely large. \n",
    "- hence copying the iterator could cause the program to run out memory and crash.\n",
    "- it is kind of defeat the purpose of defining a generator in the first place."
   ],
   "cell_type": "markdown",
   "metadata": {}
  },
  {
   "cell_type": "code",
   "execution_count": null,
   "metadata": {},
   "outputs": [],
   "source": [
    "# solution \n",
    "# - define a function that returns a new iterator each time it's called\n",
    "\n",
    "def normalize_func(get_iter):\n",
    "    total =  sum(get_iter()) # new iterator\n",
    "    result = []\n",
    "    for value in get_iter(): # new iterator\n",
    "        percent = 100 * value / total\n",
    "        result.append(percent)\n",
    "    return result\n",
    "\n",
    "path = 'numbers.txt'\n",
    "percentages = normalize_func(lambda: read_visits(path)) # have to pass a lambda function\n",
    "print(percentages)\n",
    "assert sum(percentages) == 100.0\n"
   ]
  },
  {
   "source": [
    "The iterator protocol\n",
    "- the iterator protocol is how Python for loops and related expressions traverse the contents of a container type\n",
    "- when Python sees a statement like for x in foo, it actually calls iter(foo), and iter in turn calls foo.__iter__ \n",
    "- the \\__iter\\__ method must return a iterator\n",
    "- the for loop repeatedly calls the next built-in function on the iterator object until it's exhausted  "
   ],
   "cell_type": "markdown",
   "metadata": {}
  },
  {
   "cell_type": "code",
   "execution_count": null,
   "metadata": {},
   "outputs": [],
   "source": [
    "# define a container class that implements the iterator protocol\n",
    "class ReadVisits:\n",
    "    def __init__(self, data_path):\n",
    "        self.data_path = data_path\n",
    "    def __iter__(self):\n",
    "        with open(self.data_path) as f:\n",
    "            for line in f:\n",
    "                yield int(line)\n",
    "\n",
    "visits = ReadVisits(path)\n",
    "percentages = normalize(visits)\n",
    "print(percentages)\n",
    "assert sum(percentages) == 100.0\n"
   ]
  },
  {
   "source": [
    "How the above approach works\n",
    "- the sum method and the for loop in the normalize function receive different iterator\n",
    "- each iterator will be advanced and exhausted independently ensuring that each unique iteration sees all of the input data values \n"
   ],
   "cell_type": "markdown",
   "metadata": {}
  },
  {
   "source": [
    "More on the iterator protocol\n",
    "- when an iterator is passed to the iter built-in function, iter returns the iterator itself\n",
    "- when a container type is passed to iter, a new iterator object is returned each time    "
   ],
   "cell_type": "markdown",
   "metadata": {}
  },
  {
   "cell_type": "code",
   "execution_count": null,
   "metadata": {},
   "outputs": [],
   "source": [
    "# a defensive approach\n",
    "# - reject arguments that can't be repeatedly iterated over\n",
    "\n",
    "def normalize_defensive(numbers):\n",
    "    # item 1 in \"More on the iterator protocol\"\n",
    "    if iter(numbers) is numbers: # it's an iterator\n",
    "        raise TypeError('Must supply a container')\n",
    "    total = sum(numbers)\n",
    "    result = []\n",
    "    for value in numbers:\n",
    "        percent = 100 * value /total\n",
    "        result.append(percent)\n",
    "    return result\n"
   ]
  },
  {
   "cell_type": "code",
   "execution_count": null,
   "metadata": {},
   "outputs": [],
   "source": [
    "# - alternatively you can use isinstance test and\n",
    "#   collections.abc.Iterator class to reject arguments\n",
    "#   that can't be repeatedly iterated over\n",
    "\n",
    "from collections.abc import Iterator\n",
    "\n",
    "def normalize_defensive(numbers):\n",
    "    if isinstance(numbers, Iterator): # it's an iterator\n",
    "        raise TypeError('Must supply a container')\n",
    "    total = sum(numbers)\n",
    "    result = []\n",
    "    for value in numbers:\n",
    "        percent = 100 * value / total\n",
    "        result.append(percent)\n",
    "    return result\n",
    "\n",
    "visits = [15, 35, 80] # lists are iterable containers\n",
    "percentages = normalize_defensive(visits)\n",
    "assert sum(percentages) == 100.0\n",
    "\n",
    "visits = ReadVisits(path)\n",
    "percentages = normalize_defensive(visits)\n",
    "assert sum(percentages) == 100.0"
   ]
  },
  {
   "cell_type": "code",
   "execution_count": null,
   "metadata": {},
   "outputs": [],
   "source": [
    "visits = [15, 35, 80]\n",
    "it = iter(visits)\n",
    "percentages = normalize_defensive(it) # error"
   ]
  },
  {
   "cell_type": "code",
   "execution_count": null,
   "metadata": {},
   "outputs": [],
   "source": []
  }
 ]
}