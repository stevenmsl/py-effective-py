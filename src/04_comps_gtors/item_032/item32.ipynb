{
 "metadata": {
  "language_info": {
   "codemirror_mode": {
    "name": "ipython",
    "version": 3
   },
   "file_extension": ".py",
   "mimetype": "text/x-python",
   "name": "python",
   "nbconvert_exporter": "python",
   "pygments_lexer": "ipython3",
   "version": "3.8.3-final"
  },
  "orig_nbformat": 2,
  "kernelspec": {
   "name": "python3",
   "display_name": "Python 3.8.3 64-bit ('py-effective-py': pipenv)",
   "metadata": {
    "interpreter": {
     "hash": "bf53ecf2be5b0c89778fbd17a3e30ef364a8b92138249caa59ed972682d3f38a"
    }
   }
  }
 },
 "nbformat": 4,
 "nbformat_minor": 2,
 "cells": [
  {
   "source": [
    "Item 32 Consider Generator Expressions for Large List Comprehensions\n",
    "\n",
    "Things to Remember\n",
    "- List comprehensions can cause problems for large inputs by using too much memory.\n",
    "- Generator expressions avoid memory issues by producing outputs one at a time as iterators.\n",
    "- Generator expressions can be composed by passing the iterator from one generator expression into the for subexpression of another.\n",
    "- Generator expressions execute very quickly when chained together and are memory efficient.    \n"
   ],
   "cell_type": "markdown",
   "metadata": {}
  },
  {
   "source": [
    "Problem with list comprehensions\n",
    "- they create new list instances (in memory) containing one item for each value in the input sequences\n",
    "- this might be problematic for large inputs which might lead to significant amount of memory usage and potential program crash  "
   ],
   "cell_type": "markdown",
   "metadata": {}
  },
  {
   "cell_type": "code",
   "execution_count": null,
   "metadata": {},
   "outputs": [],
   "source": [
    "value = [len(x) for x in open('my_file.txt')] # everything is in memory \n",
    "print(value)"
   ]
  },
  {
   "cell_type": "code",
   "execution_count": null,
   "metadata": {},
   "outputs": [],
   "source": [
    "# solution - using generator expressions\n",
    "# - put list-comprehension-like syntax between () characters\n",
    "#   to create a generator expression\n",
    "# - the generator expression immediately evaluates to an \n",
    "#   iterator and doesn't make forward progress\n",
    "it = (len(x) for x in open('my_file.txt'))\n",
    "print(it)\n"
   ]
  },
  {
   "cell_type": "code",
   "execution_count": null,
   "metadata": {},
   "outputs": [],
   "source": [
    "print(next(it))\n",
    "print(next(it))"
   ]
  },
  {
   "cell_type": "code",
   "execution_count": null,
   "metadata": {},
   "outputs": [],
   "source": [
    "# you can compose multiple generator expressions together\n",
    "roots = ((x, x**0.5) for x in it)\n",
    "# - when this iterator is advanced the \n",
    "#   interior iterator is also advanced\n",
    "print(next(roots))"
   ]
  },
  {
   "source": [
    "Benefits of composing multiple generator expressions\n",
    "\n",
    "- It creates a domino effect of looping, evaluating conditional expressions, and passing around inputs and outputs.\n",
    "- And all these will be done as memory efficient as possible.\n",
    "- A great choice if you are looking for a way to compose functionality that's operating on a large stream of input.\n",
    "\n",
    "Only gotcha:\n",
    "- The iterators returned by generator expressions are stateful - Check Item 31 for more info  \n",
    "\n"
   ],
   "cell_type": "markdown",
   "metadata": {}
  }
 ]
}