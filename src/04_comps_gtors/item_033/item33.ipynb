{
 "metadata": {
  "language_info": {
   "codemirror_mode": {
    "name": "ipython",
    "version": 3
   },
   "file_extension": ".py",
   "mimetype": "text/x-python",
   "name": "python",
   "nbconvert_exporter": "python",
   "pygments_lexer": "ipython3",
   "version": "3.8.3-final"
  },
  "orig_nbformat": 2,
  "kernelspec": {
   "name": "python3",
   "display_name": "Python 3.8.3 64-bit ('.venv': venv)",
   "metadata": {
    "interpreter": {
     "hash": "bf53ecf2be5b0c89778fbd17a3e30ef364a8b92138249caa59ed972682d3f38a"
    }
   }
  }
 },
 "nbformat": 4,
 "nbformat_minor": 2,
 "cells": [
  {
   "source": [
    "Item 33 Compose Multiple Generators with yield from\n",
    "\n",
    "Things to Remember\n",
    "- The yield from expression allows you to compose multiple nested generators together into a single combined generator.\n",
    "- yield from provides better performance (most likely) than manually iterating nested generators and yielding their outputs."
   ],
   "cell_type": "markdown",
   "metadata": {}
  },
  {
   "source": [
    "# background \n",
    "# - you want the images to move quickly at first, pause temporarily, \n",
    "#   and then continue moving at a slower pace."
   ],
   "cell_type": "code",
   "metadata": {},
   "execution_count": null,
   "outputs": []
  },
  {
   "cell_type": "code",
   "execution_count": null,
   "metadata": {},
   "outputs": [],
   "source": [
    "def move(period, speed): # generator\n",
    "    for _ in range(period):\n",
    "        yield speed # expected onscreen delta\n",
    "\n",
    "def pause(period): # generator\n",
    "    for _ in range(period):\n",
    "        yield 0\n"
   ]
  },
  {
   "cell_type": "code",
   "execution_count": null,
   "metadata": {},
   "outputs": [],
   "source": [
    "# - combine move and pause together to produce a single squence\n",
    "#   of onscreen deltas\n",
    "def animate():\n",
    "    for delta in move(4, 5.0):\n",
    "        yield delta\n",
    "    for delta in pause(3):\n",
    "        yield delta\n",
    "    for delta in move(2, 3.0):\n",
    "        yield delta"
   ]
  },
  {
   "cell_type": "code",
   "execution_count": null,
   "metadata": {},
   "outputs": [],
   "source": [
    "# - render deltas onscreen as they're produced by the single\n",
    "#   animation generator\n",
    "def render(delta):\n",
    "    print(f'Delta: {delta:.1f}')\n",
    "    # move the images onscreen\n",
    "    ...\n",
    "\n",
    "def run(func):\n",
    "    for delta in func():\n",
    "        render(delta)\n",
    "\n",
    "run(animate)"
   ]
  },
  {
   "source": [
    "Problems with the animate method\n",
    "- The redundancy of the for statements and yield expressions for each generator adds noise and reduces readability\n",
    "- A smore complex animation with a dozen of phases will be extremely difficult to follow"
   ],
   "cell_type": "markdown",
   "metadata": {}
  },
  {
   "cell_type": "code",
   "execution_count": null,
   "metadata": {},
   "outputs": [],
   "source": [
    "# solution\n",
    "# - use the yield from expression\n",
    "# - allows you to yield all values from a nested generator\n",
    "#   before returning control to the parent generator\n",
    "def animate_composed():\n",
    "    yield from move(4, 5.0)\n",
    "    yield from pause(3)\n",
    "    yield from move(2, 3.0)\n",
    "\n",
    "run(animate_composed)"
   ]
  },
  {
   "source": [
    "- The code is clearer and more intuitive\n",
    "- \"yield from\" essentially causes the Python interpreter to handle the nested for loop and yield expression boilerplate for you, which results in better performance"
   ],
   "cell_type": "markdown",
   "metadata": {}
  },
  {
   "cell_type": "code",
   "execution_count": null,
   "metadata": {},
   "outputs": [],
   "source": [
    "import timeit\n",
    "\n",
    "def child():\n",
    "    for i in range(1_100_100):\n",
    "        yield i\n",
    "\n",
    "def slow():\n",
    "    for i in child():\n",
    "        yield i\n",
    "def fast():\n",
    "    yield from child()"
   ]
  },
  {
   "cell_type": "code",
   "execution_count": null,
   "metadata": {},
   "outputs": [],
   "source": [
    "baseline = timeit.timeit(\n",
    "    stmt='for _ in slow(): pass',\n",
    "    globals=globals(),\n",
    "    number=50)\n",
    "print(f'Manual nesting {baseline:.2f}s')\n",
    "\n",
    "comparsion = timeit.timeit(\n",
    "    stmt='for _ in fast(): pass',\n",
    "    globals=globals(),\n",
    "    number=50)\n",
    "print(f'Composed nesting {comparsion:.2f}s')\n",
    "\n",
    "reduction = -(comparsion - baseline) / baseline\n",
    "print(f'{reduction:.1%} less time')"
   ]
  },
  {
   "source": [
    "timeit function\n",
    "- measure execution time of small code snippets\n",
    "\n",
    "pass\n",
    "- it is a null operation -- when it is executed, nothing happens\n",
    "\n",
    "globals() function\n",
    "- The globals() function returns a dictionary containing the variables defined in the global namespace.\n",
    "- this is how timeit function can recognize slow, fast, and child functions you defined  "
   ],
   "cell_type": "markdown",
   "metadata": {}
  }
 ]
}