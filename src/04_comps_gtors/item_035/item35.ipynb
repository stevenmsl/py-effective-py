{
 "metadata": {
  "language_info": {
   "codemirror_mode": {
    "name": "ipython",
    "version": 3
   },
   "file_extension": ".py",
   "mimetype": "text/x-python",
   "name": "python",
   "nbconvert_exporter": "python",
   "pygments_lexer": "ipython3",
   "version": "3.8.3-final"
  },
  "orig_nbformat": 2,
  "kernelspec": {
   "name": "python3",
   "display_name": "Python 3.8.3 64-bit ('py-effective-py': pipenv)",
   "metadata": {
    "interpreter": {
     "hash": "bf53ecf2be5b0c89778fbd17a3e30ef364a8b92138249caa59ed972682d3f38a"
    }
   }
  }
 },
 "nbformat": 4,
 "nbformat_minor": 2,
 "cells": [
  {
   "source": [
    "Item 35 Avoid Causing State Transitions in Generators with throw\n",
    "\n",
    "Things to Remember\n",
    "- The throw method can be used to re-raise exceptions within generators at the position of the most recently executed yield expression\n",
    "- Using throw harms readability because it requires additional nesting and boilerplate in order to raise and catch exceptions\n",
    "- A better way to provide exceptional behavior in generators is to use a class that implements the \\__iter\\__ method along with methods to cause exceptional state transitions  "
   ],
   "cell_type": "markdown",
   "metadata": {}
  },
  {
   "cell_type": "code",
   "execution_count": null,
   "metadata": {},
   "outputs": [],
   "source": [
    "# understand how throw work\n",
    "class MyError(Exception):\n",
    "    pass\n",
    "\n",
    "def my_generator():\n",
    "    yield 1\n",
    "    # - re-raise the exception after the output 2 is generated\n",
    "    #   and the generator is resumed \n",
    "    yield 2\n",
    "    yield 3 # will not be reached\n",
    "\n",
    "it = my_generator()\n",
    "print(next(it)) # 1\n",
    "print(next(it)) # 2\n",
    "print(it.throw(MyError('test error'))) # error\n"
   ]
  },
  {
   "source": [
    "Understand the throw method\n",
    "- when the throw method is called, the last occurrence of a yield expression re-raise the provided Exception instance after its output is received instead of continuing normally \n",
    "- in the example above the last occurrence of a yield expression is \"yield 2\""
   ],
   "cell_type": "markdown",
   "metadata": {}
  },
  {
   "cell_type": "code",
   "execution_count": null,
   "metadata": {},
   "outputs": [],
   "source": [
    "# try/expect compound statement in generators\n",
    "def my_generator():\n",
    "    yield 1\n",
    "    try:\n",
    "        yield 2\n",
    "    except MyError:\n",
    "        print('Got MyError!')\n",
    "    else:\n",
    "        yield 3\n",
    "    yield 4\n",
    "\n",
    "it = my_generator()\n",
    "print(next(it)) \n",
    "print(next(it))\n",
    "# - this provides a two-way communication channel\n",
    "#   between a generator and its caller\n",
    "print(it.throw(MyError('test error'))) # print Got MyError first and then 4"
   ]
  },
  {
   "cell_type": "code",
   "execution_count": null,
   "metadata": {},
   "outputs": [],
   "source": [
    "# write a timer that supports sporadic resets\n",
    "\n",
    "# - no ideal to declare a global\n",
    "# - but serve the purpose in this\n",
    "#   simple example \n",
    "global TimesCalled\n",
    "TimesCalled = 0\n",
    "\n",
    "# - the idea is that we are polling for exteranl reset\n",
    "# - in our case we simply it to return True only\n",
    "#   if it has been called 4 times  \n",
    "def check_for_reset():\n",
    "    global TimesCalled # how to access a global variable\n",
    "    TimesCalled += 1\n",
    "    if TimesCalled == 4:\n",
    "        return True\n",
    "    return False\n",
    "\n",
    "class Reset(Exception):\n",
    "    pass\n",
    "\n",
    "def announce(remaining):\n",
    "    print(f'{remaining} ticks remaining')\n"
   ]
  },
  {
   "cell_type": "code",
   "execution_count": null,
   "metadata": {},
   "outputs": [],
   "source": [
    "TimesCalled = 0\n",
    "def timer(period):\n",
    "    current = period\n",
    "    while current:\n",
    "        current -= 1\n",
    "        try:\n",
    "            yield current\n",
    "        except Reset:\n",
    "            print(f'Reset {current} to {period}')\n",
    "            current = period # reset to the original period\n",
    "\n",
    "def run():\n",
    "    it = timer(4)\n",
    "    while True:\n",
    "        try:\n",
    "            if check_for_reset():\n",
    "                # - notify the generator to reset the timer\n",
    "                current = it.throw(Reset()) \n",
    "            else:\n",
    "                current = next(it)\n",
    "        except StopIteration:\n",
    "            break\n",
    "        else:\n",
    "            announce(current)\n",
    "\n",
    "run()   "
   ]
  },
  {
   "source": [
    "Problems with the above approach\n",
    "- the code is much harder to reader than necessary\n",
    "- The code is noisy as various levels of nesting is required to catch StopIteration exceptions or decide to throw, call next, or announce."
   ],
   "cell_type": "markdown",
   "metadata": {}
  },
  {
   "cell_type": "code",
   "execution_count": null,
   "metadata": {},
   "outputs": [],
   "source": [
    "# solution - define a stateful closure (item 38) using an iterable container object (item 31)\n",
    "\n",
    "TimesCalled = 0\n",
    "\n",
    "class Timer:\n",
    "    def __init__(self, period):\n",
    "        self.current = period\n",
    "        self.period = period\n",
    "    def reset(self):\n",
    "        self.current = self.period\n",
    "    def __iter__(self):\n",
    "        while self.current:\n",
    "            self.current -= 1\n",
    "            yield self.current\n",
    "\n",
    "def run():\n",
    "    timer = Timer(4)\n",
    "    for current in timer:\n",
    "        if check_for_reset():\n",
    "            timer.reset()\n",
    "            print(f'timer current: {timer.current}')\n",
    "        # - you are announcing the 'current' \n",
    "        #   before the timer got reset\n",
    "        # - as a result, the outputs are slightly different\n",
    "        #   from the \"throw\" method approach where \n",
    "        #   in this approach the ticks will reach 0 after\n",
    "        #   the timer reset and then goes back to 3 as \n",
    "        #   opposed to in the \"throw\" method approach where \n",
    "        #   the ticks are back to 3 (never reaches 0) after \n",
    "        #   the reset \n",
    "        announce(current)\n",
    "run()    "
   ]
  },
  {
   "cell_type": "code",
   "execution_count": null,
   "metadata": {},
   "outputs": [],
   "source": []
  }
 ]
}