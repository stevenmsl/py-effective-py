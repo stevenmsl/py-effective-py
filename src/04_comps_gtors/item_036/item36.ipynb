{
 "metadata": {
  "language_info": {
   "codemirror_mode": {
    "name": "ipython",
    "version": 3
   },
   "file_extension": ".py",
   "mimetype": "text/x-python",
   "name": "python",
   "nbconvert_exporter": "python",
   "pygments_lexer": "ipython3",
   "version": "3.8.3-final"
  },
  "orig_nbformat": 2,
  "kernelspec": {
   "name": "python3",
   "display_name": "Python 3.8.3 64-bit ('py-effective-py': pipenv)",
   "metadata": {
    "interpreter": {
     "hash": "bf53ecf2be5b0c89778fbd17a3e30ef364a8b92138249caa59ed972682d3f38a"
    }
   }
  }
 },
 "nbformat": 4,
 "nbformat_minor": 2,
 "cells": [
  {
   "source": [
    "Item 36 Consider itertools for Working with Iterators and Generators\n",
    "\n",
    "Things to Remember\n",
    "- The itertools functions fall into three main categories for working with iterators and generators: linking iterators together, filtering items they output, and producing combinations of items.\n",
    "- There are more advanced functions, additional parameters, and useful recipes available in the documentation at help(itertools)  "
   ],
   "cell_type": "markdown",
   "metadata": {}
  },
  {
   "source": [
    "About itertools\n",
    "- The itertools built-in module contains a large number of functions that are useful for organizing and interacting with iterators.\n"
   ],
   "cell_type": "markdown",
   "metadata": {}
  },
  {
   "cell_type": "code",
   "execution_count": null,
   "metadata": {},
   "outputs": [],
   "source": [
    "import itertools"
   ]
  },
  {
   "source": [
    "Linking Iterators Together"
   ],
   "cell_type": "markdown",
   "metadata": {}
  },
  {
   "cell_type": "code",
   "execution_count": null,
   "metadata": {},
   "outputs": [],
   "source": [
    "# chain - combine multiple iterators into a single sequential iterator\n",
    "it = itertools.chain([1, 2, 3], [4, 5, 6])\n",
    "print(list(it))"
   ]
  },
  {
   "cell_type": "code",
   "execution_count": null,
   "metadata": {},
   "outputs": [],
   "source": [
    "# repeat - output a single value forever, or use the second parameter\n",
    "#          to specify a maximum number of items\n",
    "it = itertools.repeat('hello', 3)\n",
    "print(list(it))"
   ]
  },
  {
   "cell_type": "code",
   "execution_count": null,
   "metadata": {},
   "outputs": [],
   "source": [
    "# cycle - repeat an iterator's items forever\n",
    "it = itertools.cycle([1, 2])\n",
    "# repeats 1, 2, 1, 2, ...\n",
    "result = [next(it) for _ in range(10)]\n",
    "print(result) "
   ]
  },
  {
   "cell_type": "code",
   "execution_count": null,
   "metadata": {},
   "outputs": [],
   "source": [
    "# tee - split a single iterator into the number of parallel iterators\n",
    "#       specified by the second parameter\n",
    "#     - the memory usage of this function will grow if the iterators\n",
    "#       don't progress at the same speed since buffering will be\n",
    "#       required to enqueue the pending items\n",
    "\n",
    "it1, it2, it3 = itertools.tee(['first', 'second'], 3)\n",
    "print(list(it1))\n",
    "print(list(it2))\n",
    "print(list(it3))"
   ]
  },
  {
   "cell_type": "code",
   "execution_count": null,
   "metadata": {},
   "outputs": [],
   "source": [
    "# zip_longest - the variant of the zip built-in function returns \n",
    "#               a placeholder value when an iterator is exhausted,\n",
    "#               which may happen if iterators have different lengths\n",
    "\n",
    "keys = ['one', 'two', 'three']\n",
    "values = [1, 2]\n",
    "\n",
    "normal = list(zip(keys, values)) # 'three' from keys will be dropped\n",
    "print('zip:        ', normal)\n",
    "\n",
    "it = itertools.zip_longest(keys, values, fillvalue='nope')\n",
    "longest = list(it)\n",
    "print('zip_longest:', longest)\n"
   ]
  },
  {
   "source": [
    "Filtering Items from an Iterator"
   ],
   "cell_type": "markdown",
   "metadata": {}
  },
  {
   "cell_type": "code",
   "execution_count": null,
   "metadata": {},
   "outputs": [],
   "source": [
    "# islice - slice an iterator by numerical indexes without copying\n",
    "\n",
    "values = [1, 2, 3, 4, 5, 6, 7, 8, 9, 10]\n",
    "\n",
    "first_five = itertools.islice(values, 5)\n",
    "print('First five:  ', list(first_five))\n",
    "\n",
    "middle_odds = itertools.islice(values, 2, 8, 2) # specify start, end, and step\n",
    "print('Middle odds: ', list(middle_odds))"
   ]
  },
  {
   "cell_type": "code",
   "execution_count": null,
   "metadata": {},
   "outputs": [],
   "source": [
    "# takewhile - returns items from an iterator until a predicate\n",
    "#             function returns False for an item\n",
    "\n",
    "values = [1, 2, 3, 4, 5, 6, 7, 8, 9, 10] \n",
    "less_than_seven = lambda x: x < 7\n",
    "it = itertools.takewhile(less_than_seven, values)\n",
    "print(list(it))               "
   ]
  },
  {
   "cell_type": "code",
   "execution_count": null,
   "metadata": {},
   "outputs": [],
   "source": [
    "# dropwhile - dropwhile skips items from an iterator\n",
    "#             until the predicate function returns \n",
    "#             True for the first time.\n",
    "#           - This is the opposite of takewhie.\n",
    "\n",
    "values = [1, 2, 3, 4, 5, 6, 7, 8, 9, 10] \n",
    "less_than_seven = lambda x: x < 7\n",
    "it = itertools.dropwhile(less_than_seven, values)\n",
    "print(list(it)) "
   ]
  },
  {
   "cell_type": "code",
   "execution_count": null,
   "metadata": {},
   "outputs": [],
   "source": [
    "# filterfalse - returns all items from an iterator where\n",
    "#               a predicate function returns False\n",
    "#             - this is the opposite of the filter\n",
    "#               built-in function\n",
    "values = [1, 2, 3, 4, 5, 6, 7, 8, 9, 10]\n",
    "evens = lambda x: x % 2 == 0\n",
    "\n",
    "filter_result = filter(evens, values)\n",
    "print('Filter:      ', list(filter_result))\n",
    "\n",
    "filter_false_result = itertools.filterfalse(evens, values)\n",
    "print('Filter false:', list(filter_false_result))"
   ]
  },
  {
   "source": [
    "Producing Combinations of Items from Iterators"
   ],
   "cell_type": "markdown",
   "metadata": {}
  },
  {
   "cell_type": "code",
   "execution_count": null,
   "metadata": {},
   "outputs": [],
   "source": [
    "# accumulate - folds an item from the iterator \n",
    "#              into a running value by applying\n",
    "#              a function (binary function) that\n",
    "#              takes two parameters\n",
    "#            - by default it sums the inputs if\n",
    "#              no binary function is specified\n",
    "#            - It outputs the current accumulated\n",
    "#              result for each input value\n",
    "#            - it is essentially the same as\n",
    "#              the reduce function from the\n",
    "#              functools built-in module, but\n",
    "#              with outputs yielded one step\n",
    "#              at a time  \n",
    "\n",
    "values = [1, 2, 3, 4, 5, 6, 7, 8, 9, 10]\n",
    "sum_reduce = itertools.accumulate(values)\n",
    "# - no binary function is specified\n",
    "# - so it just sums the inputs\n",
    "print('Sum: ', list(sum_reduce)) # 10 outputs as there are 10 inputs\n",
    "\n",
    "def sum_modulo_20(first, second): # binary function\n",
    "    output = first + second\n",
    "    return output % 20\n",
    "    \n",
    "modulo_reduce = itertools.accumulate(values, sum_modulo_20)\n",
    "print('Modulo:', list(modulo_reduce))\n"
   ]
  },
  {
   "cell_type": "code",
   "execution_count": null,
   "metadata": {},
   "outputs": [],
   "source": [
    "# product - returns the Cartesian product of items \n",
    "#           from one or more iterators, which is \n",
    "#           a nice alternative to using deeply \n",
    "#           nested list comprehensions (Item 28)  \n",
    "# Cartesian product - given two sets A and B, denoted A × B, \n",
    "#                     Cartesian product is the set of all ordered pairs (a, b) \n",
    "#                     where a is in A and b is in B.\n",
    "\n",
    "single = itertools.product([1, 2], repeat=2)\n",
    "print('Single:   ', list(single))\n",
    "\n",
    "multiple = itertools.product([1, 2], ['a', 'b'])\n",
    "print('Multiple: ', list(multiple))"
   ]
  },
  {
   "cell_type": "code",
   "execution_count": null,
   "metadata": {},
   "outputs": [],
   "source": [
    "# permutations - returns the unique ordered permutations of\n",
    "#                length N with items from an iterator\n",
    "#              - (1, 2) and (2, 1) are considered different\n",
    "\n",
    "it = itertools.permutations([1, 2, 3, 4], 2) \n",
    "print(list(it))"
   ]
  },
  {
   "cell_type": "code",
   "execution_count": null,
   "metadata": {},
   "outputs": [],
   "source": [
    "# combinations - returns the unordered combinations of length N with\n",
    "#                unrepeated items from an iterator\n",
    "#              - (1, 1), (2, 2), (3, 3) and (4, 4) \n",
    "#                will not be included\n",
    "#              - (1, 2) and (2, 1) are considered the same\n",
    "\n",
    "it = itertools.combinations([1, 2, 3, 4], 2)\n",
    "print(list(it))"
   ]
  },
  {
   "cell_type": "code",
   "execution_count": null,
   "metadata": {},
   "outputs": [],
   "source": [
    "# combinations_with_replacement - is the same as combinations,\n",
    "#                                 but repeated values are allowed \n",
    "#                               - (1, 1), (2, 2), (3, 3) and (4, 4) \n",
    "#                                 are included\n",
    "\n",
    "it = itertools.combinations_with_replacement([1, 2, 3, 4], 2)\n",
    "print(list(it))"
   ]
  }
 ]
}