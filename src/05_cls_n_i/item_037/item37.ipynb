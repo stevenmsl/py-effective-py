{
 "metadata": {
  "language_info": {
   "codemirror_mode": {
    "name": "ipython",
    "version": 3
   },
   "file_extension": ".py",
   "mimetype": "text/x-python",
   "name": "python",
   "nbconvert_exporter": "python",
   "pygments_lexer": "ipython3",
   "version": "3.8.3-final"
  },
  "orig_nbformat": 2,
  "kernelspec": {
   "name": "python3",
   "display_name": "Python 3.8.3 64-bit ('.venv': venv)",
   "metadata": {
    "interpreter": {
     "hash": "bf53ecf2be5b0c89778fbd17a3e30ef364a8b92138249caa59ed972682d3f38a"
    }
   }
  }
 },
 "nbformat": 4,
 "nbformat_minor": 2,
 "cells": [
  {
   "source": [
    "Item 37 Compose Classes Instead of Nesting Many Levels of Built-in Types \n",
    "\n",
    "Things to Remember\n",
    "- Avoid making dictionaries with values that are dictionaries, long tuples, or complex nestings of other built-in types\n",
    "- Use namedtuple for lightweight, immutable data containers before you need the flexibility of a full class\n",
    "- Move your bookkeeping code to using multiple classes when your internal state dictionaries get complicated "
   ],
   "cell_type": "markdown",
   "metadata": {}
  },
  {
   "cell_type": "code",
   "execution_count": null,
   "metadata": {},
   "outputs": [],
   "source": [
    "# - record the grades of a set of students whose\n",
    "#   names aren't known in advance\n",
    "\n",
    "class SimpleGradebook:\n",
    "    def __init__(self):\n",
    "        self._grades = {}\n",
    "    def add_student(self, name):\n",
    "        # - bookkeeps an unexpected set\n",
    "        #   of identifiers (dynamic)\n",
    "        #   using dictionary  \n",
    "        self._grades[name] = [] # _grades\n",
    "    def report_grade(self, name, score):\n",
    "        self._grades[name].append(score)\n",
    "    def average_grade(self, name):\n",
    "        grades = self._grades[name]\n",
    "        return sum(grades) / len(grades)\n",
    "\n",
    "book = SimpleGradebook()\n",
    "book.add_student('Isaac Newton')\n",
    "book.report_grade('Isaac Newton', 90)\n",
    "book.report_grade('Isaac Newton', 95)\n",
    "book.report_grade('Isaac Newton', 85)\n",
    "\n",
    "print(book.average_grade('Isaac Newton'))"
   ]
  },
  {
   "cell_type": "code",
   "execution_count": null,
   "metadata": {},
   "outputs": [],
   "source": [
    "# now you want to track the scores per subject\n",
    "\n",
    "from collections import defaultdict\n",
    "\n",
    "class BySubjectGradebook:\n",
    "    def __init__(self):\n",
    "        self._grades = {} # outer dict    \n",
    "    def add_student(self, name):\n",
    "        self._grades[name] = defaultdict(list) # inner dict\n",
    "    def report_grade(self, name, subject, grade):\n",
    "        by_subject = self._grades[name]\n",
    "        grade_list = by_subject[subject]\n",
    "        grade_list.append(grade)\n",
    "    def average_grade(self, name):\n",
    "        by_subject = self._grades[name]\n",
    "        total, count = 0, 0\n",
    "        for grades in by_subject.values():\n",
    "            total += sum(grades)\n",
    "            count += len(grades)\n",
    "        return total / count\n",
    "\n",
    "book = BySubjectGradebook()\n",
    "book.add_student('Albert Einstein')\n",
    "book.report_grade('Albert Einstein', 'Math', 75)\n",
    "book.report_grade('Albert Einstein', 'Math', 65)\n",
    "book.report_grade('Albert Einstein', 'Gym', 90)\n",
    "book.report_grade('Albert Einstein', 'Gym', 95)\n",
    "print(book.average_grade('Albert Einstein'))"
   ]
  },
  {
   "source": [
    "defaultdict\n",
    "- defaultdict(list): \n",
    "  When each key is encountered for the first time, an entry is automatically created using the default_factory function which returns an empty list in this case."
   ],
   "cell_type": "markdown",
   "metadata": {}
  },
  {
   "cell_type": "code",
   "execution_count": null,
   "metadata": {},
   "outputs": [],
   "source": [
    "# - now you want to track the weight of each score toward the overall\n",
    "#   grade in the class so that midterm and final exams are more \n",
    "#   important than pop quizzes\n",
    "from collections import defaultdict\n",
    "\n",
    "class WeightedGradebook:\n",
    "    def __init__(self):\n",
    "        self._grades = {} # outer dict    \n",
    "    def add_student(self, name):\n",
    "        self._grades[name] = defaultdict(list) # inner dict\n",
    "    def report_grade(self, name, subject, score, weight):\n",
    "        by_subject = self._grades[name]\n",
    "        grade_list = by_subject[subject]\n",
    "        grade_list.append((score, weight)) # store tuple instances\n",
    "    def average_grade(self, name):\n",
    "        by_subject = self._grades[name]\n",
    "\n",
    "        score_sum, score_count = 0, 0\n",
    "        for subject, scores in by_subject.items():\n",
    "            subject_avg, total_weight = 0, 0\n",
    "            for score, weight in scores:\n",
    "                subject_avg += score * weight\n",
    "                total_weight += weight\n",
    "            # - you can't assume that total weight is 1,\n",
    "            #   so to calculate the score for a subject \n",
    "            #   you need to divide subject average by\n",
    "            #   total weight   \n",
    "            score_sum += subject_avg / total_weight\n",
    "            score_count += 1\n",
    "        return score_sum / score_count\n",
    "\n",
    "book = WeightedGradebook()\n",
    "book.add_student('Albert Einstein')\n",
    "book.report_grade('Albert Einstein', 'Math', 75, 0.05)\n",
    "book.report_grade('Albert Einstein', 'Math', 65, 0.15)\n",
    "book.report_grade('Albert Einstein', 'Math', 70, 0.80)\n",
    "book.report_grade('Albert Einstein', 'Gym', 100, 0.40)\n",
    "book.report_grade('Albert Einstein', 'Gym', 85, 0.60)\n",
    "print(book.average_grade('Albert Einstein'))"
   ]
  },
  {
   "source": [
    "- It's time to make the leap from built-in types like dictionaries, tuples, sets, and lists to a hierarchy of classes as the code becomes increasingly complex and harder to read\n",
    "- Python's built-in dictionary and tuple types made it easy to keep going, adding layer after layer to the internal bookkeeping, but we should stop at one level of nesting as more levels will make the code hard to read and difficult to maintain\n",
    "- When your bookkeeping is getting complicated, break it all out into classes to provide well-defined interfaces that better encapsulate your data\n"
   ],
   "cell_type": "markdown",
   "metadata": {}
  },
  {
   "source": [
    "Refactoring to Classes\n",
    "- Start at the bottom of the dependency tree: a single grade\n",
    "- Write a Subject class to represent a single subject that contains a set of grades\n",
    "- Write a Student class to represent a set of subjects that are being studied by a single student\n",
    "- Write a Gradebook class serves a container for all the students"
   ],
   "cell_type": "markdown",
   "metadata": {}
  },
  {
   "cell_type": "code",
   "execution_count": null,
   "metadata": {},
   "outputs": [],
   "source": [
    "# single grade - the tuple approach \n",
    "grades = []\n",
    "grades.append((95, 0.45))\n",
    "grades.append((85, 0.55))\n",
    "total = sum(score * weight for score, weight in grades)\n",
    "# _ is Python convention for unused variables\n",
    "total_weight = sum(weight for _, weight in grades)\n",
    "average_grade = total / total_weight\n",
    "print(average_grade)"
   ]
  },
  {
   "source": [
    "what is the problem?\n",
    "- the tuple instances are positional\n",
    "- this becomes a problem when you want to add more info to a grade as you will need to rewrite every usage of the two-tuple to be aware that there are now more items present instead of two\n"
   ],
   "cell_type": "markdown",
   "metadata": {}
  },
  {
   "cell_type": "code",
   "execution_count": null,
   "metadata": {},
   "outputs": [],
   "source": [
    "# single grade - the tuple approach\n",
    "# adding notes\n",
    "grades = []\n",
    "grades.append((95, 0.45, 'Great job'))\n",
    "grades.append((85, 0.55, 'Better next time'))\n",
    "total = sum(score * weight for score, weight, _ in grades) # adding _\n",
    "# _ is Python convention for unused variables\n",
    "total_weight = sum(weight for _, weight, _ in grades) # adding one more _\n",
    "average_grade = total / total_weight\n",
    "print(average_grade)"
   ]
  },
  {
   "cell_type": "code",
   "execution_count": null,
   "metadata": {},
   "outputs": [],
   "source": [
    "# single grade - the namedtuple approach\n",
    "from collections import namedtuple\n",
    "Grade = namedtuple('Grade', ('score', 'weight'))\n",
    "theGrade = Grade(100, 1) # use it like a data class\n",
    "print(theGrade.score)"
   ]
  },
  {
   "source": [
    "Limitations of namedtuple\n",
    "- You can't specify default argument values for namedtuple\n",
    "- You still can access the attribute values of namedtuple instances using numerical indexes and iteration, which can lead to unintentional usage that makes it harder to move to a real class later"
   ],
   "cell_type": "markdown",
   "metadata": {}
  },
  {
   "cell_type": "code",
   "execution_count": null,
   "metadata": {},
   "outputs": [],
   "source": [
    "# - namedtuple is still a tuple, you can't really\n",
    "#   prevent the following usages of it  \n",
    "for x in theGrade: # access attribute values via iteration\n",
    "    print(x)\n",
    "\n",
    "# access the attribute values using numerical indexes  \n",
    "print(theGrade[0]) "
   ]
  },
  {
   "cell_type": "code",
   "execution_count": null,
   "metadata": {},
   "outputs": [],
   "source": [
    "# - a single subject that contains \n",
    "#   a set of grades\n",
    "class Subject:\n",
    "    def __init__(self):\n",
    "        self._grades = []\n",
    "    def report_grade(self, score, weight):\n",
    "        self._grades.append(Grade(score, weight))\n",
    "    def average_grade(self):\n",
    "        total, total_weight = 0, 0\n",
    "        for grade in self._grades:\n",
    "            total += grade.score * grade.weight\n",
    "            total_weight += grade.weight\n",
    "        return total / total_weight"
   ]
  },
  {
   "cell_type": "code",
   "execution_count": null,
   "metadata": {},
   "outputs": [],
   "source": [
    "from collections import defaultdict\n",
    "class Student:\n",
    "    def __init__(self):\n",
    "        self._subjects = defaultdict(Subject)\n",
    "    def get_subject(self, name):\n",
    "        return self._subjects[name]\n",
    "    def average_grade(self):\n",
    "        total, count = 0, 0\n",
    "        for subject in self._subjects.values():\n",
    "            total += subject.average_grade()\n",
    "            count += 1\n",
    "        return total / count\n",
    "    "
   ]
  },
  {
   "cell_type": "code",
   "execution_count": null,
   "metadata": {},
   "outputs": [],
   "source": [
    "\n",
    "class Gradebook:\n",
    "    def __init__(self):\n",
    "        self._students = defaultdict(Student)\n",
    "    \n",
    "    def get_student(self, name):\n",
    "        return self._students[name]"
   ]
  },
  {
   "cell_type": "code",
   "execution_count": null,
   "metadata": {},
   "outputs": [],
   "source": [
    "book = Gradebook()\n",
    "albert = book.get_student('Albert Einstein')\n",
    "math = albert.get_subject('Math')\n",
    "math.report_grade(75, 0.05)\n",
    "math.report_grade(65, 0.15)\n",
    "math.report_grade(70, 0.80)\n",
    "gym = albert.get_subject('Gym')\n",
    "gym.report_grade(100, 0.40)\n",
    "gym.report_grade(85, 0.60)\n",
    "print(albert.average_grade())"
   ]
  }
 ]
}