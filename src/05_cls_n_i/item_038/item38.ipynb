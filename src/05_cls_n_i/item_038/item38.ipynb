{
 "metadata": {
  "language_info": {
   "codemirror_mode": {
    "name": "ipython",
    "version": 3
   },
   "file_extension": ".py",
   "mimetype": "text/x-python",
   "name": "python",
   "nbconvert_exporter": "python",
   "pygments_lexer": "ipython3",
   "version": "3.8.3-final"
  },
  "orig_nbformat": 2,
  "kernelspec": {
   "name": "python3",
   "display_name": "Python 3.8.3 64-bit ('py-effective-py': pipenv)",
   "metadata": {
    "interpreter": {
     "hash": "bf53ecf2be5b0c89778fbd17a3e30ef364a8b92138249caa59ed972682d3f38a"
    }
   }
  }
 },
 "nbformat": 4,
 "nbformat_minor": 2,
 "cells": [
  {
   "source": [
    "Item 38 Accept Functions Instead of Classes for Simple Interfaces\n",
    "\n",
    "Things to Remember\n",
    "- Instead of defining and instantiating classes, you can often simply use functions for simple interfaces between components in Python.\n",
    "- References to functions and methods in Python are first class, meaning they can be used in expressions (like any other type).\n",
    "- The \\__call\\_ special method enables instances of a class to be called like plain Python functions.\n",
    "- When you need a function to maintain state, consider defining a class that provides the \\__call\\__ method instead of defining a stateful closure."
   ],
   "cell_type": "markdown",
   "metadata": {}
  },
  {
   "source": [
    "Background\n",
    "- Many of Python's built-in APIs allow you to customize behavior by passing in a function.\n",
    "- These hooks are used by APIs to call back your code while they execute.\n",
    "- In Python, many hooks are just stateless functions with well-defined arguments and return values.\n",
    "- Functions are easier to describe and simpler to define than classes. "
   ],
   "cell_type": "markdown",
   "metadata": {}
  },
  {
   "cell_type": "code",
   "execution_count": null,
   "metadata": {},
   "outputs": [],
   "source": [
    "names = ['Socrates', 'Archimedes', 'Plato', 'Aristotle']\n",
    "names.sort(key=len)\n",
    "print(names)"
   ]
  },
  {
   "cell_type": "code",
   "execution_count": null,
   "metadata": {},
   "outputs": [],
   "source": [
    "# customize the defaultdict\n",
    "\n",
    "def log_missing(): # accepts no arguments\n",
    "    print('Key added') # your code \n",
    "    # - must return the default value\n",
    "    #   that the missing key should \n",
    "    #   have in the dict \n",
    "    return 0"
   ]
  },
  {
   "cell_type": "code",
   "execution_count": null,
   "metadata": {},
   "outputs": [],
   "source": [
    "from collections import defaultdict\n",
    "\n",
    "current = {'green': 12, 'blue': 3}\n",
    "increments = [\n",
    "    ('red', 5),\n",
    "    ('blue', 17),\n",
    "    ('orange', 9)\n",
    "]\n",
    "\n",
    "result = defaultdict(log_missing, current)\n",
    "print('Before:', dict(result))\n",
    "for key, amount in increments:\n",
    "    result[key] += amount\n",
    "print('After: ', dict(result))\n"
   ]
  },
  {
   "source": [],
   "cell_type": "markdown",
   "metadata": {}
  },
  {
   "source": [
    "- Supplying hooks makes APIs easy to build and test because it separates side effects (your code) from deterministic behavior (the default value returned)"
   ],
   "cell_type": "markdown",
   "metadata": {}
  },
  {
   "cell_type": "code",
   "execution_count": 5,
   "metadata": {},
   "outputs": [],
   "source": [
    "# side effects using a stateful closure (check Item 21)\n",
    "def increment_with_report(current, increments):\n",
    "    added_count = 0\n",
    "    def missing():\n",
    "        nonlocal added_count # stateful closure\n",
    "        added_count += 1\n",
    "        return 0\n",
    "    # - the defaultdict has no idea that\n",
    "    #   the missing hook maintain state     \n",
    "    result = defaultdict(missing, current) \n",
    "    for key, amount in increments:\n",
    "        result[key] += amount\n",
    "    return result, added_count  "
   ]
  },
  {
   "cell_type": "code",
   "execution_count": 6,
   "metadata": {},
   "outputs": [],
   "source": [
    "result, count = increment_with_report(current, increments)\n",
    "assert count == 2"
   ]
  },
  {
   "cell_type": "code",
   "execution_count": 7,
   "metadata": {},
   "outputs": [],
   "source": [
    "# - define a small class that encapsulates\n",
    "#   the state\n",
    "# - it's clearer than the stateful closure approach\n",
    "class CountMissing:\n",
    "    def __init__(self):\n",
    "        self.added = 0\n",
    "    \n",
    "    def missing(self):\n",
    "        self.added += 1\n",
    "        return 0"
   ]
  },
  {
   "cell_type": "code",
   "execution_count": 8,
   "metadata": {},
   "outputs": [],
   "source": [
    "counter = CountMissing()\n",
    "# - pass the 'missing' method as\n",
    "#   the default value hook\n",
    "result = defaultdict(counter.missing, current)\n",
    "for key, amount in increments:\n",
    "    result[key] += amount\n",
    "assert counter.added == 2"
   ]
  },
  {
   "cell_type": "code",
   "execution_count": 9,
   "metadata": {},
   "outputs": [],
   "source": [
    "# - define the __call__ special method\n",
    "# - this allows an object to be called\n",
    "#   just like a function\n",
    "\n",
    "class BetterCountMissing:\n",
    "    def __init__(self):\n",
    "        self.added = 0\n",
    "    # - indicates that a class's instances will be used\n",
    "    #   somewhere a function argument would be suitable\n",
    "    #   (like API hooks)\n",
    "\n",
    "    def __call__(self):\n",
    "        self.added += 1\n",
    "        return 0  "
   ]
  },
  {
   "cell_type": "code",
   "execution_count": 12,
   "metadata": {},
   "outputs": [],
   "source": [
    "counter = BetterCountMissing()\n",
    "assert counter() == 0 # call the object like a function\n",
    "assert callable(counter) # True"
   ]
  },
  {
   "cell_type": "code",
   "execution_count": 13,
   "metadata": {},
   "outputs": [],
   "source": [
    "counter = BetterCountMissing()\n",
    "result = defaultdict(counter, current) # relies on __call__\n",
    "for key, amount in increments:\n",
    "    result[key] += amount\n",
    "assert counter.added == 2 "
   ]
  },
  {
   "cell_type": "code",
   "execution_count": null,
   "metadata": {},
   "outputs": [],
   "source": []
  }
 ]
}