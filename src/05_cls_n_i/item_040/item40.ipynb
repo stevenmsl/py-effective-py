{
 "metadata": {
  "language_info": {
   "codemirror_mode": {
    "name": "ipython",
    "version": 3
   },
   "file_extension": ".py",
   "mimetype": "text/x-python",
   "name": "python",
   "nbconvert_exporter": "python",
   "pygments_lexer": "ipython3",
   "version": "3.8.3-final"
  },
  "orig_nbformat": 2,
  "kernelspec": {
   "name": "python3",
   "display_name": "Python 3.8.3 64-bit ('.venv': venv)",
   "metadata": {
    "interpreter": {
     "hash": "bf53ecf2be5b0c89778fbd17a3e30ef364a8b92138249caa59ed972682d3f38a"
    }
   }
  }
 },
 "nbformat": 4,
 "nbformat_minor": 2,
 "cells": [
  {
   "source": [
    "Item 40 Initialize Parent Classes with super  \n",
    "\n",
    "Things to Remember\n",
    "- Python's standard method resolution order (MRO) solves the problems of superclass initialization order and diamond inheritance.\n",
    "- Use the super built-in function with zero arguments to initialize parent classes."
   ],
   "cell_type": "markdown",
   "metadata": {}
  },
  {
   "cell_type": "code",
   "execution_count": null,
   "metadata": {},
   "outputs": [],
   "source": [
    "class MyBaseClass:\n",
    "    def __init__(self, value):\n",
    "        self.value = value"
   ]
  },
  {
   "cell_type": "code",
   "execution_count": null,
   "metadata": {},
   "outputs": [],
   "source": [
    "# - call parent's  __init__ method directly\n",
    "# - works fine in simple cases\n",
    "class MyChildClass(MyBaseClass):\n",
    "    def __init__(self):\n",
    "        MyBaseClass.__init__(self, 5)\n",
    "\n",
    "print(MyChildClass().value)\n"
   ]
  },
  {
   "cell_type": "code",
   "execution_count": null,
   "metadata": {},
   "outputs": [],
   "source": [
    "class TimesTwo:\n",
    "    def __init__(self):\n",
    "        self.value *= 2\n",
    "class PlusFive:\n",
    "    def __init__(self):\n",
    "        self.value += 5"
   ]
  },
  {
   "cell_type": "code",
   "execution_count": null,
   "metadata": {},
   "outputs": [],
   "source": [
    "# unpredictable behavior in multiple inheritance\n",
    "class OneWay(MyBaseClass, TimesTwo, PlusFive):\n",
    "    def __init__(self, value):\n",
    "        MyBaseClass.__init__(self, value)\n",
    "        TimesTwo.__init__(self)\n",
    "        PlusFive.__init__(self)\n",
    "\n",
    "foo = OneWay(5)\n",
    "print('First ordering value is (5 * 2) + 5 =', foo.value)\n",
    "\n",
    "# - your intension is to plus 5 first and then times 2\n",
    "#  \n",
    "class AnotherWay(MyBaseClass, PlusFive, TimesTwo):\n",
    "    def __init__(self, value):\n",
    "        # - the order of the calls to the \n",
    "        #   parent class constructors doesn't\n",
    "        #   match the order of the parent \n",
    "        #   classes in its definition \n",
    "        #   (PlusFive then TimesTwo)\n",
    "        # - bugs like this are difficult \n",
    "        #   to spot  \n",
    "        MyBaseClass.__init__(self, value)\n",
    "        TimesTwo.__init__(self)\n",
    "        PlusFive.__init__(self)\n",
    "\n",
    "\n",
    "bar = AnotherWay(5)\n",
    "print('Second ordering value is', bar.value) # still 15 not 20\n"
   ]
  },
  {
   "cell_type": "code",
   "execution_count": null,
   "metadata": {},
   "outputs": [],
   "source": [
    "# diamond inheritance\n",
    "# - two separate classes that have the same superclass \n",
    "#   somewhere in the hierarchy\n",
    "class TimesSeven(MyBaseClass):\n",
    "    def __init__(self, value):\n",
    "        MyBaseClass.__init__(self, value) # reset the value\n",
    "        self.value *= 7\n",
    "\n",
    "class PlusNine(MyBaseClass):\n",
    "    def __init__(self, value):\n",
    "        MyBaseClass.__init__(self, value) # reset the value\n",
    "        self.value += 9"
   ]
  },
  {
   "cell_type": "code",
   "execution_count": null,
   "metadata": {},
   "outputs": [],
   "source": [
    "class ThisWay(TimesSeven, PlusNine):\n",
    "    def __init__(self, value):\n",
    "        TimesSeven.__init__(self, value)\n",
    "        # - completely ignore the effect\n",
    "        #   of the TimesSeven constructor\n",
    "        # - this behavior can be very \n",
    "        #   difficult to debug in more\n",
    "        #   complex cases\n",
    "        PlusNine.__init__(self, value)\n",
    "\n",
    "foo = ThisWay(5)\n",
    "print('Should be (5 * 7) + 9 = 44 but is', foo.value)"
   ]
  },
  {
   "source": [
    "Solution to these problems? the super built-in function and standard method resolution order (MRO)\n",
    "- super ensures that common superclasses in diamond hierarchies are run only once (see Item 48)\n",
    "- The MRO defines the ordering in which superclasses are initialized, following an algorithm called C3 linearization"
   ],
   "cell_type": "markdown",
   "metadata": {}
  },
  {
   "cell_type": "code",
   "execution_count": null,
   "metadata": {},
   "outputs": [],
   "source": [
    "class TimesSevenCorrect(MyBaseClass):\n",
    "    def __init__(self, value):\n",
    "        super().__init__(value)\n",
    "        self.value *= 7 \n",
    "class PlusNineCorrect(MyBaseClass):\n",
    "    def __init__(self, value):\n",
    "        super().__init__(value)\n",
    "        self.value += 9\n",
    "\n",
    "class GoodWay(TimesSevenCorrect, PlusNineCorrect):\n",
    "    def __init__(self, value):\n",
    "        # - calling super will make sure\n",
    "        #   the top part of the diamond\n",
    "        #   , MyBaseClass.__init__, is \n",
    "        #   run pnly a single time \n",
    "        super().__init__(value) \n",
    "\n",
    "foo = GoodWay(5)\n",
    "print('Should be 7 * (5 + 9) = 98 and is', foo.value)\n",
    "\n"
   ]
  },
  {
   "cell_type": "code",
   "execution_count": null,
   "metadata": {},
   "outputs": [],
   "source": [
    "# observe MRO\n",
    "mro_str = '\\n'.join(repr(cls) for cls in GoodWay.mro())\n",
    "print(mro_str) # like call stack"
   ]
  },
  {
   "source": [
    "what happens when you call GoodWay(5) ?\n",
    "- the order of the calls is TimesSevenCorrect.\\__init\\__ -> PlusNineCorrect.\\__init\\__ -> MyBaseClass.\\__init\\__\n",
    "- the excution order is in the opposite order (like nested function calls)\n",
    "  - MyBaseClass.\\__init\\__ assigns the value to 5\n",
    "  - PlusNineCorrect.\\__init\\__ changes the value to 14 ( 5 + 9 )\n",
    "  - TimesSevenCorrect.\\__init\\__ changes the value to 98 ( 14 x 7 )"
   ],
   "cell_type": "markdown",
   "metadata": {}
  },
  {
   "source": [
    "calling super with two parameters\n",
    "- the first is the type of the class whose MRO parent view you are trying to access\n",
    "- the second is the instance on which to access that view \n"
   ],
   "cell_type": "markdown",
   "metadata": {}
  },
  {
   "cell_type": "code",
   "execution_count": 32,
   "metadata": {},
   "outputs": [],
   "source": [
    "class ExplicitTrisect(MyBaseClass):\n",
    "    def __init__(self, value):\n",
    "        super(ExplicitTrisect, self).__init__(value)\n",
    "        self.value /= 3\n",
    "\n",
    "class AutomaticTrisect(MyBaseClass):\n",
    "    def __init__(self, value):\n",
    "        # -  __class__ is a reference to the\n",
    "        #    type of the current instance\n",
    "        super(__class__, self).__init__(value)\n",
    "        self.value /= 3\n",
    "\n",
    "class ImplicitTrisect(MyBaseClass):\n",
    "    def __init__(self, value):\n",
    "        # - let Python's compiler\n",
    "        #   do the work to provide\n",
    "        #   the correct parameters\n",
    "        super().__init__(value)\n",
    "        self.value /= 3"
   ]
  },
  {
   "cell_type": "code",
   "execution_count": 33,
   "metadata": {},
   "outputs": [],
   "source": [
    "assert ExplicitTrisect(9).value == 3\n",
    "assert AutomaticTrisect(9).value == 3\n",
    "assert ImplicitTrisect(9).value == 3"
   ]
  },
  {
   "source": [
    "Note\n",
    "- The only time you should provide parameters to super is in situations where you need to access the specific functionality of a superclass's implementation from a child."
   ],
   "cell_type": "markdown",
   "metadata": {}
  }
 ]
}