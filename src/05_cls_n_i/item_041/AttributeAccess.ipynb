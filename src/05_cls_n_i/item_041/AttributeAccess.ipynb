{
 "metadata": {
  "language_info": {
   "codemirror_mode": {
    "name": "ipython",
    "version": 3
   },
   "file_extension": ".py",
   "mimetype": "text/x-python",
   "name": "python",
   "nbconvert_exporter": "python",
   "pygments_lexer": "ipython3",
   "version": "3.8.3-final"
  },
  "orig_nbformat": 2,
  "kernelspec": {
   "name": "python3",
   "display_name": "Python 3.8.3 64-bit ('.venv': venv)",
   "metadata": {
    "interpreter": {
     "hash": "bf53ecf2be5b0c89778fbd17a3e30ef364a8b92138249caa59ed972682d3f38a"
    }
   }
  }
 },
 "nbformat": 4,
 "nbformat_minor": 2,
 "cells": [
  {
   "source": [
    "Attribute Access"
   ],
   "cell_type": "markdown",
   "metadata": {}
  },
  {
   "cell_type": "code",
   "execution_count": null,
   "metadata": {},
   "outputs": [],
   "source": [
    "# the conents of __dict__ are different for objects and classes \n",
    "class TheClass(object):\n",
    "    x = 4\n",
    "print (TheClass.__dict__) # you will see x at class level\n",
    "\n",
    "theObject = TheClass()\n",
    "theObject.y = 5\n",
    "print (theObject.__dict__) # you will see y not x at object level\n",
    "# you can get to the class's __dict__ from an object\n",
    "print (theObject.__class__.__dict__['x'])"
   ]
  },
  {
   "source": [
    "MappingProxyType\n",
    "- For class-level attributes and methods for classes, the keys are strings to simplify and speed-up the common case code for attribute and method lookup at the class-level. \n",
    "- The \\__mro\\__ search logic for new-style classes is simplified and sped-up by assuming the class dict keys are strings.\n",
    "- It does not have __setattr__ method and hence is read-only "
   ],
   "cell_type": "markdown",
   "metadata": {}
  },
  {
   "cell_type": "code",
   "execution_count": null,
   "metadata": {},
   "outputs": [],
   "source": [
    "# MappingProxyType\n",
    "from types import MappingProxyType\n",
    "# at class level, the type is MappingProxyType \n",
    "assert(isinstance(TheClass.__dict__, MappingProxyType))\n",
    "# at the object level, the type is dict\n",
    "assert(isinstance(theObject.__dict__, dict))"
   ]
  },
  {
   "cell_type": "code",
   "execution_count": null,
   "metadata": {},
   "outputs": [],
   "source": [
    "theObject.__dict__['y'] = 6 # this is fine\n",
    "TheClass.__dict__['x'] = 5 # error:  item assignment not supported "
   ]
  },
  {
   "cell_type": "code",
   "execution_count": null,
   "metadata": {},
   "outputs": [],
   "source": [
    "mycars = [\"Model S\", \"Model X\", \"Model Y\"]\n",
    "# list type does have a __dict__ attribute\n",
    "assert (hasattr(list,'__dict__') == True)\n",
    "# list objects do not have a __dict__ attribute\n",
    "assert (hasattr(mycars,'__dict__') == False)\n",
    "\n",
    "car = {\n",
    "  \"brand\": \"Tesla\",\n",
    "  \"model\": \"3\",\n",
    "  \"year\": 2020\n",
    "}\n",
    "\n",
    "# dict type does have a __dict__ attribute\n",
    "assert (hasattr(dict,'__dict__') == True)\n",
    "assert (hasattr(car.__class__, '__dict__') == True) # same as above\n",
    "# dict objects do not have a __dict__ attribute\n",
    "assert (hasattr(car,'__dict__') == False)\n",
    "\n"
   ]
  },
  {
   "cell_type": "code",
   "execution_count": null,
   "metadata": {},
   "outputs": [],
   "source": [
    "# - so in the item 41 code example, in the _traverse method\n",
    "#   we treat it separately\n",
    "\n",
    "# simplifed version of the example in item 41\n",
    "class MyCollection:\n",
    "    def __init__(self, cars, car):\n",
    "        # 'cars' attribute is added to the object's __dict__\n",
    "        self.cars = cars\n",
    "        self.car = car\n",
    "\n",
    "\n",
    "def traverse_dict(instance_dict):\n",
    "    output = {}\n",
    "    for key, value in instance_dict.items():\n",
    "        output[key] = traverse(key, value)\n",
    "    return output\n",
    "\n",
    "def traverse(key, value):\n",
    "    if isinstance(value, dict):\n",
    "        return traverse_dict(value)\n",
    "    if isinstance(value, list):\n",
    "        # traverse each item in the list\n",
    "        return [traverse(key, i) for i in value] \n",
    "    else:\n",
    "        return value\n"
   ]
  },
  {
   "cell_type": "code",
   "execution_count": null,
   "metadata": {},
   "outputs": [],
   "source": [
    "myCollection = MyCollection(mycars, car)\n",
    "traverse_dict(myCollection.__dict__)"
   ]
  },
  {
   "cell_type": "code",
   "execution_count": null,
   "metadata": {},
   "outputs": [],
   "source": []
  }
 ]
}