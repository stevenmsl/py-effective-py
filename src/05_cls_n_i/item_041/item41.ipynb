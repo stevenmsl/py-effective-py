{
 "metadata": {
  "language_info": {
   "codemirror_mode": {
    "name": "ipython",
    "version": 3
   },
   "file_extension": ".py",
   "mimetype": "text/x-python",
   "name": "python",
   "nbconvert_exporter": "python",
   "pygments_lexer": "ipython3",
   "version": "3.8.3-final"
  },
  "orig_nbformat": 2,
  "kernelspec": {
   "name": "python3",
   "display_name": "Python 3.8.3 64-bit ('py-effective-py': pipenv)",
   "metadata": {
    "interpreter": {
     "hash": "bf53ecf2be5b0c89778fbd17a3e30ef364a8b92138249caa59ed972682d3f38a"
    }
   }
  }
 },
 "nbformat": 4,
 "nbformat_minor": 2,
 "cells": [
  {
   "source": [
    "Item 41 Consider Composing Functionality with Mix-in Classes\n",
    "\n",
    "Things to Remember\n",
    "- Avoid using multiple inheritance with instance attributes and __init__ if mix-in classes can achieve the same outcome.\n",
    "- Use pluggable behaviors at the instance level to provide per-class customization when mix-in classes may require it.\n",
    "- Mix-ins can include instance methods or class methods, depending on your needs.\n",
    "- Compose mix-ins to create complex functionality from simple behaviors.\n"
   ],
   "cell_type": "markdown",
   "metadata": {}
  },
  {
   "source": [
    "About \\__dict\\__\n",
    "- A dictionary or other mapping object used to store an object's (writable) attributes. \n",
    "- Check the AttributeAccess file in the same folder for more details and examples   "
   ],
   "cell_type": "markdown",
   "metadata": {}
  },
  {
   "source": [
    "About mix-ins\n",
    "- A mix-in is a class that defines only a small set of additional methods for its child classes to provide.\n",
    "- Mix-in classes don't define their own instance attributes nor require their __init__ constructor to be called.\n",
    "- Mix-ins can include instance methods or class methods, depending on your needs.\n",
    "- Compose mix-ins to create complex functionality from simple behaviors. \n"
   ],
   "cell_type": "markdown",
   "metadata": {}
  },
  {
   "cell_type": "code",
   "execution_count": 31,
   "metadata": {},
   "outputs": [],
   "source": [
    "# - you want to convert an object from its in-memory representation\n",
    "#   to a dictionary that's ready for serialization\n",
    "class ToDictMixin:\n",
    "    def to_dict(self):\n",
    "        # - this is why it's pluggable\n",
    "        # - it will call the overridden version \n",
    "        #   if there is one as you use 'self' \n",
    "        #   to look for such implementation \n",
    "        return self._traverse_dict(self.__dict__)\n",
    "    def _traverse_dict(self, instance_dict):\n",
    "        output = {}\n",
    "        for key, value in instance_dict.items():\n",
    "            # - same here you look for the \n",
    "            #   overridden version first \n",
    "            output[key] = self._traverse(key, value)\n",
    "        return output\n",
    "    def _traverse(self, key, value):\n",
    "        if isinstance(value, ToDictMixin):\n",
    "            # - since you are an instance of ToDictMixin\n",
    "            #   you must have a to_dict method defined                \n",
    "            #   so I will just use that\n",
    "            return value.to_dict()\n",
    "        if isinstance(value, dict):\n",
    "            # - dict objects do not have __dict__\n",
    "            # - we just traverse it as a dict   \n",
    "            return self._traverse_dict(value)\n",
    "        if isinstance(value, list): # return a list\n",
    "            # - list objects do not have __dict__\n",
    "            return [self._traverse(key, i) for i in value]\n",
    "        if hasattr(value, '__dic__'):\n",
    "            return self._traverse_dict(value.__dict__)\n",
    "        else:\n",
    "            return value"
   ]
  },
  {
   "cell_type": "code",
   "execution_count": 32,
   "metadata": {},
   "outputs": [],
   "source": [
    "class BinaryTree(ToDictMixin):\n",
    "    def __init__(self, value, left=None, right=None):\n",
    "        self.value = value\n",
    "        self.left = left\n",
    "        self.right = right"
   ]
  },
  {
   "cell_type": "code",
   "execution_count": 33,
   "metadata": {},
   "outputs": [
    {
     "output_type": "stream",
     "name": "stdout",
     "text": [
      "{'value': 10, 'left': {'value': 7, 'left': None, 'right': {'value': 9, 'left': None, 'right': None}}, 'right': {'value': 13, 'left': {'value': 11, 'left': None, 'right': None}, 'right': None}}\n"
     ]
    }
   ],
   "source": [
    "tree = BinaryTree(10,\n",
    "    left=BinaryTree(7, right=BinaryTree(9)),\n",
    "    right=BinaryTree(13,left=BinaryTree(11)))\n",
    "print(tree.to_dict())"
   ]
  },
  {
   "cell_type": "code",
   "execution_count": 34,
   "metadata": {},
   "outputs": [],
   "source": [
    "# - make mix-ins generic functionality pluggable\n",
    "#   so behaviors can be overriden when required\n",
    "class BinaryTreeWithParent(BinaryTree):\n",
    "    def __init__(self, value, left=None,\n",
    "                 right=None, parent=None):\n",
    "        super().__init__(value, left = left, right=right)\n",
    "        self.parent = parent\n",
    "    # - override _traverse (in ToDictMixin) to only prcocess\n",
    "    #   values that matter \n",
    "    def _traverse(self, key, value):\n",
    "        if (isinstance(value, BinaryTreeWithParent) and\n",
    "                key == 'parent'):\n",
    "            # - prevent cycles but not following\n",
    "            #   the circular referencing properties (parent)     \n",
    "            return value.value\n",
    "        else:\n",
    "            return super()._traverse(key, value)\n"
   ]
  },
  {
   "cell_type": "code",
   "execution_count": 35,
   "metadata": {},
   "outputs": [
    {
     "output_type": "stream",
     "name": "stdout",
     "text": [
      "{'value': 10, 'left': {'value': 7, 'left': None, 'right': {'value': 9, 'left': None, 'right': None, 'parent': 7}, 'parent': 10}, 'right': None, 'parent': None}\n"
     ]
    }
   ],
   "source": [
    "root = BinaryTreeWithParent(10)\n",
    "root.left = BinaryTreeWithParent(7, parent=root)\n",
    "root.left.right = BinaryTreeWithParent(9, parent=root.left)\n",
    "print(root.to_dict())"
   ]
  },
  {
   "cell_type": "code",
   "execution_count": 36,
   "metadata": {},
   "outputs": [],
   "source": [
    "# - just to recap BinaryTreeWithParent \n",
    "#   is an instance of ToDictMixin \n",
    "assert (isinstance(root, ToDictMixin))"
   ]
  },
  {
   "cell_type": "code",
   "execution_count": 37,
   "metadata": {},
   "outputs": [],
   "source": [
    "# - you also enable any class that has an\n",
    "#   attribute of BinaryTreeWithParent\n",
    "#   to automatically work with the \n",
    "#   ToDictMixin\n",
    "\n",
    "class NamedSubTree(ToDictMixin):\n",
    "    def __init__(self, name, tree_with_parent):\n",
    "        self.name = name\n",
    "        self.tree_with_parent = tree_with_parent"
   ]
  },
  {
   "cell_type": "code",
   "execution_count": 38,
   "metadata": {},
   "outputs": [
    {
     "output_type": "stream",
     "name": "stdout",
     "text": [
      "{'name': 'foobar', 'tree_with_parent': {'value': 9, 'left': None, 'right': None, 'parent': 7}}\n"
     ]
    }
   ],
   "source": [
    "my_tree = NamedSubTree('foobar', root.left.right)\n",
    "print(my_tree.to_dict()) # no infinite loop"
   ]
  },
  {
   "cell_type": "code",
   "execution_count": 39,
   "metadata": {},
   "outputs": [],
   "source": [
    "# compose mix-ins\n",
    "import json\n",
    "\n",
    "class JsonMixin:\n",
    "    @classmethod\n",
    "    def from_json(cls, data): # factory\n",
    "        # - json.load: deserialize a \n",
    "        #   JSON document to a Python\n",
    "        #   object\n",
    "        kwargs = json.loads(data)\n",
    "        # - **kwargs allows you to pass keyworded \n",
    "        #     variable length of arguments to \n",
    "        #     a function. \n",
    "        return cls(**kwargs)\n",
    "    \n",
    "    def to_json(self):\n",
    "        return json.dumps(self.to_dict())  \n",
    "   "
   ]
  },
  {
   "cell_type": "code",
   "execution_count": 40,
   "metadata": {},
   "outputs": [],
   "source": [
    "# - you are designing a hierarchy of data classes\n",
    "#   representing parts of a datacenter topology\n",
    "\n",
    "class Switch(ToDictMixin, JsonMixin):\n",
    "    def __init__(self, ports=None, speed=None):\n",
    "        self.ports = ports\n",
    "        self.speed = speed\n",
    "\n",
    "class Machine(ToDictMixin, JsonMixin):\n",
    "    def __init__(self, cores=None, ram=None, disk=None):\n",
    "        self.cores = cores\n",
    "        self.ram = ram\n",
    "        self.disk = disk\n",
    "\n",
    "class DatacenterRack(ToDictMixin, JsonMixin):\n",
    "    def __init__(self, switch=None, machines=None):\n",
    "        self.switch = Switch(**switch)\n",
    "        self.machines = [\n",
    "            Machine(**kwargs) for kwargs in machines]\n"
   ]
  },
  {
   "cell_type": "code",
   "execution_count": 42,
   "metadata": {},
   "outputs": [],
   "source": [
    "serialized = \"\"\"{\n",
    "    \"switch\" : {\"ports\": 5, \"speed\": 1e9},\n",
    "    \"machines\": [\n",
    "        {\"cores\": 8, \"ram\": 32e9, \"disk\": 5e12},\n",
    "        {\"cores\": 4, \"ram\": 16e9, \"disk\": 1e12},\n",
    "        {\"cores\": 2, \"ram\": 4e9, \"disk\": 500e9}\n",
    "    ]\n",
    "}\"\"\"\n",
    "\n",
    "deserialized = DatacenterRack.from_json(serialized)\n",
    "roundtrip = deserialized.to_json()\n",
    "assert(json.loads(serialized) == json.loads(roundtrip))"
   ]
  },
  {
   "cell_type": "code",
   "execution_count": null,
   "metadata": {},
   "outputs": [],
   "source": []
  }
 ]
}