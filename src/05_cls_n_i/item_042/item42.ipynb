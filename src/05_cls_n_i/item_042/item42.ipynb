{
 "metadata": {
  "language_info": {
   "codemirror_mode": {
    "name": "ipython",
    "version": 3
   },
   "file_extension": ".py",
   "mimetype": "text/x-python",
   "name": "python",
   "nbconvert_exporter": "python",
   "pygments_lexer": "ipython3",
   "version": "3.8.3-final"
  },
  "orig_nbformat": 2,
  "kernelspec": {
   "name": "python3",
   "display_name": "Python 3.8.3 64-bit ('py-effective-py': pipenv)",
   "metadata": {
    "interpreter": {
     "hash": "bf53ecf2be5b0c89778fbd17a3e30ef364a8b92138249caa59ed972682d3f38a"
    }
   }
  }
 },
 "nbformat": 4,
 "nbformat_minor": 2,
 "cells": [
  {
   "source": [
    "Item 42 Prefer Public Attributes Over Private Ones\n",
    "\n",
    "Things to Remember\n",
    "- Private attributes aren't rigorously enforced by the Python compiler.\n",
    "- Plan from the beginning to allow subclasses to do more with your internal APIs and attributes instead of choosing to lock them out.\n",
    "- Use documentation of protected fields to guide subclasses instead of trying to force access control with private attributes.\n",
    "- Only consider using private attributes to avoid naming conflicts with subclasses that are out of your control."
   ],
   "cell_type": "markdown",
   "metadata": {}
  },
  {
   "cell_type": "code",
   "execution_count": null,
   "metadata": {},
   "outputs": [],
   "source": [
    "class MyObject:\n",
    "    def __init__(self):\n",
    "        self.public_field = 5\n",
    "        # prefixing an attribute's name\n",
    "        # with a double underscore to \n",
    "        # make it private\n",
    "        self.__private_field = 10 \n",
    "    def get_private_field(self):\n",
    "        return self.__private_field"
   ]
  },
  {
   "cell_type": "code",
   "execution_count": null,
   "metadata": {},
   "outputs": [],
   "source": [
    "foo = MyObject()\n",
    "# - use dot operator to access\n",
    "#   public attributes \n",
    "assert foo.public_field == 5\n",
    "assert foo.get_private_field() == 10"
   ]
  },
  {
   "cell_type": "code",
   "execution_count": null,
   "metadata": {},
   "outputs": [],
   "source": [
    "# - you can't access private attributes\n",
    "#   from outside the classes\n",
    "foo.__private_field # error"
   ]
  },
  {
   "cell_type": "code",
   "execution_count": null,
   "metadata": {},
   "outputs": [],
   "source": [
    "class MyOtherObject:\n",
    "    def __init__(self):\n",
    "        self.__private_field = 71\n",
    "    @classmethod\n",
    "    # - class methods have access to private attributes\n",
    "    #   because they are declared within the surrounding\n",
    "    #   class block\n",
    "    def get_private_field_of_instance(cls, instance):\n",
    "        return instance.__private_field\n"
   ]
  },
  {
   "cell_type": "code",
   "execution_count": null,
   "metadata": {},
   "outputs": [],
   "source": [
    "# class methods have access to private attributes\n",
    "bar = MyOtherObject()\n",
    "assert MyOtherObject.get_private_field_of_instance(bar) == 71"
   ]
  },
  {
   "cell_type": "code",
   "execution_count": null,
   "metadata": {},
   "outputs": [],
   "source": [
    "# a subclass can't access its parent calss's private fields\n",
    "class MyParentObject:\n",
    "    def __init__(self):\n",
    "        self.__private_field = 71\n",
    "\n",
    "class MyChildObject(MyParentObject):\n",
    "    def get_private_field(self):\n",
    "        # - will cause error as you can't \n",
    "        #   access parent class's private\n",
    "        #   fields from child a subclass \n",
    "        return self.__private_field"
   ]
  },
  {
   "cell_type": "code",
   "execution_count": null,
   "metadata": {},
   "outputs": [],
   "source": [
    "baz = MyChildObject()\n",
    "baz.get_private_field() # error"
   ]
  },
  {
   "source": [
    "How to access the private attributes without asking for permission\n",
    "- the private attribute in MyParentObject, \\__private\\_field, will be translated to \\_MyParentObject\\__private\\_field\n",
    "- so if you know the transformation of the attribute name, you can access the private attributes directly  \n",
    " "
   ],
   "cell_type": "markdown",
   "metadata": {}
  },
  {
   "cell_type": "code",
   "execution_count": null,
   "metadata": {},
   "outputs": [],
   "source": [
    "# access the private attribute directly\n",
    "assert baz._MyParentObject__private_field == 71"
   ]
  },
  {
   "cell_type": "code",
   "execution_count": null,
   "metadata": {},
   "outputs": [],
   "source": [
    "#  the real name of the private fields\n",
    "print(baz.__dict__) # _MyParentObject__private_field "
   ]
  },
  {
   "source": [
    "Why Python doesn't enforce strict visibility \n",
    "- Python programmers believe the benefits of being open and should permit unplanned extension of classes by default\n",
    "- Attribute access methods like \\__getattr\\__ (see Item 47) enables you to mess around with the internals of objects whenever you wish anyway.\n",
    "- follow naming convention to prefix a field with a single underscore to indicate it's protected "
   ],
   "cell_type": "markdown",
   "metadata": {}
  },
  {
   "cell_type": "code",
   "execution_count": null,
   "metadata": {},
   "outputs": [],
   "source": [
    "# wrong approach\n",
    "class MyStringClass:\n",
    "    def __init__(self, value):\n",
    "        self.__value = value\n",
    "    def get_value(self):\n",
    "         # - only return string,\n",
    "         #   which makes it really\n",
    "         #   not flexible  \n",
    "        return str(self.__value)"
   ]
  },
  {
   "cell_type": "code",
   "execution_count": null,
   "metadata": {},
   "outputs": [],
   "source": [
    "foo = MyStringClass(5)\n",
    "assert foo.get_value() == '5'"
   ]
  },
  {
   "source": [
    "- By choosing private attributes in your approach, you're only making subclass overrides and extensions cumbersome and brittle  "
   ],
   "cell_type": "markdown",
   "metadata": {}
  },
  {
   "cell_type": "code",
   "execution_count": null,
   "metadata": {},
   "outputs": [],
   "source": [
    "# I want to return an integer instead\n",
    "class MyIntegerSubclass(MyStringClass):\n",
    "    # - override this method to work around\n",
    "    #   the deficiency that the parent's\n",
    "    #   method only returns a string\n",
    "    def get_value(self):\n",
    "        # - this is brittle and can break easily \n",
    "        return int(self._MyStringClass__value)"
   ]
  },
  {
   "cell_type": "code",
   "execution_count": null,
   "metadata": {},
   "outputs": [],
   "source": [
    "foo = MyIntegerSubclass('5')\n",
    "assert foo.get_value() == 5"
   ]
  },
  {
   "cell_type": "code",
   "execution_count": null,
   "metadata": {},
   "outputs": [],
   "source": [
    "# - class hierachy changes and the private attribute \n",
    "#   references are no longer valid\n",
    "class MyBaseClass:\n",
    "    def __init__(self, value):\n",
    "        self.__value = value\n",
    "    def get_value(self):\n",
    "        return self.__value\n",
    "\n",
    "class MyStringClass(MyBaseClass):\n",
    "    def get_value(self):\n",
    "        return str(super.get_value()) # updated\n",
    "\n",
    "class MyIntegerSubclass(MyStringClass):\n",
    "    def get_value(self):\n",
    "        # the reference is no longer valid\n",
    "        return int(self._MyStringClass__value)"
   ]
  },
  {
   "cell_type": "code",
   "execution_count": null,
   "metadata": {},
   "outputs": [],
   "source": [
    "foo = MyIntegerSubclass(5)\n",
    "foo.get_value() # error"
   ]
  },
  {
   "source": [
    "- In general it's better to err on the side of allowing subclasses to do more by using protected attributes.\n",
    "- Document each protected field and explain which fields are internal APIs available to subclasses and which should be left alone entirely"
   ],
   "cell_type": "markdown",
   "metadata": {}
  },
  {
   "source": [
    "When to use private attributes?\n",
    "- Avoid naming conflicts with subclasses which might be out of your control\n",
    "- Such conflicts are especially possible with attribute names that are very common"
   ],
   "cell_type": "markdown",
   "metadata": {}
  },
  {
   "cell_type": "code",
   "execution_count": null,
   "metadata": {},
   "outputs": [],
   "source": [
    "class ApiClass:\n",
    "    def __init__(self):\n",
    "        self._value = 5 # protected field\n",
    "    def get(self):\n",
    "        return self._value\n",
    "\n",
    "class Child(ApiClass):\n",
    "    def __init__(self):\n",
    "        super().__init__()\n",
    "        self._value = 'hello' # conflicts"
   ]
  },
  {
   "cell_type": "code",
   "execution_count": null,
   "metadata": {},
   "outputs": [],
   "source": [
    "a = Child()\n",
    "print(f'{a.get()} and {a._value} should be different')"
   ]
  },
  {
   "cell_type": "code",
   "execution_count": null,
   "metadata": {},
   "outputs": [],
   "source": [
    "# use private attributes\n",
    "class ApiClass:\n",
    "    def __init__(self):\n",
    "        self.__value = 5 # private field\n",
    "    def get(self):\n",
    "        return self.__value\n",
    "\n",
    "class Child(ApiClass):\n",
    "    def __init__(self):\n",
    "        super().__init__()\n",
    "        self._value = 'hello' # ok"
   ]
  },
  {
   "cell_type": "code",
   "execution_count": null,
   "metadata": {},
   "outputs": [],
   "source": [
    "a = Child()\n",
    "print(f'{a.get()} and {a._value} should be different')"
   ]
  },
  {
   "cell_type": "code",
   "execution_count": null,
   "metadata": {},
   "outputs": [],
   "source": []
  }
 ]
}