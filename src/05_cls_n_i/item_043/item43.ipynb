{
 "metadata": {
  "language_info": {
   "codemirror_mode": {
    "name": "ipython",
    "version": 3
   },
   "file_extension": ".py",
   "mimetype": "text/x-python",
   "name": "python",
   "nbconvert_exporter": "python",
   "pygments_lexer": "ipython3",
   "version": "3.8.3-final"
  },
  "orig_nbformat": 2,
  "kernelspec": {
   "name": "python3",
   "display_name": "Python 3.8.3 64-bit ('.venv': venv)",
   "metadata": {
    "interpreter": {
     "hash": "bf53ecf2be5b0c89778fbd17a3e30ef364a8b92138249caa59ed972682d3f38a"
    }
   }
  }
 },
 "nbformat": 4,
 "nbformat_minor": 2,
 "cells": [
  {
   "source": [
    "Item 43 Inherit from collections.abc for Custom Container Types \n",
    "\n",
    "Things to Remember\n",
    "- Inherit directly from Python's container types (like list or dict) for simple use cases.\n",
    "- Beware of the large number of methods required to implement custom container types correctly.\n",
    "- Have your custom container types inherit from the interfaces defined in collections.abc to ensure that your classes match required interfaces and behaviors.    "
   ],
   "cell_type": "markdown",
   "metadata": {}
  },
  {
   "cell_type": "code",
   "execution_count": null,
   "metadata": {},
   "outputs": [],
   "source": [
    "# - you want to create your own custom list type\n",
    "#   that has additional methods for counting the\n",
    "#   frequency of its members "
   ]
  },
  {
   "cell_type": "code",
   "execution_count": null,
   "metadata": {},
   "outputs": [],
   "source": [
    "# - You get all of list's standard functionality\n",
    "#   and preserve the semantics familiar to all\n",
    "#   Python programmers by subclassing list.\n",
    "class FrequencyList(list):\n",
    "    def __init__(self, members):\n",
    "        super().__init__(members)\n",
    "    def frequency(self):\n",
    "        counts = {}\n",
    "        for item in self:\n",
    "            counts[item] = counts.get(item, 0) + 1\n",
    "        return counts"
   ]
  },
  {
   "cell_type": "code",
   "execution_count": null,
   "metadata": {},
   "outputs": [],
   "source": [
    "foo = FrequencyList(['a', 'b', 'a', 'c', 'b', 'a', 'd'])\n",
    "print('Length is', len(foo))\n",
    "foo.pop() # - removes and returns \n",
    "          #   last object or obj \n",
    "          #    from list\n",
    "print('After pop:', repr(foo))\n",
    "print('Frequency:', foo.frequency())"
   ]
  },
  {
   "cell_type": "code",
   "execution_count": null,
   "metadata": {},
   "outputs": [],
   "source": [
    "# - you want to provide an object that\n",
    "#   feels like a list and allows indexing\n",
    "#   but isn't a list subclass\n",
    "\n",
    "# base class\n",
    "class BinaryNode:\n",
    "    def __init__(self, value, left=None, right=None):\n",
    "        self.value = value\n",
    "        self.left = left\n",
    "        self.right = right\n",
    "\n",
    "# now make it act like a sequence\n",
    "class IndexableNode(BinaryNode):\n",
    "    def _traverse(self):\n",
    "        if self.left is not None:\n",
    "            yield from self.left._traverse() # depth first\n",
    "        yield self\n",
    "        if self.right is not None:\n",
    "            yield from self.right._traverse()\n",
    "    \n",
    "     # - special method to implement\n",
    "     #   to support indexing \n",
    "    def __getitem__(self, index):\n",
    "        for i, item in enumerate(self._traverse()):\n",
    "            if i == index:\n",
    "                 return item.value\n",
    "        raise IndexError(f'Index {index} is out of range')"
   ]
  },
  {
   "cell_type": "code",
   "execution_count": null,
   "metadata": {},
   "outputs": [],
   "source": [
    "tree = IndexableNode(\n",
    "    10,\n",
    "    left=IndexableNode(\n",
    "        5,\n",
    "        left=IndexableNode(2),\n",
    "        right=IndexableNode(\n",
    "            6,\n",
    "            right=IndexableNode(7))),\n",
    "    right=IndexableNode(\n",
    "        15,\n",
    "        left=IndexableNode(11)))"
   ]
  },
  {
   "cell_type": "code",
   "execution_count": null,
   "metadata": {},
   "outputs": [],
   "source": [
    "print('LRR is', tree.left.right.right.value)\n",
    "print('Index 0 is', tree[0])\n",
    "print('Index 1 is', tree[1])\n",
    "print('11 in the tree', 11 in tree)\n",
    "print('17 in the tree', 17 in tree)\n",
    "print('Tree is', list(tree))"
   ]
  },
  {
   "source": [
    "looks fine so what's wrong?\n"
   ],
   "cell_type": "markdown",
   "metadata": {}
  },
  {
   "cell_type": "code",
   "execution_count": null,
   "metadata": {},
   "outputs": [],
   "source": [
    "# - implementing __getitem__ alone \n",
    "#   isn't enough to provide all of\n",
    "#   the sequence semantics you'd \n",
    "#   expect from a list instance\n",
    "len(tree) # error "
   ]
  },
  {
   "cell_type": "code",
   "execution_count": null,
   "metadata": {},
   "outputs": [],
   "source": [
    "class SequenceNode(IndexableNode):\n",
    "    def __len__(self):\n",
    "        # - the index starts with 1, and once you are done \n",
    "        #   visiting the tree 'count' will have the value of \n",
    "        #   the index of the last node.\n",
    "        for count, _ in enumerate(self._traverse(), 1):\n",
    "            pass\n",
    "        return count"
   ]
  },
  {
   "cell_type": "code",
   "execution_count": null,
   "metadata": {},
   "outputs": [],
   "source": [
    "tree = SequenceNode(\n",
    "    10,\n",
    "    left=SequenceNode(\n",
    "        5,\n",
    "        left=SequenceNode(2),\n",
    "        right=SequenceNode(\n",
    "            6,\n",
    "            right=SequenceNode(7))),\n",
    "    right=SequenceNode(\n",
    "        15,\n",
    "        left=SequenceNode(11)))\n",
    "\n",
    "print('Tree length is', len(tree))"
   ]
  },
  {
   "source": [
    "Unfortunately this is not the end of story\n",
    "- you are still missing other methods developers would expect to see on a sequence like list or tuple\n",
    "- count and index, for example, are such methods  "
   ],
   "cell_type": "markdown",
   "metadata": {}
  },
  {
   "source": [
    "Solution?\n",
    "- Subclass from Sequence in collections.abc.  \n",
    "- The module tell you what is wrong in case you forget to implement required methods.   "
   ],
   "cell_type": "markdown",
   "metadata": {}
  },
  {
   "cell_type": "code",
   "execution_count": null,
   "metadata": {},
   "outputs": [],
   "source": [
    "from collections.abc import Sequence"
   ]
  },
  {
   "cell_type": "code",
   "execution_count": null,
   "metadata": {},
   "outputs": [],
   "source": [
    "class BadType(Sequence):\n",
    "    pass\n",
    "\n",
    "foo = BadType() # error message will tell what is missing"
   ]
  },
  {
   "cell_type": "code",
   "execution_count": null,
   "metadata": {},
   "outputs": [],
   "source": [
    "# - inherit from SequenceNode so you have\n",
    "#   the impplementaion for __getitem__ and\n",
    "#   __len__\n",
    "# - inherit from Seqeunce so you don't need\n",
    "#   to worry about other required methods\n",
    "#   such as index and count \n",
    "class BetterNode(SequenceNode, Sequence):\n",
    "    pass\n"
   ]
  },
  {
   "cell_type": "code",
   "execution_count": null,
   "metadata": {},
   "outputs": [],
   "source": [
    "tree = BetterNode(\n",
    "    10,\n",
    "    left=BetterNode(\n",
    "        5,\n",
    "        left=BetterNode(2),\n",
    "        right=BetterNode(\n",
    "            6,\n",
    "            right=BetterNode(7))),\n",
    "    right=BetterNode(\n",
    "        15,\n",
    "        left=BetterNode(11)))"
   ]
  },
  {
   "cell_type": "code",
   "execution_count": null,
   "metadata": {},
   "outputs": [],
   "source": [
    "print('Index of 7 is', tree.index(7))\n",
    "print('Count of 10 is', tree.count(10))"
   ]
  },
  {
   "source": [
    "The benefit of using these abstract calsses is even greater for more complex container types such as Set and MutableMapping, which have a large number of special methods that need to be implemented to match Python conventions."
   ],
   "cell_type": "markdown",
   "metadata": {}
  }
 ]
}