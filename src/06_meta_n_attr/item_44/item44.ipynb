{
 "metadata": {
  "language_info": {
   "codemirror_mode": {
    "name": "ipython",
    "version": 3
   },
   "file_extension": ".py",
   "mimetype": "text/x-python",
   "name": "python",
   "nbconvert_exporter": "python",
   "pygments_lexer": "ipython3",
   "version": "3.8.3-final"
  },
  "orig_nbformat": 2,
  "kernelspec": {
   "name": "python3",
   "display_name": "Python 3.8.3 64-bit ('py-effective-py': pipenv)",
   "metadata": {
    "interpreter": {
     "hash": "bf53ecf2be5b0c89778fbd17a3e30ef364a8b92138249caa59ed972682d3f38a"
    }
   }
  }
 },
 "nbformat": 4,
 "nbformat_minor": 2,
 "cells": [
  {
   "source": [
    "Item 44 Use Plain Attributes Instead of Setter and Getter Methods  \n",
    "\n",
    "Things to Remember\n",
    "- Define new class interfaces using simple public attributes and avoid defining setter and getter methods\n",
    "- Use @property to define special behavior when attributes are accessed on your objects, if necessary.\n",
    "- Follow the rule of least surprise and avoid odd side effects in your @property methods.\n",
    "- Ensure that @property methods are fast; for slow or complex work-especially involving I/O or causing side effects-use normal methods instead.   "
   ],
   "cell_type": "markdown",
   "metadata": {}
  },
  {
   "cell_type": "code",
   "execution_count": null,
   "metadata": {},
   "outputs": [],
   "source": [
    "# - we coming from other languages may naturally \n",
    "#   try to implement explicit getter and setter\n",
    "#   methods in our classes\n",
    "\n",
    "class OldResistor:\n",
    "    def __init__(self, ohms):\n",
    "        self._ohms = ohms\n",
    "    \n",
    "    def get_ohms(self):\n",
    "        return self._ohms\n",
    "\n",
    "    def set_ohms(self, ohms):\n",
    "        self._ohms = ohms       "
   ]
  },
  {
   "cell_type": "code",
   "execution_count": null,
   "metadata": {},
   "outputs": [],
   "source": [
    "# - using these setters and getter is simple\n",
    "#   but not Pythonic\n",
    "r0 = OldResistor(50e3)\n",
    "print('Before:', r0.get_ohms())\n",
    "r0.set_ohms(10e3)\n",
    "print('After: ', r0.get_ohms())"
   ]
  },
  {
   "cell_type": "code",
   "execution_count": null,
   "metadata": {},
   "outputs": [],
   "source": [
    "# - and then it become clumsy for\n",
    "#   operations like incrementing\n",
    "#   in place\n",
    "r0.set_ohms(r0.get_ohms() - 4e3)\n",
    "assert r0.get_ohms() == 6e3"
   ]
  },
  {
   "source": [
    "The Pythonic way\n",
    "- do not implement explicit setter or getter methods\n",
    "- should always start your implementation with simple public attributes\n",
    "- use @property decorator if you need special behavior on an attribute"
   ],
   "cell_type": "markdown",
   "metadata": {}
  },
  {
   "cell_type": "code",
   "execution_count": null,
   "metadata": {},
   "outputs": [],
   "source": [
    "# start with public attributes\n",
    "class Resistor:\n",
    "    def __init__(self, ohms):\n",
    "        self.ohms = ohms\n",
    "        self.voltage = 0\n",
    "        self.current = 0\n"
   ]
  },
  {
   "cell_type": "code",
   "execution_count": null,
   "metadata": {},
   "outputs": [],
   "source": [
    "r1 = Resistor(50e3)\n",
    "r1.ohms = 10e3\n",
    "r1.ohms += 5e3 # looks natural and clear now"
   ]
  },
  {
   "cell_type": "code",
   "execution_count": null,
   "metadata": {},
   "outputs": [],
   "source": [
    "# - next I need special behavior\n",
    "# - I want to vary the current by \n",
    "#   assigning the voltage property\n",
    "\n",
    "class VoltageResistance(Resistor):\n",
    "    def __init__(self, ohms):\n",
    "        super().__init__(ohms)\n",
    "        self._voltage = 0\n",
    "    @property\n",
    "    # - the name must match\n",
    "    #   the intended property\n",
    "    #   name (voltage in this case)\n",
    "    def voltage(self): \n",
    "        return self._voltage\n",
    "    @voltage.setter\n",
    "    def voltage(self, voltage):\n",
    "        self._voltage = voltage\n",
    "        self.current = self._voltage / self.ohms       "
   ]
  },
  {
   "cell_type": "code",
   "execution_count": null,
   "metadata": {},
   "outputs": [],
   "source": [
    "r2 = VoltageResistance(1e3)\n",
    "print(f'Before: {r2.current:.2f} amps')\n",
    "r2.voltage = 10 # call the setter\n",
    "print(f'After:  {r2.current:.2f} amps')"
   ]
  },
  {
   "cell_type": "code",
   "execution_count": null,
   "metadata": {},
   "outputs": [],
   "source": [
    "# - perform type checking and validation on\n",
    "#   values passed to the class\n",
    "\n",
    "class BoundedResistance(Resistor):\n",
    "    def __init__(self, ohms):\n",
    "        super().__init__(ohms)\n",
    "    \n",
    "    @property\n",
    "    def ohms(self):\n",
    "        return self._ohms\n",
    "\n",
    "    @ohms.setter\n",
    "    def ohms(self, ohms):\n",
    "        if ohms <= 0:\n",
    "            raise ValueError(f'ohms must be > 0; got {ohms}')\n",
    "        self._ohms = ohms    "
   ]
  },
  {
   "cell_type": "code",
   "execution_count": null,
   "metadata": {},
   "outputs": [],
   "source": [
    "r3 = BoundedResistance(1e3)\n",
    "r3.ohms = 0 "
   ]
  },
  {
   "source": [
    "How the validation logic gets executed?\n",
    "- BoundedResistance.\\__init__ calls Resistor.\\__init\\__\n",
    "- Resistor.\\__init\\__ assigns self._ohms = 0\n",
    "- this assignment causes the setter from BoundedResistance to be called\n",
    "- the validation logic in the setter is executed  "
   ],
   "cell_type": "markdown",
   "metadata": {}
  },
  {
   "source": [
    "# - use @property to make attributes from parent\n",
    "#   classes immutable\n",
    "class FixedResistance(Resistor):\n",
    "    def __init__(self, ohms):\n",
    "        super().__init__(ohms)\n",
    "    \n",
    "    @property\n",
    "    def ohms(self):\n",
    "        return self._ohms\n",
    "\n",
    "    @ohms.setter\n",
    "    def ohms(self, ohms):\n",
    "        if hasattr(self, '_ohms'):\n",
    "            raise AttributeError(\"Ohms is immutable\")\n",
    "        self._ohms = ohms"
   ],
   "cell_type": "code",
   "metadata": {},
   "execution_count": null,
   "outputs": []
  },
  {
   "cell_type": "code",
   "execution_count": null,
   "metadata": {},
   "outputs": [],
   "source": [
    "r4 = FixedResistance(1e3)\n",
    "r4.ohms = 2e3 # error"
   ]
  },
  {
   "cell_type": "code",
   "execution_count": null,
   "metadata": {},
   "outputs": [],
   "source": [
    "# - don't set other attributes in getter\n",
    "#   methods to make their behavior is\n",
    "#   not surprising\n",
    "class MysteriousResistor(Resistor):\n",
    "    @property\n",
    "    def ohms(self):\n",
    "        # - set other attributes while reading ohms\n",
    "        # - this is bad as it would lead to extremely\n",
    "        #   bizzare behavior \n",
    "        self.voltage = self._ohms * self.current\n",
    "        return self._ohms\n",
    "\n",
    "    @ohms.setter\n",
    "    def ohms(self, ohms):\n",
    "        self._ohms = ohms    "
   ]
  },
  {
   "cell_type": "code",
   "execution_count": null,
   "metadata": {},
   "outputs": [],
   "source": [
    "r7 = MysteriousResistor(10)\n",
    "r7.current = 0.01\n",
    "print(f'Before: {r7.voltage:.2f}')\n",
    "# - I just want to know the value of ohms\n",
    "# - yet I have no idea by doing so I also\n",
    "#   changed the value of voltage at the \n",
    "#   same time\n",
    "r7.ohms\n",
    "print(f'After:  {r7.voltage:.2f}')\n"
   ]
  },
  {
   "source": [
    "Best Policy in using @property\n",
    "- Modify only related object state in @property.setter methods\n",
    "- Avoid other side effects that the caller may not expect beyond the object such as\n",
    "    - importing modules dynamically\n",
    "    - running slow helper functions\n",
    "    - doing I/O\n",
    "    - making expensive database queries\n",
    "- Users of a class will expect its attributes to be quick and easy to access.  "
   ],
   "cell_type": "markdown",
   "metadata": {}
  },
  {
   "source": [
    "Shortcoming of @property\n",
    "- Can only be shared by subclasses\n",
    "- Unrelated classes can't share the same implementation\n",
    "\n",
    "Descriptor \n",
    "- Check Item 46 for how descriptors enable reusable property logic and many more. "
   ],
   "cell_type": "markdown",
   "metadata": {}
  }
 ]
}