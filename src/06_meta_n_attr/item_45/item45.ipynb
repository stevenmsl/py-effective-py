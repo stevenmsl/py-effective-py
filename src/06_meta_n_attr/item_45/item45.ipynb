{
 "metadata": {
  "language_info": {
   "codemirror_mode": {
    "name": "ipython",
    "version": 3
   },
   "file_extension": ".py",
   "mimetype": "text/x-python",
   "name": "python",
   "nbconvert_exporter": "python",
   "pygments_lexer": "ipython3",
   "version": "3.8.3-final"
  },
  "orig_nbformat": 2,
  "kernelspec": {
   "name": "python3",
   "display_name": "Python 3.8.3 64-bit ('py-effective-py': pipenv)",
   "metadata": {
    "interpreter": {
     "hash": "bf53ecf2be5b0c89778fbd17a3e30ef364a8b92138249caa59ed972682d3f38a"
    }
   }
  }
 },
 "nbformat": 4,
 "nbformat_minor": 2,
 "cells": [
  {
   "source": [
    "Item 45 Consider @property Instead of Refactoring Attributes \n",
    "\n",
    "Things to Remember\n",
    "- Use @property to give existing instance attributes new functionality\n",
    "- Make incremental progress toward better data models by using @property\n",
    "- Consider refactoring a class and all call sites when you find yourself using @property too heavily   "
   ],
   "cell_type": "markdown",
   "metadata": {}
  },
  {
   "source": [
    "One advanced but common use of @property\n",
    "- transits what was a simple numerical attribute into an on-the-fly calculation\n",
    "    - allows you to migrate all existing usage of a class to have new behaviors without requiring any of the call sites to be rewritten "
   ],
   "cell_type": "markdown",
   "metadata": {}
  },
  {
   "cell_type": "code",
   "execution_count": null,
   "metadata": {},
   "outputs": [],
   "source": [
    "from datetime import datetime, timedelta\n",
    "\n",
    "class Bucket:\n",
    "    def __init__(self, period):\n",
    "        self.period_delta = timedelta(seconds=period)\n",
    "        self.reset_time = datetime.now()\n",
    "        self.quota = 0\n",
    "\n",
    "    def __repr__(self):\n",
    "        return f'Bucket(quota={self.quota})'"
   ]
  },
  {
   "cell_type": "code",
   "execution_count": null,
   "metadata": {},
   "outputs": [],
   "source": [
    "# - the leaky bucket algorithm works by ensuring that,\n",
    "#   whenever the bucket is filled, the amount of quota\n",
    "#   does not carry over from one period into the next\n",
    "def fill(bucket, amount):\n",
    "    now = datetime.now()\n",
    "    if (now - bucket.reset_time) > bucket.period_delta:\n",
    "        bucket.quota = 0 # does not carry over the amount\n",
    "        bucket.reset_time = now\n",
    "    bucket.quota += amount\n"
   ]
  },
  {
   "cell_type": "code",
   "execution_count": null,
   "metadata": {},
   "outputs": [],
   "source": [
    "# quota consumer\n",
    "def deduct(bucket, amount):\n",
    "    now = datetime.now()\n",
    "    if (now - bucket.reset_time) > bucket.period_delta:\n",
    "        return False # bucket hasn't been filled this period\n",
    "    if bucket.quota - amount < 0:\n",
    "        return False # bucket was filled, but not enough\n",
    "    bucket.quota -= amount\n",
    "    return True     "
   ]
  },
  {
   "cell_type": "code",
   "execution_count": null,
   "metadata": {},
   "outputs": [],
   "source": [
    "bucket = Bucket(60)\n",
    "fill(bucket, 100)\n",
    "print(bucket)\n",
    "if deduct(bucket, 99):\n",
    "    print('Had 99 quota')\n",
    "else:\n",
    "    print('Not enough for 99 quota')\n",
    "print(bucket)\n",
    "\n",
    "if deduct(bucket, 3):\n",
    "    print('Had 3 quota')\n",
    "else:\n",
    "    print('Not enough for 3 quota')\n",
    "print(bucket)"
   ]
  },
  {
   "source": [
    "Problems with the above implementation\n",
    "- You don't know what quota level the bucket started with\n",
    "- the caller of deduct doesn't know it's being blocked (not enough quota) because the bucket ran out of quota or the bucket never had quota during this period "
   ],
   "cell_type": "markdown",
   "metadata": {}
  },
  {
   "source": [
    "Solution\n",
    "- introduce two new attributes max_quota and quota_consumed\n",
    "- use @property to make sure the quota attribute is compatible with the existing code"
   ],
   "cell_type": "markdown",
   "metadata": {}
  },
  {
   "cell_type": "code",
   "execution_count": null,
   "metadata": {},
   "outputs": [],
   "source": [
    "from datetime import datetime, timedelta\n",
    "\n",
    "# - this implementaion assumes you fill up the \n",
    "#   bucket only once at most in any given period \n",
    "class NewBucket:\n",
    "    def __init__(self, period):\n",
    "        self.period_delta = timedelta(seconds=period)\n",
    "        self.reset_time = datetime.now()\n",
    "        self.max_quota = 0 # new attribute\n",
    "        self.quota_consumed = 0 # new attribute\n",
    "\n",
    "    def __repr__(self):\n",
    "        return (f'NewBucket(max_quota={self.max_quota}, '\n",
    "                f'quota_consumed={self.quota_consumed})')\n",
    "    @property\n",
    "    def quota(self): # compute the quota on-the-fly\n",
    "        return self.max_quota - self.quota_consumed\n",
    "    \n",
    "    # - review how the fill method \n",
    "    #   is implemented to understand \n",
    "    #   why the logic here is \n",
    "    #   implemented this way  \n",
    "    @quota.setter\n",
    "    def quota(self, amount): # amount is the new amount for quota\n",
    "        delta = self.max_quota - amount\n",
    "        # print(f'delta: {delta} amount:{amount}')\n",
    "        if amount == 0: # - fill method will set \n",
    "                        #   the quota to zero when\n",
    "                        #   the period expires   \n",
    "            # simulating resetting quota to 0\n",
    "            self.quota_consumed = 0\n",
    "            self.max_quota = 0\n",
    "        # - you are filling the bucket the first\n",
    "        #   time in a given period\n",
    "        elif delta < 0:\n",
    "            # - make sure it's a new period\n",
    "            #   before setting up the max_quota \n",
    "            assert self.quota_consumed == 0\n",
    "            self.max_quota = amount\n",
    "        else:\n",
    "            # quota being consumed during the period\n",
    "            assert self.max_quota >= self.quota_consumed\n",
    "            self.quota_consumed = delta "
   ]
  },
  {
   "cell_type": "code",
   "execution_count": null,
   "metadata": {},
   "outputs": [],
   "source": [
    "# - notice that we don't need to modify the fill\n",
    "#   or the deduct methods even though the quota\n",
    "#   attribute has been completely reimplemented\n",
    "bucket = NewBucket(60)\n",
    "fill(bucket, 100)\n",
    "print(bucket)\n",
    "deduct(bucket, 50)\n",
    "print(bucket)\n",
    "deduct(bucket, 40)\n",
    "print(bucket)\n",
    "assert bucket.quota == 10 \n",
    "assert deduct(bucket, 20) == False # can't consume another 20"
   ]
  },
  {
   "source": [
    "Benefits of using @property\n",
    "- the code using Bucket.quota doesn't have to change or know that the class has changed.\n",
    "- allows you to make incremental progress toward a better data model over time.  "
   ],
   "cell_type": "markdown",
   "metadata": {}
  },
  {
   "source": [
    "About the Bucket implementation\n",
    "- looks like fill and deduct should have been implemented as instance methods of the class\n",
    "- this is to showcase that in practice there are many situations in which objects start with poorly defined interfaces or ac as dumb data containers\n",
    "- @property is a tool to help you address problems in real-world code. Don't overuse it.\n",
    "- When you find yourself repeatedly extending @property methods, it's probably time to refactor your class instead of further paving over your code's poor design  "
   ],
   "cell_type": "markdown",
   "metadata": {}
  }
 ]
}