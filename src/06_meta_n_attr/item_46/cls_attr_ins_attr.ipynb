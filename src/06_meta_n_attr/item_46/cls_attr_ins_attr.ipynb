{
 "metadata": {
  "language_info": {
   "codemirror_mode": {
    "name": "ipython",
    "version": 3
   },
   "file_extension": ".py",
   "mimetype": "text/x-python",
   "name": "python",
   "nbconvert_exporter": "python",
   "pygments_lexer": "ipython3",
   "version": "3.8.3-final"
  },
  "orig_nbformat": 2,
  "kernelspec": {
   "name": "python3",
   "display_name": "Python 3.8.3 64-bit ('.venv': venv)",
   "metadata": {
    "interpreter": {
     "hash": "bf53ecf2be5b0c89778fbd17a3e30ef364a8b92138249caa59ed972682d3f38a"
    }
   }
  }
 },
 "nbformat": 4,
 "nbformat_minor": 2,
 "cells": [
  {
   "source": [
    "Python Class Attribute vs. Instance Attribute: What’s the Difference?\n",
    "- A Python class attribute is an attribute of the class, rather than an attribute of an instance of a class"
   ],
   "cell_type": "markdown",
   "metadata": {}
  },
  {
   "cell_type": "code",
   "execution_count": null,
   "metadata": {},
   "outputs": [],
   "source": [
    "class HourlyRate:\n",
    "    base_rate = 10.5 # class attribute\n",
    "    def __init__(self, hourly_rate):\n",
    "        if hourly_rate < self.base_rate:\n",
    "            raise ValueError(f'{hourly_rate} is lower than base rate {HourlyRate.base_rate}')\n",
    "        self.hourly_rate = hourly_rate"
   ]
  },
  {
   "cell_type": "code",
   "execution_count": null,
   "metadata": {},
   "outputs": [],
   "source": [
    "assert HourlyRate.base_rate == 10.5 \n",
    "\n",
    "# instances have access to class attribute too\n",
    "assert HourlyRate(11).base_rate == 10.5  "
   ]
  },
  {
   "source": [
    "Namespace\n",
    "\n",
    "- A namespace is a mapping from names to objects, with the property that there is zero relation between names in different namespaces. They’re usually implemented as Python dictionaries, although this is abstracted away.\n",
    "- When you try to access an attribute from an instance of a class, it first looks at its instance namespace. If it finds the attribute, it returns the associated value. If not, it then looks in the class namespace and returns the attribute (if it’s present, throwing an error otherwise). "
   ],
   "cell_type": "markdown",
   "metadata": {}
  },
  {
   "cell_type": "code",
   "execution_count": null,
   "metadata": {},
   "outputs": [],
   "source": [
    "class HourlyRate:\n",
    "    base_rate = 10.5 # class attribute\n",
    "    def __init__(self, hourly_rate):\n",
    "        if hourly_rate < self.base_rate:\n",
    "            raise ValueError(f'{hourly_rate} is lower than base rate {HourlyRate.base_rate}')\n",
    "        self.hourly_rate = hourly_rate\n"
   ]
  },
  {
   "source": [
    "How Class Attributes Handle Assignment"
   ],
   "cell_type": "markdown",
   "metadata": {}
  },
  {
   "cell_type": "code",
   "execution_count": null,
   "metadata": {},
   "outputs": [],
   "source": [
    "myRate = HourlyRate(12)\n",
    "yourRate = HourlyRate(14)\n",
    "\n",
    "# - class variable is set by accessing an instance, \n",
    "#   it will override the value only for that instance.\n",
    "myRate.base_rate = 11\n",
    "\n",
    "# - this essentially overrides the class variable \n",
    "#   and turns it into an instance variable available \n",
    "#   only for that instance. \n",
    "assert myRate.base_rate == 11 # will find the instance attribute\n",
    "\n",
    "# - will not have base_rate in yourRate instance namespace, \n",
    "#   so the value of the class attribute base_rate is returned\n",
    "assert yourRate.base_rate == 10.5"
   ]
  },
  {
   "source": [
    "Tracking all data across all instances of a given class"
   ],
   "cell_type": "markdown",
   "metadata": {}
  },
  {
   "cell_type": "code",
   "execution_count": null,
   "metadata": {},
   "outputs": [],
   "source": [
    "class Employee:\n",
    "    all_employees = []\n",
    "    def __init__(self, employee_id):\n",
    "        self.employee_id = employee_id\n",
    "        # - make sure you add it to \n",
    "        #   the class attribute\n",
    "        Employee.all_employees.append(self)"
   ]
  },
  {
   "cell_type": "code",
   "execution_count": null,
   "metadata": {},
   "outputs": [],
   "source": [
    "arlo = Employee(1)\n",
    "arlo2 = Employee(2)\n",
    "print (f'number of instances created so far: {len(Employee.all_employees)}')"
   ]
  },
  {
   "source": [
    "Reference: https://www.toptal.com/python/python-class-attributes-an-overly-thorough-guide"
   ],
   "cell_type": "markdown",
   "metadata": {}
  }
 ]
}