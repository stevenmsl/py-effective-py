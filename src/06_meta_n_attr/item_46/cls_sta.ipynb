{
 "metadata": {
  "language_info": {
   "codemirror_mode": {
    "name": "ipython",
    "version": 3
   },
   "file_extension": ".py",
   "mimetype": "text/x-python",
   "name": "python",
   "nbconvert_exporter": "python",
   "pygments_lexer": "ipython3",
   "version": "3.8.3-final"
  },
  "orig_nbformat": 2,
  "kernelspec": {
   "name": "python3",
   "display_name": "Python 3.8.3 64-bit ('py-effective-py': pipenv)",
   "metadata": {
    "interpreter": {
     "hash": "bf53ecf2be5b0c89778fbd17a3e30ef364a8b92138249caa59ed972682d3f38a"
    }
   }
  }
 },
 "nbformat": 4,
 "nbformat_minor": 2,
 "cells": [
  {
   "source": [
    "@classmethod vs @staticmethod\n",
    "\n",
    "Things to Remember:\n",
    "- The difference between a static method and a class method is:\n",
    "  - Static method knows nothing about the class and just deals with the parameters\n",
    "  - Class method works with the class since its first parameter is always the class itself.\n",
    "- Use @classmethod if you want to follow the static factory pattern "
   ],
   "cell_type": "markdown",
   "metadata": {}
  },
  {
   "source": [
    "@classmethod\n",
    "- has a mandatory first argument which is the uninstantiated class itself\n",
    "- since the class object is given to you within the method, you can still use the same @classmethod for sub-classes as well."
   ],
   "cell_type": "markdown",
   "metadata": {}
  },
  {
   "cell_type": "code",
   "execution_count": null,
   "metadata": {},
   "outputs": [],
   "source": [
    "import json\n",
    "class Student(object):\n",
    "    def __init__(self, first_name, last_name):\n",
    "        self.first_name = first_name\n",
    "        self.last_name = last_name\n",
    "    @classmethod\n",
    "    def from_string(cls, name_str): # factory 1\n",
    "        first_name, last_name = map(str, name_str.split(' '))\n",
    "        student = cls(first_name, last_name)\n",
    "        return student\n",
    "    @classmethod\n",
    "    def from_json(cls, json_obj): # factory 2\n",
    "        kwargs = json.loads(json_obj)\n",
    "        student = cls(**kwargs)\n",
    "        return student"
   ]
  },
  {
   "cell_type": "code",
   "execution_count": null,
   "metadata": {},
   "outputs": [],
   "source": [
    "assert Student.from_string('Arlo Balo').first_name == 'Arlo'"
   ]
  },
  {
   "cell_type": "code",
   "execution_count": 9,
   "metadata": {},
   "outputs": [],
   "source": [
    "arlo = \"\"\"{\n",
    "    \"first_name\" : \"Arlo\",\n",
    "    \"last_name\": \"Balo\" \n",
    "}\"\"\"\n",
    "\n",
    "assert Student.from_json(arlo).first_name == 'Arlo'"
   ]
  },
  {
   "cell_type": "code",
   "execution_count": 12,
   "metadata": {},
   "outputs": [],
   "source": [
    "arlo = Student('Arlo', 'Balo')\n",
    "# class methods also available on an instance object\n",
    "assert arlo.from_string('Arlo Balo').last_name == 'Balo'"
   ]
  },
  {
   "source": [
    "@staticmethod\n",
    "-  @staticmethod decorator is similar to @classmethod in that the methods it decorated can be called from an uninstantiated class object, although in this case there is no cls parameter passed to its method\n"
   ],
   "cell_type": "markdown",
   "metadata": {}
  },
  {
   "cell_type": "code",
   "execution_count": 13,
   "metadata": {},
   "outputs": [],
   "source": [
    "class Student(object):\n",
    "    def __init__(self, full_name):\n",
    "        # use self to get to the static method\n",
    "        self._is_full_name(full_name)\n",
    "        # or you can do this too\n",
    "        Student._is_full_name(full_name)\n",
    "        self.full_name = full_name\n",
    "    @staticmethod\n",
    "    def _is_full_name(name_str):\n",
    "        names = name_str.split(' ')\n",
    "        return len(names) > 1\n"
   ]
  },
  {
   "cell_type": "code",
   "execution_count": 14,
   "metadata": {},
   "outputs": [],
   "source": [
    "# available on a class object\n",
    "assert Student._is_full_name('Scott Robinson') \n",
    "assert not Student._is_full_name('Scott') \n",
    "s = Student('Arlo Balo')\n",
    "# available on an instance object as well\n",
    "assert s._is_full_name('Arlo Balo') "
   ]
  },
  {
   "source": [
    "Reference: https://stackabuse.com/pythons-classmethod-and-staticmethod-explained/"
   ],
   "cell_type": "markdown",
   "metadata": {}
  }
 ]
}