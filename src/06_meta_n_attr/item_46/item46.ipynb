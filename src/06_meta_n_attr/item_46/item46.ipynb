{
 "metadata": {
  "language_info": {
   "codemirror_mode": {
    "name": "ipython",
    "version": 3
   },
   "file_extension": ".py",
   "mimetype": "text/x-python",
   "name": "python",
   "nbconvert_exporter": "python",
   "pygments_lexer": "ipython3",
   "version": "3.8.3-final"
  },
  "orig_nbformat": 2,
  "kernelspec": {
   "name": "python3",
   "display_name": "Python 3.8.3 64-bit ('py-effective-py': pipenv)",
   "metadata": {
    "interpreter": {
     "hash": "bf53ecf2be5b0c89778fbd17a3e30ef364a8b92138249caa59ed972682d3f38a"
    }
   }
  }
 },
 "nbformat": 4,
 "nbformat_minor": 2,
 "cells": [
  {
   "source": [
    "Item 46 Use Descriptors for Reusable @property Methods\n",
    "\n",
    "Things to Remember\n",
    "- Reuse the behavior and validation of @property methods by defining your own descriptor classes\n",
    "- Use WeakKeyDictionary to ensure that your descriptor classes don't cause memory leaks\n",
    "- Don't get bogged down trying to understand exactly how \\__getattribute\\__ uses the descriptor protocol for getting and setting attributes "
   ],
   "cell_type": "markdown",
   "metadata": {}
  },
  {
   "source": [
    "Check the cls_sta file for more info on @classmethod and @staticmethod"
   ],
   "cell_type": "markdown",
   "metadata": {}
  },
  {
   "source": [
    "Big problem with the @property decorator\n",
    "- the methods it decorates can't be reused by multiple attributes of the same classes   "
   ],
   "cell_type": "markdown",
   "metadata": {}
  },
  {
   "cell_type": "code",
   "execution_count": null,
   "metadata": {},
   "outputs": [],
   "source": [
    "class HomeWork:\n",
    "    def __init__(self):\n",
    "        self._grade = 0\n",
    "    \n",
    "    @property\n",
    "    def grade(self):\n",
    "        return self._grade\n",
    "    \n",
    "    @grade.setter\n",
    "    def grade(self, value):\n",
    "        if not (0 <= value <= 100):\n",
    "            raise ValueError(\n",
    "                'Grade must be between 0 and 100')\n",
    "        self._grade = value"
   ]
  },
  {
   "cell_type": "code",
   "execution_count": null,
   "metadata": {},
   "outputs": [],
   "source": [
    "# the class is easy to use\n",
    "galileo = HomeWork()\n",
    "galileo.grade = 95 "
   ]
  },
  {
   "cell_type": "code",
   "execution_count": null,
   "metadata": {},
   "outputs": [],
   "source": [
    "# - it becomes tedious quickly once \n",
    "#   you have multiple attributes \n",
    "class Exam:\n",
    "    def __init__(self):\n",
    "        self._writing_grade = 0\n",
    "        self._math_grade = 0\n",
    "    \n",
    "    @staticmethod\n",
    "    def _check_grade(value):\n",
    "        if not (0 <= value <= 100):\n",
    "            raise ValueError(\n",
    "                'Grade must be between 0 and 100')\n",
    "   \n",
    "    # you need to write the boilerplate code repeatedly \n",
    "    @property\n",
    "    def writing_grade(self):\n",
    "       return self._writing_grade\n",
    "    \n",
    "    @writing_grade.setter\n",
    "    def riting_grade(self, value):\n",
    "        self._check_grade(value)\n",
    "        self._writing_grade = value\n",
    "\n",
    "    @property\n",
    "    def math_grade(self):\n",
    "       return self._math_grade\n",
    "    \n",
    "    @math_grade.setter\n",
    "    def math_grade(self, value):\n",
    "        self._check_grade(value)\n",
    "        self.math_grade = value\n"
   ]
  },
  {
   "source": [
    "descriptor protocol\n",
    "- defines how attribute access is interpreted by the language\n",
    "- in our case a descriptor class can provide \\__get\\__ and \\__set\\__ methods that let you reuse the grade validation behavior without boilerplate\n",
    "- in our case descriptors are better than mix-ins (Item 41) because they let you reuse the same logic for many different attributes in a single class  "
   ],
   "cell_type": "markdown",
   "metadata": {}
  },
  {
   "cell_type": "code",
   "execution_count": null,
   "metadata": {},
   "outputs": [],
   "source": [
    "# the descriptor class - first attempt\n",
    "class Grade:\n",
    "    def __init__(self):\n",
    "        self._value = 0\n",
    "    \n",
    "    def __get__(self, instance, instance_type):\n",
    "        return self._value\n",
    "    \n",
    "    def __set__(self, instance, value):\n",
    "        if not (0 <= value <= 100):\n",
    "            raise ValueError(\n",
    "                'Grade must be between 0 and 100')\n",
    "        self._value = value"
   ]
  },
  {
   "cell_type": "code",
   "execution_count": null,
   "metadata": {},
   "outputs": [],
   "source": [
    "# - refer to the cls_attr_ins_attr for more info \n",
    "#   on class attribute\n",
    "\n",
    "class Exam:\n",
    "    # class attributes\n",
    "    # - a single Grade instance is shared across all\n",
    "    #   Exam instances\n",
    "    math_grade = Grade()\n",
    "    writing_grade = Grade()\n",
    "    science_grade = Grade()"
   ]
  },
  {
   "cell_type": "code",
   "execution_count": null,
   "metadata": {},
   "outputs": [],
   "source": [
    "exam = Exam()\n",
    "exam.writing_grade = 40\n",
    "\n",
    "# - the exam.writing_grade = 40 statement\n",
    "#   is interpreted as the following  \n",
    "Exam.__dict__['writing_grade'].__set__(exam, 40)\n",
    "\n",
    "assert exam.writing_grade == 40\n",
    "\n",
    "# - the above statement is the same as\n",
    "#   the following\n",
    "assert Exam.__dict__['writing_grade'].__get__(exam, Exam) == 40"
   ]
  },
  {
   "source": [
    "How the above code works?\n",
    "- when an Exam instance doesn't have an attribute named writing_grade, Python falls back to the Exam class's attribute instead\n",
    "- if this class attribute is an object that has __get__ and __set__ methods, Python assumes you want to follow the descriptor protocol "
   ],
   "cell_type": "markdown",
   "metadata": {}
  },
  {
   "source": [
    "Problem with the first attempt\n",
    "- It only works if your entire program only has a single Exam instance\n",
    "- This is because a single Grade instance is shared across all Exam instances"
   ],
   "cell_type": "markdown",
   "metadata": {}
  },
  {
   "cell_type": "code",
   "execution_count": null,
   "metadata": {},
   "outputs": [],
   "source": [
    "first_exam = Exam()\n",
    "first_exam.writing_grade = 82\n",
    "first_exam.science_grade = 99\n",
    "print('Writing', first_exam.writing_grade)\n",
    "print('Science', first_exam.science_grade)\n",
    "\n",
    "second_exam = Exam()\n",
    "# - you are changing the shared writing_grade\n",
    "#   instance\n",
    "second_exam.writing_grade = 75\n",
    "print(f'Second {second_exam.writing_grade} is right')\n",
    "print(f'First  {first_exam.writing_grade} is wrong; '\n",
    "      f'should be 82')"
   ]
  },
  {
   "cell_type": "code",
   "execution_count": null,
   "metadata": {},
   "outputs": [],
   "source": [
    "# - second attempt\n",
    "# - keep track value for each Exam instance \n",
    "#   in the Grade class\n",
    "\n",
    "class Grade:\n",
    "    def __init__(self):\n",
    "        self._values = {}\n",
    "    \n",
    "    def __get__(self, instance, instance_type):\n",
    "        if instance is None:\n",
    "            return self\n",
    "        #  - save the per-instance state\n",
    "        #    in a dictionary  \n",
    "        return self._values.get(instance, 0)\n",
    "    \n",
    "    def __set__(self, instance, value):\n",
    "        if not (0 <= value <= 100):\n",
    "            raise ValueError(\n",
    "                'Grade must be between 0 and 100')\n",
    "        self._values[instance] = value"
   ]
  },
  {
   "cell_type": "code",
   "execution_count": null,
   "metadata": {},
   "outputs": [],
   "source": [
    "class Exam:\n",
    "    math_grade = Grade()\n",
    "    writing_grade = Grade()\n",
    "    science_grade = Grade()"
   ]
  },
  {
   "cell_type": "code",
   "execution_count": null,
   "metadata": {},
   "outputs": [],
   "source": [
    "first_exam = Exam()\n",
    "first_exam.writing_grade = 82\n",
    "first_exam.science_grade = 99\n",
    "print('Writing', first_exam.writing_grade)\n",
    "print('Science', first_exam.science_grade)\n",
    "\n",
    "second_exam = Exam()\n",
    "second_exam.writing_grade = 75\n",
    "print(f'First  {first_exam.writing_grade} is right')\n",
    "print(f'Second {second_exam.writing_grade} is right')"
   ]
  },
  {
   "source": [
    "Problem with the second attempt\n",
    "- it leaks memory\n",
    "- the _values dictionary holds a reference to every instance of Exam ever passed to \\__set\\__ over the lifetime of the program\n",
    "- this causes instances to never have their reference count go to zero and hence can't be garbage collected"
   ],
   "cell_type": "markdown",
   "metadata": {}
  },
  {
   "source": [
    "WeakKeyDictionary in weakref built-in module\n",
    "- When Python runtime knows the WeakKeyDictionary is holding the instance's last remaining reference in the program it will remove the instance from the WeakKeyDictionary\n",
    "- Python does the bookkeeping and ensure that the _values dictionary will be empty when all Exam instances are no longer in use"
   ],
   "cell_type": "markdown",
   "metadata": {}
  },
  {
   "cell_type": "code",
   "execution_count": null,
   "metadata": {},
   "outputs": [],
   "source": [
    "from weakref import WeakKeyDictionary\n",
    "# -  third attempt\n",
    "\n",
    "class Grade:\n",
    "    def __init__(self):\n",
    "        self._values = WeakKeyDictionary()\n",
    "    \n",
    "    def __get__(self, instance, instance_type):\n",
    "        if instance is None:\n",
    "            return self\n",
    "        #  - save the per-instance state\n",
    "        #    in a dictionary  \n",
    "        return self._values.get(instance, 0)\n",
    "    \n",
    "    def __set__(self, instance, value):\n",
    "        if not (0 <= value <= 100):\n",
    "            raise ValueError(\n",
    "                'Grade must be between 0 and 100')\n",
    "        self._values[instance] = value"
   ]
  },
  {
   "cell_type": "code",
   "execution_count": null,
   "metadata": {},
   "outputs": [],
   "source": [
    "class Exam:\n",
    "    math_grade = Grade()\n",
    "    writing_grade = Grade()\n",
    "    science_grade = Grade()"
   ]
  },
  {
   "cell_type": "code",
   "execution_count": null,
   "metadata": {},
   "outputs": [],
   "source": [
    "first_exam = Exam()\n",
    "first_exam.writing_grade = 82\n",
    "first_exam.science_grade = 99\n",
    "print('Writing', first_exam.writing_grade)\n",
    "print('Science', first_exam.science_grade)\n",
    "\n",
    "second_exam = Exam()\n",
    "second_exam.writing_grade = 75\n",
    "print(f'First  {first_exam.writing_grade} is right')\n",
    "print(f'Second {second_exam.writing_grade} is right')"
   ]
  },
  {
   "cell_type": "code",
   "execution_count": null,
   "metadata": {},
   "outputs": [],
   "source": []
  }
 ]
}