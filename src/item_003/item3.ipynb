{
 "metadata": {
  "language_info": {
   "codemirror_mode": {
    "name": "ipython",
    "version": 3
   },
   "file_extension": ".py",
   "mimetype": "text/x-python",
   "name": "python",
   "nbconvert_exporter": "python",
   "pygments_lexer": "ipython3",
   "version": "3.8.3-final"
  },
  "orig_nbformat": 2,
  "kernelspec": {
   "name": "Python 3.8.3 64-bit ('python-features': pipenv)",
   "display_name": "Python 3.8.3 64-bit ('python-features': pipenv)",
   "metadata": {
    "interpreter": {
     "hash": "72d857dadf07e42bf16e31285434fc2d8f4ad38f240229afb6ae195783c32492"
    }
   }
  }
 },
 "nbformat": 4,
 "nbformat_minor": 2,
 "cells": [
  {
   "source": [
    "Item 3 Know the Differences Between bytes and str \n",
    "\n",
    "Things to Remember\n",
    "- bytes contains squences of 8-bit values, and str contains sequences of Unicode code points.\n",
    "- Use helper functions to ensure that the inputs you operate on are the type of character \n",
    "  sequence that you expect (8 bit values, UTF-8-encoded, Unicode code points, etc).\n",
    "- bytes and str instances can't be used together with operators (like >, ==, +, and %).\n",
    "- If you want to read or write binary data to/from a file, always open the file using a \n",
    "  binary mode(like 'rb' or 'wb').\n",
    "- If you want to read or write Unicode data to/from a file, be careful about your system's \n",
    "  default text encoding. Explicitly pass the encoding parameter to open if you want to avoid\n",
    "  surprises. "
   ],
   "cell_type": "markdown",
   "metadata": {}
  },
  {
   "source": [
    "a = b'h\\x65llo' \n",
    "print(list(a))\n",
    "print(a)"
   ],
   "cell_type": "code",
   "metadata": {
    "tags": []
   },
   "execution_count": null,
   "outputs": []
  },
  {
   "source": [
    "\n",
    "The leading \\x escape sequence means the next two characters are interpreted as hex digits for the character code"
   ],
   "cell_type": "markdown",
   "metadata": {}
  },
  {
   "cell_type": "code",
   "execution_count": null,
   "metadata": {
    "tags": []
   },
   "outputs": [],
   "source": [
    "a = 'a\\u0300 propos'\n",
    "print(list(a))\n",
    "print(a)"
   ]
  },
  {
   "source": [
    "Unicode sandwich approach\n",
    "- Do encoding and decoding of Unicode data at the furthest of your interfaces\n",
    "- The core of your program should use the str type containing Unicode data and\n",
    "  should not assume anything about character encodings.\n",
    "- use helper functions like the following to convert between str and bytes and\n",
    "  to ensure that the type of input values matches your code's expectations\n",
    "-      \n"
   ],
   "cell_type": "markdown",
   "metadata": {}
  },
  {
   "cell_type": "code",
   "execution_count": null,
   "metadata": {
    "tags": []
   },
   "outputs": [],
   "source": [
    "def to_str(bytes_or_str):\n",
    "    if isinstance(bytes_or_str, bytes):\n",
    "        value = bytes_or_str.decode('utf-8')\n",
    "    else:\n",
    "        value = bytes_or_str\n",
    "    return value # instance of str\n",
    "\n",
    "print(repr(to_str(b'foo')))\n",
    "print(repr(to_str('bar')))"
   ]
  },
  {
   "source": [
    "\n",
    "- repr : returns a printable representation of the given object. \n",
    "- In the cases above it will print out 'foo' and 'bar' - values\n",
    "  will be enclosed by a pair of single quotes.  \n",
    "    "
   ],
   "cell_type": "markdown",
   "metadata": {}
  },
  {
   "cell_type": "code",
   "execution_count": null,
   "metadata": {
    "tags": []
   },
   "outputs": [],
   "source": [
    "def to_bytes(bytes_or_str):\n",
    "    if isinstance(bytes_or_str, str):\n",
    "        value = bytes_or_str.encode('utf-8')\n",
    "    else:\n",
    "        value = bytes_or_str\n",
    "    return value # instance of bytes\n",
    "print(repr(to_bytes(b'foo')))\n",
    "print(repr(to_bytes('bar')))"
   ]
  },
  {
   "source": [
    "Two big gotchas when dealing with raw 8-bit values and Unicode strings in Python\n",
    "- bytes and str seem to work the same way, but their instances are not compatible\n",
    "  with each other\n",
    "- operations involving file handlers (returned by the open built-in function) default\n",
    "  to requiring Unicode strings instead of raw bytes "
   ],
   "cell_type": "markdown",
   "metadata": {}
  },
  {
   "cell_type": "code",
   "execution_count": null,
   "metadata": {
    "tags": []
   },
   "outputs": [],
   "source": [
    "# + operator \n",
    "# this is fine\n",
    "print (b'one' + b'two')\n",
    "print ('one' + 'two')"
   ]
  },
  {
   "cell_type": "code",
   "execution_count": null,
   "metadata": {},
   "outputs": [],
   "source": [
    "# you can't add str instacnes to bytes instances\n",
    "b'one' + 'two' # error"
   ]
  },
  {
   "cell_type": "code",
   "execution_count": null,
   "metadata": {},
   "outputs": [],
   "source": [
    "# binary operators\n",
    "# this is fine\n",
    "assert b'red' > b'blue'\n",
    "assert 'red' > 'blue'"
   ]
  },
  {
   "cell_type": "code",
   "execution_count": null,
   "metadata": {},
   "outputs": [],
   "source": [
    "# you can't compare a str instance to a bytes instance\n",
    "assert 'red' > b'blue'"
   ]
  },
  {
   "cell_type": "code",
   "execution_count": null,
   "metadata": {
    "tags": []
   },
   "outputs": [],
   "source": [
    "# comparing bytes and str instances for equality will always evaluate to False\n",
    "print(b'foo' == 'foo')"
   ]
  },
  {
   "cell_type": "code",
   "execution_count": null,
   "metadata": {
    "tags": []
   },
   "outputs": [],
   "source": [
    "# the % operator works with format strings for each type\n",
    "print (b'red %s' % b'blue')\n",
    "print ('red %s' % 'blue')"
   ]
  },
  {
   "cell_type": "code",
   "execution_count": null,
   "metadata": {},
   "outputs": [],
   "source": [
    "# Python doesn't know what binary text encoding to use\n",
    "print (b'red %s' % 'blue') #error"
   ]
  },
  {
   "cell_type": "code",
   "execution_count": null,
   "metadata": {
    "tags": []
   },
   "outputs": [],
   "source": [
    "# this won't cause error, but the result is not what you would expect\n",
    "# internally the __repr__ method will be called on the bytes instance\n",
    "# the result will be used to substitute %s \n",
    "print ('red %s' % b'blue')"
   ]
  },
  {
   "cell_type": "code",
   "execution_count": null,
   "metadata": {},
   "outputs": [],
   "source": [
    "# you can't write binary data to a file opened in text mode\n",
    "with open('data.bin', 'w') as f:  \n",
    "    f.write(b'\\xf1\\xf2\\xf3\\xf4\\xf5') # error"
   ]
  },
  {
   "cell_type": "code",
   "execution_count": 1,
   "metadata": {},
   "outputs": [],
   "source": [
    "# change the open mode to 'wb' fixes the problem\n",
    "with open('data.bin', 'wb') as f:  \n",
    "    f.write(b'\\xf1\\xf2\\xf3\\xf4\\xf5')"
   ]
  },
  {
   "cell_type": "code",
   "execution_count": null,
   "metadata": {
    "tags": []
   },
   "outputs": [],
   "source": [
    "import locale\n",
    "print (locale.getpreferredencoding()) # my default encoding is cp1252"
   ]
  },
  {
   "cell_type": "code",
   "execution_count": null,
   "metadata": {
    "tags": []
   },
   "outputs": [],
   "source": [
    "# you just treat the binary data as a string encoded as 'cp1252'\n",
    "# the result is very different than you expect\n",
    "\n",
    "with open('data.bin', 'r') as f:\n",
    "    data = f.read()\n",
    "print(data)"
   ]
  },
  {
   "cell_type": "code",
   "execution_count": null,
   "metadata": {
    "tags": []
   },
   "outputs": [],
   "source": [
    "# change the mode to 'rb', and it works as expected\n",
    "with open('data.bin', 'rb') as f:\n",
    "    data = f.read()\n",
    "print(data) # b'\\xf1\\xf2\\xf3\\xf4\\xf5'"
   ]
  },
  {
   "cell_type": "code",
   "execution_count": null,
   "metadata": {},
   "outputs": [],
   "source": []
  }
 ]
}