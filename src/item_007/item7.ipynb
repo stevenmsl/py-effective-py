{
 "metadata": {
  "language_info": {
   "codemirror_mode": {
    "name": "ipython",
    "version": 3
   },
   "file_extension": ".py",
   "mimetype": "text/x-python",
   "name": "python",
   "nbconvert_exporter": "python",
   "pygments_lexer": "ipython3",
   "version": "3.8.3-final"
  },
  "orig_nbformat": 2,
  "kernelspec": {
   "name": "Python 3.8.3 64-bit ('python-features': pipenv)",
   "display_name": "Python 3.8.3 64-bit ('python-features': pipenv)",
   "metadata": {
    "interpreter": {
     "hash": "72d857dadf07e42bf16e31285434fc2d8f4ad38f240229afb6ae195783c32492"
    }
   }
  }
 },
 "nbformat": 4,
 "nbformat_minor": 2,
 "cells": [
  {
   "source": [
    "Item 6 Prefer Multiple Assignment Unpacking Over Indexing \n",
    "\n",
    "Things to Remember\n",
    "- Python has special syntax called unpacking for assigning multiple values\n",
    "  in a single statement.\n",
    "- Unpacking is generalized in Python and can be applied to any iterable,\n",
    "  including many levels of iterables within interables. \n",
    "- Reduce visual noise and increase code clarity by using unpacking to avoid\n",
    "  explicitly indexing into sequences\n"
   ],
   "cell_type": "markdown",
   "metadata": {}
  },
  {
   "cell_type": "code",
   "execution_count": null,
   "metadata": {
    "tags": []
   },
   "outputs": [],
   "source": [
    "# tuple - built-in type that can be used to create immutable, ordered sequences of values\n",
    "snack_calories = {\n",
    "    'chips': 140,\n",
    "    'popcorn': 80,\n",
    "    'nuts': 190\n",
    "}  \n",
    "\n",
    "items = tuple(snack_calories.items()) \n",
    "print(items)"
   ]
  },
  {
   "source": [
    "- The items() method returns a view object. \n",
    "- The view object contains the key-value pairs of the dictionary, as tuples in a list."
   ],
   "cell_type": "markdown",
   "metadata": {}
  },
  {
   "cell_type": "code",
   "execution_count": null,
   "metadata": {
    "tags": []
   },
   "outputs": [],
   "source": [
    "# Access values in tuples through numerical indexes\n",
    "item = ('Peanut butter', 'Jelly')\n",
    "first = item[0]\n",
    "second = item[1]\n",
    "print(first, 'and', second)"
   ]
  },
  {
   "cell_type": "code",
   "execution_count": null,
   "metadata": {},
   "outputs": [],
   "source": [
    "# once a tuple is created, it can't be modified\n",
    "pair = ('Chocolate', 'Peanut butter')\n",
    "pair[0] = 'Honey' # error\n"
   ]
  },
  {
   "cell_type": "code",
   "execution_count": null,
   "metadata": {
    "tags": []
   },
   "outputs": [],
   "source": [
    "# unpacking - allows for assigning multiple values in a single statement\n",
    "item = ('Peanut butter', 'Jelly')\n",
    "first, second = item # unpacking\n",
    "print(first, 'and', second)"
   ]
  },
  {
   "source": [
    "- Unpacking has less visual noise than accessing the tuple's indexes\n",
    "- Often requires fewer lines"
   ],
   "cell_type": "markdown",
   "metadata": {}
  },
  {
   "cell_type": "code",
   "execution_count": null,
   "metadata": {
    "tags": []
   },
   "outputs": [],
   "source": [
    "# unpacking - multiple levels of iterables\n",
    "favorite_snacks = {\n",
    "    'salty': ('pretzels', 100),\n",
    "    'sweet': ('cookies', 180),\n",
    "    'veggie': ('carrots', 20),\n",
    "}\n",
    "((type1,(name1, cals1)),\n",
    " (type2,(name2, cals2)),\n",
    " (type3,(name3, cals3))) = favorite_snacks.items()\n",
    "print(f'Favorite {type1} is {name1} with {cals1} calories')\n",
    "print(f'Favorite {type2} is {name2} with {cals2} calories')\n",
    "print(f'Favorite {type3} is {name3} with {cals3} calories')"
   ]
  },
  {
   "source": [
    "- this approach is not recommended\n",
    "- still need to know this is possible and how it works "
   ],
   "cell_type": "markdown",
   "metadata": {}
  },
  {
   "cell_type": "code",
   "execution_count": null,
   "metadata": {
    "tags": []
   },
   "outputs": [],
   "source": [
    "# using temporary variables\n",
    "def bubble_sort(a):\n",
    "    for _ in range(len(a)):\n",
    "        for i in range(1, len(a)):\n",
    "            if a[i] < a[i-1]:\n",
    "                temp = a[i]\n",
    "                a[i] = a[i-1]\n",
    "                a[i-1] = temp\n",
    "names = ['pretzels', 'carrots', 'arugula', 'bacon']\n",
    "bubble_sort(names)\n",
    "print (names)\n",
    "\n"
   ]
  },
  {
   "cell_type": "code",
   "execution_count": null,
   "metadata": {},
   "outputs": [],
   "source": [
    "\n"
   ]
  }
 ]
}