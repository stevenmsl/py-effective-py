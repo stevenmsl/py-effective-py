{
 "metadata": {
  "language_info": {
   "codemirror_mode": {
    "name": "ipython",
    "version": 3
   },
   "file_extension": ".py",
   "mimetype": "text/x-python",
   "name": "python",
   "nbconvert_exporter": "python",
   "pygments_lexer": "ipython3",
   "version": "3.8.3-final"
  },
  "orig_nbformat": 2,
  "kernelspec": {
   "name": "Python 3.8.3 64-bit ('.venv': venv)",
   "display_name": "Python 3.8.3 64-bit ('.venv': venv)",
   "metadata": {
    "interpreter": {
     "hash": "bf53ecf2be5b0c89778fbd17a3e30ef364a8b92138249caa59ed972682d3f38a"
    }
   }
  }
 },
 "nbformat": 4,
 "nbformat_minor": 2,
 "cells": [
  {
   "source": [
    "Item 8 Use zip to Process Iterators in Parallel   \n",
    "\n",
    "Things to Remember\n",
    "- The zip built-in function can be used to iterate over multiple iterators in parallel.\n",
    "- zip creates a lazy generator that produces tuples, so it can be used on infinitely long inputs.\n",
    "- zip truncates its output silently to the shortest iterator if you supply it with iterators of different length\n",
    "- Use the zip_longest function from the itertools built-in module if you want to use zip on iterators of unequal lengths without truncation.\n"
   ],
   "cell_type": "markdown",
   "metadata": {}
  },
  {
   "cell_type": "code",
   "execution_count": null,
   "metadata": {
    "tags": []
   },
   "outputs": [],
   "source": [
    "# list comprehensions\n",
    "names = ['Cecilia', 'Lise', 'Marie']\n",
    "counts = [len(n) for n in names]\n",
    "print(counts)"
   ]
  },
  {
   "source": [
    "- List comprehensions - take a source list and get a derived list by applying an expression\n",
    "- the items in the derived list are related to the items in the source list by their indexes "
   ],
   "cell_type": "markdown",
   "metadata": {}
  },
  {
   "cell_type": "code",
   "execution_count": null,
   "metadata": {},
   "outputs": [],
   "source": [
    "# iterate over both the source list and the derived list in parallel\n",
    "# a visually noisy implementation\n",
    "longest_name = None\n",
    "max_count = 0\n",
    "for i in range(len(names)):\n",
    "    count = counts[i] # indexing\n",
    "    if count > max_count:\n",
    "        longest_name = names[i] # indexing\n",
    "        max_count = count\n",
    "print(longest_name) "
   ]
  },
  {
   "cell_type": "code",
   "execution_count": null,
   "metadata": {
    "tags": []
   },
   "outputs": [],
   "source": [
    "# a slightly better approach using enumerate\n",
    "longest_name = None\n",
    "max_count = 0\n",
    "for i, name in enumerate(names):\n",
    "    count = counts[i]\n",
    "    if count > max_count:\n",
    "        longest_name = name\n",
    "        max_count =count\n",
    "print(longest_name)\n"
   ]
  },
  {
   "cell_type": "code",
   "execution_count": null,
   "metadata": {
    "tags": []
   },
   "outputs": [],
   "source": [
    "# a better approach using zip built-in function\n",
    "longest_name = None\n",
    "max_count = 0\n",
    "for name, count in zip(names, counts):\n",
    "    if count > max_count:\n",
    "        longest_name = name\n",
    "        max_count = count\n",
    "print(longest_name) \n"
   ]
  },
  {
   "source": [
    "- zip consumes the iterators it wraps one item at a time\n",
    "- it can be used with infinitely long inputs without risk of a program using too much memory and crashing. "
   ],
   "cell_type": "markdown",
   "metadata": {}
  },
  {
   "cell_type": "code",
   "execution_count": null,
   "metadata": {
    "tags": []
   },
   "outputs": [],
   "source": [
    "# beware of how zip handles input iterators of different lengths\n",
    "names.append('Rosalind')\n",
    "for name, count in zip(names, counts):\n",
    "    print(name) # you will not see 'Rosalind' "
   ]
  },
  {
   "source": [
    "- zip keeps yielding tuples until any of the wrapped iterators is exhausted\n",
    "- its output is as long as its shortest input "
   ],
   "cell_type": "markdown",
   "metadata": {}
  },
  {
   "cell_type": "code",
   "execution_count": 12,
   "metadata": {
    "tags": []
   },
   "outputs": [
    {
     "output_type": "stream",
     "name": "stdout",
     "text": "Cecilia: 7\nLise: 4\nMarie: 5\nRosalind: None\n"
    }
   ],
   "source": [
    "# if you don't expect the lengths of the lists \n",
    "# passed to zip to be equal do this\n",
    "import itertools\n",
    "for name, count in itertools.zip_longest(names,counts):\n",
    "    print(f'{name}: {count}')\n",
    "  "
   ]
  },
  {
   "cell_type": "code",
   "execution_count": null,
   "metadata": {},
   "outputs": [],
   "source": []
  }
 ]
}