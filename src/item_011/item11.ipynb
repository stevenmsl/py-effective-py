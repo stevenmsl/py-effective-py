{
 "metadata": {
  "language_info": {
   "codemirror_mode": {
    "name": "ipython",
    "version": 3
   },
   "file_extension": ".py",
   "mimetype": "text/x-python",
   "name": "python",
   "nbconvert_exporter": "python",
   "pygments_lexer": "ipython3",
   "version": "3.8.3-final"
  },
  "orig_nbformat": 2,
  "kernelspec": {
   "name": "Python 3.8.3 64-bit ('py-effective-py': pipenv)",
   "display_name": "Python 3.8.3 64-bit ('py-effective-py': pipenv)",
   "metadata": {
    "interpreter": {
     "hash": "bf53ecf2be5b0c89778fbd17a3e30ef364a8b92138249caa59ed972682d3f38a"
    }
   }
  }
 },
 "nbformat": 4,
 "nbformat_minor": 2,
 "cells": [
  {
   "source": [
    "Item 11 Know how to Slice Sequences   \n",
    "\n",
    "Things to Remember\n",
    "- Avoid being verbose when slicing: Don't supply 0 for the start index or the length of the sequence for the end index\n",
    "- Slicing is forgiving of start or end indexes that are out of bounds, which means it's easy to express slices on the front or back boundaries of a sequence (like a\\[:20\\] or a\\[-20:\\])\n",
    "- Assigning to a list slice replaces that range in the original sequence with what's referenced even if the lengths are different.       \n",
    "\n"
   ],
   "cell_type": "markdown",
   "metadata": {}
  },
  {
   "cell_type": "code",
   "execution_count": null,
   "metadata": {},
   "outputs": [],
   "source": [
    "a = ['a','b','c','d','e','f','g','h']\n",
    "print ('Middle two: ', a[3:5])\n",
    "print ('All but ends:', a[1:7])"
   ]
  },
  {
   "source": [
    "- slicing allows you to access a subset of a sequence's items with minimal effort\n",
    "- slicing can be extended to any class that implements the \\__getitem\\__ and \\__setitem\\__ special methods\n",
    "- basic syntax somelist\\[start:end\\], where start is inclusive and end is exclusive"
   ],
   "cell_type": "markdown",
   "metadata": {}
  },
  {
   "cell_type": "code",
   "execution_count": null,
   "metadata": {},
   "outputs": [],
   "source": [
    "# leave out the zero index to reduce visual noise\n",
    "assert a[:5] == a[0:5] \n",
    "# leave out the final index as well\n",
    "assert a[5:] == a[5:len(a)]\n",
    "\n"
   ]
  },
  {
   "cell_type": "code",
   "execution_count": null,
   "metadata": {},
   "outputs": [],
   "source": [
    "# use negative numbers for slicing\n",
    "print(a[:-1]) # ['a', 'b', 'c', 'd', 'e', 'f', 'g']\n",
    "print(a[-3:]) # ['f', 'g', 'h']\n",
    "print(a[2:-1]) # ['c', 'd', 'e', 'f', 'g']\n",
    "print(a[-3:-1]) # ['f', 'g'] "
   ]
  },
  {
   "source": [
    "- the final index is -1\n",
    "- the second to the final index is -2 "
   ],
   "cell_type": "markdown",
   "metadata": {}
  },
  {
   "cell_type": "code",
   "execution_count": null,
   "metadata": {},
   "outputs": [],
   "source": [
    "# out-of-bound is fine in slicing\n",
    "first_twenty_items = a[:20]\n",
    "last_twenty_items = a[-20:]"
   ]
  },
  {
   "source": [
    "- slicing deals with start and end indexes that are beyond the boundaries of a list by silently omitting missing items\n",
    "- this behavior makes it easy for your code to establish a maximum length to consider for an input sequence  "
   ],
   "cell_type": "markdown",
   "metadata": {}
  },
  {
   "cell_type": "code",
   "execution_count": null,
   "metadata": {},
   "outputs": [],
   "source": [
    "# not so in indexing\n",
    "a[20] # error"
   ]
  },
  {
   "cell_type": "code",
   "execution_count": null,
   "metadata": {},
   "outputs": [],
   "source": [
    "# slicing will create a whole new list \n",
    "b = a[3:]\n",
    "print('Before: ', b)\n",
    "b[1] = 99\n",
    "print('After:  ', b)\n",
    "print('No change:', a) # won't affect the original list:"
   ]
  },
  {
   "cell_type": "code",
   "execution_count": null,
   "metadata": {},
   "outputs": [],
   "source": [
    "# when used in assignments, slices replace the specified range in the original list\n",
    "a = ['a','b','c','d','e','f','g','h']\n",
    "print('Before ', a)\n",
    "a[2:7] = [99, 22, 14] # the list shrinks\n",
    "print('List shrinks  ', a)\n",
    "a[2:3] = [47, 11] # the list extends\n",
    "print('List extends  ', a)\n"
   ]
  },
  {
   "cell_type": "code",
   "execution_count": null,
   "metadata": {},
   "outputs": [],
   "source": [
    "# to copy the original leave out the start and the end indexes when slicing\n",
    "b = a[:]\n",
    "assert b == a and b is not a"
   ]
  },
  {
   "cell_type": "code",
   "execution_count": null,
   "metadata": {},
   "outputs": [],
   "source": [
    "# if you assign the list to a slice with no start or end indexes, \n",
    "# you replace the entire contents of the list with a copy of \n",
    "# what's referenced \n",
    "b = a\n",
    "print('Before a', a)\n",
    "print('Before b', b)\n",
    "assert a is b # still the same list object\n",
    "a[:] = [101, 102, 103]\n",
    "print('After a ', a) # now has different contents\n",
    "print('After b ', b) # same list, so same contents as a"
   ]
  },
  {
   "cell_type": "code",
   "execution_count": null,
   "metadata": {},
   "outputs": [],
   "source": []
  }
 ]
}