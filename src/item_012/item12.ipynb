{
 "metadata": {
  "language_info": {
   "codemirror_mode": {
    "name": "ipython",
    "version": 3
   },
   "file_extension": ".py",
   "mimetype": "text/x-python",
   "name": "python",
   "nbconvert_exporter": "python",
   "pygments_lexer": "ipython3",
   "version": "3.8.3-final"
  },
  "orig_nbformat": 2,
  "kernelspec": {
   "name": "Python 3.8.3 64-bit ('py-effective-py': pipenv)",
   "display_name": "Python 3.8.3 64-bit ('py-effective-py': pipenv)",
   "metadata": {
    "interpreter": {
     "hash": "bf53ecf2be5b0c89778fbd17a3e30ef364a8b92138249caa59ed972682d3f38a"
    }
   }
  }
 },
 "nbformat": 4,
 "nbformat_minor": 2,
 "cells": [
  {
   "source": [
    "Item 12 Avoid Striding and Slicing in a Single Expression     \n",
    "\n",
    "Things to Remember\n",
    "- Specifying start, end, and stride in a slice can be extremely confusing\n",
    "- Prefer using positive stride values in slices without start or end indexes. Avoid negative stride values if possible\n",
    "- Avoid using start, end, and stride together in a single slice. If you need all three parameters, consider doing two assignments (one to stride and another to slice) or using islice from itertools built-in module         \n",
    "\n"
   ],
   "cell_type": "markdown",
   "metadata": {}
  },
  {
   "cell_type": "code",
   "execution_count": null,
   "metadata": {},
   "outputs": [],
   "source": [
    "# specify the stride of a slice\n",
    "x = ['red', 'orange', 'yellow', 'green', 'blue', 'purple']\n",
    "odds = x[::2]\n",
    "evens = x[1::2]\n",
    "print(odds)\n",
    "print(evens)"
   ]
  },
  {
   "source": [
    "- stride lets you take every nth item when slicing a sequence\n",
    "- its syntax: \\[start:end:stride\\]\n"
   ],
   "cell_type": "markdown",
   "metadata": {}
  },
  {
   "cell_type": "code",
   "execution_count": null,
   "metadata": {},
   "outputs": [],
   "source": [
    "# use stride to reverse a byte string - a common trick\n",
    "x = b'mongoose'\n",
    "y = x[::-1] # starts from the end and then moves backward\n",
    "print(y)"
   ]
  },
  {
   "cell_type": "code",
   "execution_count": null,
   "metadata": {},
   "outputs": [],
   "source": [
    "# same trick works for Unicode strings\n",
    "x = '壽司' # sushi\n",
    "y = x[::-1]\n",
    "print(y)"
   ]
  },
  {
   "cell_type": "code",
   "execution_count": null,
   "metadata": {},
   "outputs": [],
   "source": [
    "# but breaks for UTF-8\n",
    "w = '壽司' # sushi\n",
    "x = w.encode('utf-8')\n",
    "y = x[::-1]\n",
    "z = y.decode('utf-8') # error: invalid start byte"
   ]
  },
  {
   "source": [
    "- the stride syntax often causes unexpected behavior that can introduce bugs"
   ],
   "cell_type": "markdown",
   "metadata": {}
  },
  {
   "cell_type": "code",
   "execution_count": null,
   "metadata": {},
   "outputs": [],
   "source": [
    "# now are negative strides besides -1 useful?\n",
    "x = ['a','b','c','d','e','f','g','h']\n",
    "print(x[::2]) # select every second item starting at the beginning\n",
    "print(x[::-2]) # select every second item starting at the end and moving backward"
   ]
  },
  {
   "cell_type": "code",
   "execution_count": null,
   "metadata": {},
   "outputs": [],
   "source": [
    "# it gets more confusing\n",
    "print(x[2::2]) # ['c', 'e', 'g']\n",
    "print(x[-2::-2]) # ['g', 'e', 'c', 'a']\n",
    "print(x[-2:2:-2]) # ['g', 'e']\n",
    "print(x[2:2:-2]) # []"
   ]
  },
  {
   "source": [
    "- the stride part of the slicing syntax can be extremely confusing\n",
    "- it's not obvious when the start and end indexes come into effect relative to the stride value, especially when the stride is negative\n",
    "- better avoid using a stride along with start and end indexes  "
   ],
   "cell_type": "markdown",
   "metadata": {}
  },
  {
   "cell_type": "code",
   "execution_count": null,
   "metadata": {},
   "outputs": [],
   "source": [
    "# use one assignment for striding and another for slicing to avoid confusion\n",
    "y = x[::2] # should try to reduce the size of the resulting slice by as much as possible\n",
    "z = y[1:-1] # slicing\n",
    "print(z) "
   ]
  },
  {
   "source": [
    "- striding and then slicing create an extra shallow copy of the data\n",
    "- if you program can't afford the time or memory required for two steps, consider using the itertools built-in module's islice method (Item 36) "
   ],
   "cell_type": "markdown",
   "metadata": {}
  }
 ]
}