{
 "metadata": {
  "language_info": {
   "codemirror_mode": {
    "name": "ipython",
    "version": 3
   },
   "file_extension": ".py",
   "mimetype": "text/x-python",
   "name": "python",
   "nbconvert_exporter": "python",
   "pygments_lexer": "ipython3",
   "version": "3.8.3-final"
  },
  "orig_nbformat": 2,
  "kernelspec": {
   "name": "Python 3.8.3 64-bit ('py-effective-py': pipenv)",
   "display_name": "Python 3.8.3 64-bit ('py-effective-py': pipenv)",
   "metadata": {
    "interpreter": {
     "hash": "bf53ecf2be5b0c89778fbd17a3e30ef364a8b92138249caa59ed972682d3f38a"
    }
   }
  }
 },
 "nbformat": 4,
 "nbformat_minor": 2,
 "cells": [
  {
   "source": [
    "Item 13 Prefer Catch-All Unpacking Over Slicing     \n",
    "\n",
    "Things to Remember\n",
    "- Unpacking assignments may use a starred expression to catch all values that weren't assigned to the other parts of the unpacking pattern into a list \n",
    "- Starred expressions may appear in any position, and they will always become a list containing the zero or more values they receive\n",
    "- When dividing a list into non-overlapping pieces, catch-all unpacking is much less error prone than slicing and indexing"
   ],
   "cell_type": "markdown",
   "metadata": {}
  },
  {
   "cell_type": "code",
   "execution_count": null,
   "metadata": {},
   "outputs": [],
   "source": [
    "# basic unpacking requires you to know the length of the sequences \n",
    "# you're unpacking in advance\n",
    "car_ages = [0, 9, 4, 8, 7, 20, 19, 1, 6, 15]\n",
    "car_ages_descending = sorted(car_ages, reverse = True)\n",
    "oldest, second_oldest = car_ages_descending # error: too many values to unpack "
   ]
  },
  {
   "cell_type": "code",
   "execution_count": null,
   "metadata": {},
   "outputs": [],
   "source": [
    "# a visually noisy approach to resolve the error: using indexing and slicing\n",
    "oldest = car_ages_descending[0]\n",
    "second_oldest = car_ages_descending[1]\n",
    "others = car_ages_descending[2:]\n",
    "print(oldest, second_oldest, others)"
   ]
  },
  {
   "cell_type": "code",
   "execution_count": null,
   "metadata": {},
   "outputs": [],
   "source": [
    "# catch-all unpacking through starred expression\n",
    "oldest, second_oldest, *others = car_ages_descending\n",
    "print(oldest, second_oldest, others)"
   ]
  },
  {
   "cell_type": "code",
   "execution_count": null,
   "metadata": {},
   "outputs": [],
   "source": [
    "# a starred expression can appear in any position\n",
    "oldest, *others, youngest = car_ages_descending\n",
    "print(oldest, youngest, others)\n",
    "*others, second_youngest, youngest = car_ages_descending\n",
    "print(youngest, second_youngest, others)"
   ]
  },
  {
   "cell_type": "code",
   "execution_count": null,
   "metadata": {},
   "outputs": [],
   "source": [
    "# can't use a catch-all expression on its own\n",
    "*others = car_ages_descending # error"
   ]
  },
  {
   "cell_type": "code",
   "execution_count": null,
   "metadata": {},
   "outputs": [],
   "source": [
    "# can't use multiple catch-all expressions in a single-level unpacking pattern\n",
    "first, *middle, *second_middle, last = [1,2,3,4] # error"
   ]
  },
  {
   "cell_type": "code",
   "execution_count": null,
   "metadata": {},
   "outputs": [],
   "source": [
    "# not recommend doing the following, but you still need to understand this is possible\n",
    "car_inventory = {\n",
    "    'Downtown':('Silver Shadow', 'Pinto', 'DMC'),\n",
    "    'Airport':('Skyline', 'Viper', 'Gremlin', 'Nova')\n",
    "}\n",
    "# unpack multilevel structure\n",
    "((loc1, (best1, *rest1)),\n",
    "(loc2, (best2, *rest2))) = car_inventory.items()\n",
    "print(f'Best at {loc1} is {best1}, {len(rest1)} others')\n",
    "print(f'Best at {loc2} is {best2}, {len(rest2)} others')\n"
   ]
  },
  {
   "cell_type": "code",
   "execution_count": null,
   "metadata": {},
   "outputs": [],
   "source": [
    "# starred expressions become list instances in all cases\n",
    "short_list = [1, 2]\n",
    "first, second, *rest = short_list\n",
    "print(first, second, rest)"
   ]
  },
  {
   "cell_type": "code",
   "execution_count": null,
   "metadata": {},
   "outputs": [],
   "source": [
    "# unpack arbitrary iterators\n",
    "it = iter(range(1,3))\n",
    "first, second = it\n",
    "print(f'{first} and {second}')"
   ]
  },
  {
   "cell_type": "code",
   "execution_count": null,
   "metadata": {},
   "outputs": [],
   "source": [
    "def generate_csv():\n",
    "    yield('Date', 'Make', 'Model', 'Year', 'Price')\n",
    "    yield( '2020-10-19' , 'Toyota', 'Rav4', '2021', '44000')\n",
    "    yield( '2020-10-19' , 'Toyota', 'Rav4', '2021', '44000')\n",
    "    yield( '2020-10-19' , 'Toyota', 'Rav4', '2021', '44000')\n",
    "    yield( '2020-10-19' , 'Toyota', 'Rav4', '2021', '44000')"
   ]
  },
  {
   "cell_type": "code",
   "execution_count": null,
   "metadata": {},
   "outputs": [],
   "source": [
    "# a visually noisy implementation - using indexes and slicing\n",
    "all_csv_rows = list(generate_csv())\n",
    "header = all_csv_rows[0]\n",
    "rows = all_csv_rows[1:]\n",
    "print('CSV Header:', header)\n",
    "print('Row count:', len(rows))\n"
   ]
  },
  {
   "cell_type": "code",
   "execution_count": null,
   "metadata": {},
   "outputs": [],
   "source": [
    "# unpacking with a starred expression\n",
    "it = generate_csv();\n",
    "header, *rows = it\n",
    "print('CSV Header:', header)\n",
    "print('Row count:', len(rows))\n"
   ]
  },
  {
   "source": [
    "- a starred expression is always turned into a list\n",
    "- unpacking an iterator also risks the potential of using up all the memory on your computer and causing your program to crash\n",
    "- use it only when you have a good reason to believe that the result data will all fit in memory  "
   ],
   "cell_type": "markdown",
   "metadata": {}
  }
 ]
}