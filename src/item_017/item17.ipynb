{
 "metadata": {
  "language_info": {
   "codemirror_mode": {
    "name": "ipython",
    "version": 3
   },
   "file_extension": ".py",
   "mimetype": "text/x-python",
   "name": "python",
   "nbconvert_exporter": "python",
   "pygments_lexer": "ipython3",
   "version": "3.8.3-final"
  },
  "orig_nbformat": 2,
  "kernelspec": {
   "name": "Python 3.8.3 64-bit ('.venv': venv)",
   "display_name": "Python 3.8.3 64-bit ('.venv': venv)",
   "metadata": {
    "interpreter": {
     "hash": "bf53ecf2be5b0c89778fbd17a3e30ef364a8b92138249caa59ed972682d3f38a"
    }
   }
  }
 },
 "nbformat": 4,
 "nbformat_minor": 2,
 "cells": [
  {
   "source": [
    "Item 17 Prefer defaultdict Over setdefault to Handle Missing Items in Internal State\n",
    "\n",
    "Things to Remember\n",
    "- If you're creating a dictionary to manage an arbitrary set of potential keys, then you should prefer using a defaultdict instance from the collections built-in module if it suits your problem\n",
    "- If a dictionary of arbitrary keys is passed to you, and you don't cotrol its creation, then you should prefer the get method to access its items. However, it's worth considering using the setdefault method for the few situations in which it leads to shorter code "
   ],
   "cell_type": "markdown",
   "metadata": {}
  },
  {
   "cell_type": "code",
   "execution_count": null,
   "metadata": {},
   "outputs": [],
   "source": [
    "\n",
    "visits = { # visits is a dict\n",
    "    'Mexico': {'Tulum', 'Puerto Vallarta'}, # visits['Mexico'] is a set\n",
    "    'Japan': {'Hakone'}\n",
    "}"
   ]
  },
  {
   "source": [
    "- use set() to create an empty set\n",
    "- We cannot create empty sets using { } syntax as it creates an empty dictionary. \n",
    "- A set is an unordered collection of items.\n",
    "- Every set element is unique (no duplicates) and must be immutable (cannot be changed).\n",
    "- However, a set itself is mutable. We can add or remove items from it."
   ],
   "cell_type": "markdown",
   "metadata": {}
  },
  {
   "cell_type": "code",
   "execution_count": null,
   "metadata": {},
   "outputs": [],
   "source": [
    "# - when you don't control the dict creation, \n",
    "#   you have to create a new set when adding \n",
    "#   a new key to the dict\n",
    " \n",
    "# the using 'get' method approach is preferred\n",
    "if (japan := visits.get('Japan')) is None:\n",
    "    visits['Japan'] = japan = set() # initialize it to an new empty set\n",
    "japan.add('Kyoto')\n",
    "\n",
    "# - the using setdefault method can give you shorter code\n",
    "# - this is worth considering as the overhead is the same \n",
    "#   as the using 'get' method approach but with shorter code\n",
    "visits.setdefault('France', set()).add('Arles')\n",
    "print(visits)"
   ]
  },
  {
   "cell_type": "code",
   "execution_count": null,
   "metadata": {},
   "outputs": [],
   "source": [
    "# - when you do control the dict creation cases like you're using a dict instance\n",
    "#   to keep track of the internal state of a class \n",
    "\n",
    "class Visits:\n",
    "    def __init__(self):\n",
    "        self.data = {} # data is a dict\n",
    "    def add(self, country, city):\n",
    "        # - use setdefault make it a bit harder to understand\n",
    "        #   as described in Item 16\n",
    "        # - a new set instance will be constructed on every call\n",
    "        #   which isn't efficient \n",
    "        city_set = self.data.setdefault(country, set())\n",
    "        city_set.add(city)\n",
    "\n",
    "visits = Visits()\n",
    "visits.add('Russia', 'Yekaterinburg')\n",
    "visits.add('Tanzania', 'Zanzibar')\n",
    "print(visits.data)"
   ]
  },
  {
   "source": [
    "- the defaultdict class from the collections built-in module automatically stores a default value when a key doesn't exist\n",
    "- you provide a function that will return the default value to the defaultdict constructor\n"
   ],
   "cell_type": "markdown",
   "metadata": {}
  },
  {
   "cell_type": "code",
   "execution_count": null,
   "metadata": {},
   "outputs": [],
   "source": [
    "from collections import defaultdict\n",
    "\n",
    "class Visits:\n",
    "    def __init__(self):\n",
    "        # - I am assuming the set method will only \n",
    "        #   be called once, and the result (default value) will be \n",
    "        #   stored and reused. Otherwise there will be no \n",
    "        #   performance gain over the setdefault method approach\n",
    "        self.data = defaultdict(set)\n",
    "    def add(self, country, city):\n",
    "        self.data[country].add(city)\n",
    "visits = Visits()\n",
    "visits.add('England', 'Bath')\n",
    "visits.add('England', 'London')\n",
    "print(visits.data)\n"
   ]
  },
  {
   "cell_type": "code",
   "execution_count": null,
   "metadata": {},
   "outputs": [],
   "source": []
  }
 ]
}