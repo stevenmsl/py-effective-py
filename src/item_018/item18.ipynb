{
 "metadata": {
  "language_info": {
   "codemirror_mode": {
    "name": "ipython",
    "version": 3
   },
   "file_extension": ".py",
   "mimetype": "text/x-python",
   "name": "python",
   "nbconvert_exporter": "python",
   "pygments_lexer": "ipython3",
   "version": "3.8.3-final"
  },
  "orig_nbformat": 2,
  "kernelspec": {
   "name": "Python 3.8.3 64-bit ('.venv': venv)",
   "display_name": "Python 3.8.3 64-bit ('.venv': venv)",
   "metadata": {
    "interpreter": {
     "hash": "bf53ecf2be5b0c89778fbd17a3e30ef364a8b92138249caa59ed972682d3f38a"
    }
   }
  }
 },
 "nbformat": 4,
 "nbformat_minor": 2,
 "cells": [
  {
   "source": [
    "Item 18 Know How to Construct Key-Dependent Default Values with __missing__ \n",
    "\n",
    "Things to Remember\n",
    "- The setdefault method of dict is a bad fit when creating the default value has high computational cost or may raise exceptions\n",
    "- The function passed to defaultdict must not require any arguments, which makes it impossible to have the default value depend on the key being accessed\n",
    "- You can define your own dict subclass with a __missing__ method in order to construct default values that must know which key was being accessed"
   ],
   "cell_type": "markdown",
   "metadata": {}
  },
  {
   "cell_type": "code",
   "execution_count": null,
   "metadata": {},
   "outputs": [],
   "source": [
    "pictures = {}\n",
    "path = 'cat.png'"
   ]
  },
  {
   "cell_type": "code",
   "execution_count": null,
   "metadata": {},
   "outputs": [],
   "source": [
    "# - map picture pathnames to open file handlers\n",
    "# - you will attempt to open the file only if the\n",
    "#   path does not exit in the dict yet\n",
    "# - worst case: one access and one assignment\n",
    "\n",
    "if (handle := pictures.get(path)) is None: # access key\n",
    "    try:\n",
    "        # different key (path) will have different value (handler)\n",
    "        handle = open(path, 'r+b') # file handler\n",
    "    except OSError:\n",
    "        print(f'Failed to open path {path}')\n",
    "        raise\n",
    "    else:\n",
    "        # assignment\n",
    "        pictures[path] = handle # add the handler to the dict\n",
    "handle.seek(0)\n",
    "image_data = handle.read()\n",
    "print(pictures)"
   ]
  },
  {
   "cell_type": "code",
   "execution_count": null,
   "metadata": {},
   "outputs": [],
   "source": [
    "# let see if you can use the setdefault method approach\n",
    "try:\n",
    "    handle = pictures.setdefault(path, open(path, 'r+b'))\n",
    "except OSError:\n",
    "    print(f'Failed to open path {path}')\n",
    "    raise\n",
    "else:\n",
    "    handle.seek(0)\n",
    "    image_data = handle.read() \n",
    "\n",
    "print(pictures)\n"
   ]
  },
  {
   "source": [
    "Two issues with the setdefault method approach\n",
    "- whenever you access the key the open method will always be called even if the key already exists in the dict\n",
    "- if both setdefault and open raise exceptions at the same time you might not be able to differentiate them \n"
   ],
   "cell_type": "markdown",
   "metadata": {}
  },
  {
   "cell_type": "code",
   "execution_count": null,
   "metadata": {},
   "outputs": [],
   "source": [
    "# how about using defaultdict\n",
    "from collections import defaultdict\n",
    "\n",
    "def open_picture(profile_path):\n",
    "    try:\n",
    "        return open(path, 'r+b')\n",
    "    except OSError:\n",
    "        print(f'Failed to open path {profile_path}')\n",
    "        raise\n",
    "# - the function you pass to the constructor can't have\n",
    "#   arguments \n",
    "pictures = defaultdict(open_picture) # error:  missing 1 required positional argument  \n",
    "handle = pictures[path]\n",
    "handle.seek(0)\n",
    "image_data = handle.read()\n",
    "\n"
   ]
  },
  {
   "cell_type": "code",
   "execution_count": 13,
   "metadata": {},
   "outputs": [],
   "source": [
    "# subclass the dict type and implement the __missing__ special method\n",
    "class Pictures(dict):\n",
    "    def __missing__(self, key):\n",
    "        value = open_picture(key)\n",
    "        self[key] = value\n",
    "        return value\n",
    "pictures = Pictures()\n",
    "handle = pictures[path]\n",
    "handle.seek(0)\n",
    "image_data = handle.read()"
   ]
  },
  {
   "source": [
    "- the pictures\\[path\\] dictionary access finds that the path key isn't present in the dictionary, the __missing__ method is called\n",
    "- the __missing__ method must create the value for the key, insert it into the dictionary, and return it to the caller\n",
    "- Subsequent accesses of the same path will not call __missing__ since the corresponding item is already present"
   ],
   "cell_type": "markdown",
   "metadata": {}
  }
 ]
}